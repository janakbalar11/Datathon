{
 "cells": [
  {
   "cell_type": "code",
   "execution_count": 1,
   "metadata": {
    "collapsed": false
   },
   "outputs": [
   ],
   "source": [
    "import pandas as pd\n",
    "import numpy as np"
   ]
  },
  {
   "cell_type": "markdown",
   "metadata": {
    "collapsed": false
   },
   "source": [
    "Possible Analysis Points\n",
    "\n",
    "- Sellers with highest reviews scores/ popular seller prices\n",
    "- Reviews score per region\n",
    "- Delivery time per region\n",
    "- average items bought per category at a time\n",
    "- \n",
    "- Review for category for product\n",
    "- How many customer pay in installments\n",
    "\n"
   ]
  },
  {
   "cell_type": "code",
   "execution_count": 2,
   "metadata": {
    "collapsed": false
   },
   "outputs": [
   ],
   "source": [
    "#Datasets\n",
    "customerData = pd.read_csv(\"olist_customers_dataset.csv\")\n",
    "geolocation = pd.read_csv(\"olist_geolocation_dataset.csv\")\n",
    "payments = pd.read_csv(\"olist_order_payments_dataset.csv\")\n",
    "\n",
    "products = pd.read_csv(\"olist_products_dataset.csv\")\n",
    "prod_cat = pd.read_csv(\"product_category_name_translation.csv\")\n",
    "\n",
    "order_reviews= pd.read_csv(\"olist_order_reviews_dataset 2.csv\")\n",
    "order_items = pd.read_csv(\"olist_order_items_dataset.csv\")\n",
    "orders = pd.read_csv(\"olist_orders_dataset.csv\")\n",
    "\n",
    "sellers = pd.read_csv(\"olist_sellers_dataset.csv\")\n",
    "\n",
    "\n",
    "\n",
    "\n"
   ]
  },
  {
   "cell_type": "markdown",
   "metadata": {
    "collapsed": false
   },
   "source": [
    "<span style='font-size:large'>CLEANED DATA</span>\n",
    "\n",
    "- <span style='font-size:medium'>products\\_clean</span>\n",
    "- <span style='font-size:large'>order\\_items\\_clean</span>\n",
    "- <span style='font-size:medium'>order\\_revieworder\\_res\\_clean2</span>\n",
    "\n",
    "<span style='font-size:x-large'>ALREADY CLEAN</span>\n",
    "\n",
    "- Customers\n",
    "- geolocation\n",
    "- payments\n",
    "- Sellers\n",
    "- Orders\n",
    "\n"
   ]
  },
  {
   "cell_type": "code",
   "execution_count": 3,
   "metadata": {
    "collapsed": false,
    "scrolled": true
   },
   "outputs": [
    {
     "name": "stdout",
     "output_type": "stream",
     "text": [
      "99441\n"
     ]
    },
    {
     "data": {
      "text/plain": [
       "8d50f5eadf50201ccdcedfb9e2ac8455    17\n",
       "3e43e6105506432c953e165fb2acf44c     9\n",
       "1b6c7548a2a1f9037c1fd3ddfed95f33     7\n",
       "ca77025e7201e3b30c44b472ff346268     7\n",
       "6469f99c1f9dfae7733b25662e7f1782     7\n",
       "                                    ..\n",
       "081f07439678af2da7755a0aa572154d     1\n",
       "9c57789a6a587f4efcfb01e36c106014     1\n",
       "9e4c21635f640562de1a6976374fba03     1\n",
       "06c0ea6ee892364d1608ee47aa9f56a0     1\n",
       "84732c5050c01db9b23e19ba39899398     1\n",
       "Name: customer_unique_id, Length: 96096, dtype: int64"
      ]
     },
     "execution_count": 3,
     "metadata": {
     },
     "output_type": "execute_result"
    }
   ],
   "source": [
    "print(len(customerData))\n",
    "customer_count= customerData['customer_unique_id'].value_counts()\n",
    "\n",
    "customer_count"
   ]
  },
  {
   "cell_type": "code",
   "execution_count": 21,
   "metadata": {
    "collapsed": false
   },
   "outputs": [
    {
     "name": "stdout",
     "output_type": "stream",
     "text": [
      "sao paulo               160718\n",
      "rio de janeiro           62151\n",
      "belo horizonte           27805\n",
      "curitiba                 16593\n",
      "porto alegre             13521\n",
      "                         ...  \n",
      "baía formosa                 1\n",
      "herval doeste                1\n",
      "cachoeira dos índios         1\n",
      "joca claudino                1\n",
      "casserengue                  1\n",
      "Name: geolocation_city, Length: 8010, dtype: int64\n"
     ]
    }
   ],
   "source": [
    "\n",
    "\n",
    "# print(len(geolocation))\n",
    "geolocation_new = geolocation.replace(['são paulo'],['sao paulo'])\n",
    "cities=geolocation_new['geolocation_city'].value_counts()\n",
    "saoPaulo = geolocation[(geolocation_new == 'sao paulo').any(axis=1)]\n",
    "print(cities)"
   ]
  },
  {
   "cell_type": "markdown",
   "metadata": {
    "collapsed": false
   },
   "source": [
    "# Work with Cities\n",
    "\n"
   ]
  },
  {
   "cell_type": "code",
   "execution_count": 22,
   "metadata": {
    "collapsed": false
   },
   "outputs": [
    {
     "data": {
      "text/plain": [
       "sao paulo            15540\n",
       "rio de janeiro        6882\n",
       "belo horizonte        2773\n",
       "brasilia              2131\n",
       "curitiba              1521\n",
       "                     ...  \n",
       "bequimao                 1\n",
       "andarai                  1\n",
       "vargem grande            1\n",
       "curvelandia              1\n",
       "eugenio de castro        1\n",
       "Name: customer_city, Length: 4119, dtype: int64"
      ]
     },
     "execution_count": 22,
     "metadata": {
     },
     "output_type": "execute_result"
    }
   ],
   "source": [
    "customerData_clean= customerData.replace(['são paulo'],['sao paulo'])\n",
    "customerData_clean[\"customer_city\"].value_counts()\n",
    "\n"
   ]
  },
  {
   "cell_type": "code",
   "execution_count": 23,
   "metadata": {
    "collapsed": false
   },
   "outputs": [
    {
     "data": {
      "text/plain": [
       "2        4e7b3e00288586ebd08712fdd0374a03\n",
       "6        fd826e7cf63160e536e0908c76c3f441\n",
       "13       eabebad39a88bb6f5b52376faec28612\n",
       "18       9b8ce803689b3562defaad4613ef426f\n",
       "22       2938121a40a20953c43caa8c98787fcb\n",
       "                       ...               \n",
       "99408    f6c6d3e1e20969a5eed982163f959719\n",
       "99411    da37711b17efd5f2539e8196ab215f04\n",
       "99422    821a7275a08f32975caceff2e08ea262\n",
       "99423    c6ece8a5137f3c9c3a3a12302a19a2ac\n",
       "99436    17ddf5dd5d51696bb3d7c6291687be6f\n",
       "Name: customer_id, Length: 15540, dtype: object"
      ]
     },
     "execution_count": 23,
     "metadata": {
     },
     "output_type": "execute_result"
    }
   ],
   "source": [
    "#Sao Paulo\n",
    "saoPauloCustomerData = customerData_clean[(customerData_clean == 'sao paulo').any(axis=1)]\n",
    "customer_idSP= saoPauloCustomerData.iloc[:,0]\n",
    "customers_idSP_list = customer_idSP.to_list()\n",
    "type(customers_idSP_list[0])\n",
    "customer_idSP\n",
    "#customers_idSP_list\n"
   ]
  },
  {
   "cell_type": "code",
   "execution_count": 24,
   "metadata": {
    "collapsed": false
   },
   "outputs": [
    {
     "data": {
      "text/html": [
       "<div>\n",
       "<style scoped>\n",
       "    .dataframe tbody tr th:only-of-type {\n",
       "        vertical-align: middle;\n",
       "    }\n",
       "\n",
       "    .dataframe tbody tr th {\n",
       "        vertical-align: top;\n",
       "    }\n",
       "\n",
       "    .dataframe thead th {\n",
       "        text-align: right;\n",
       "    }\n",
       "</style>\n",
       "<table border=\"1\" class=\"dataframe\">\n",
       "  <thead>\n",
       "    <tr style=\"text-align: right;\">\n",
       "      <th></th>\n",
       "      <th>order_id</th>\n",
       "      <th>customer_id</th>\n",
       "      <th>order_status</th>\n",
       "      <th>order_purchase_timestamp</th>\n",
       "      <th>order_approved_at</th>\n",
       "      <th>order_delivered_carrier_date</th>\n",
       "      <th>order_delivered_customer_date</th>\n",
       "      <th>order_estimated_delivery_date</th>\n",
       "    </tr>\n",
       "  </thead>\n",
       "  <tbody>\n",
       "    <tr>\n",
       "      <th>0</th>\n",
       "      <td>e481f51cbdc54678b7cc49136f2d6af7</td>\n",
       "      <td>9ef432eb6251297304e76186b10a928d</td>\n",
       "      <td>delivered</td>\n",
       "      <td>2017-10-02 10:56:33</td>\n",
       "      <td>2017-10-02 11:07:15</td>\n",
       "      <td>2017-10-04 19:55:00</td>\n",
       "      <td>2017-10-10 21:25:13</td>\n",
       "      <td>2017-10-18 00:00:00</td>\n",
       "    </tr>\n",
       "    <tr>\n",
       "      <th>11</th>\n",
       "      <td>34513ce0c4fab462a55830c0989c7edb</td>\n",
       "      <td>7711cf624183d843aafe81855097bc37</td>\n",
       "      <td>delivered</td>\n",
       "      <td>2017-07-13 19:58:11</td>\n",
       "      <td>2017-07-13 20:10:08</td>\n",
       "      <td>2017-07-14 18:43:29</td>\n",
       "      <td>2017-07-19 14:04:48</td>\n",
       "      <td>2017-08-08 00:00:00</td>\n",
       "    </tr>\n",
       "    <tr>\n",
       "      <th>13</th>\n",
       "      <td>5ff96c15d0b717ac6ad1f3d77225a350</td>\n",
       "      <td>19402a48fe860416adf93348aba37740</td>\n",
       "      <td>delivered</td>\n",
       "      <td>2018-07-25 17:44:10</td>\n",
       "      <td>2018-07-25 17:55:14</td>\n",
       "      <td>2018-07-26 13:16:00</td>\n",
       "      <td>2018-07-30 15:52:25</td>\n",
       "      <td>2018-08-08 00:00:00</td>\n",
       "    </tr>\n",
       "    <tr>\n",
       "      <th>14</th>\n",
       "      <td>432aaf21d85167c2c86ec9448c4e42cc</td>\n",
       "      <td>3df704f53d3f1d4818840b34ec672a9f</td>\n",
       "      <td>delivered</td>\n",
       "      <td>2018-03-01 14:14:28</td>\n",
       "      <td>2018-03-01 15:10:47</td>\n",
       "      <td>2018-03-02 21:09:20</td>\n",
       "      <td>2018-03-12 23:36:26</td>\n",
       "      <td>2018-03-21 00:00:00</td>\n",
       "    </tr>\n",
       "    <tr>\n",
       "      <th>20</th>\n",
       "      <td>203096f03d82e0dffbc41ebc2e2bcfb7</td>\n",
       "      <td>d2b091571da224a1b36412c18bc3bbfe</td>\n",
       "      <td>delivered</td>\n",
       "      <td>2017-09-18 14:31:30</td>\n",
       "      <td>2017-09-19 04:04:09</td>\n",
       "      <td>2017-10-06 17:50:03</td>\n",
       "      <td>2017-10-09 22:23:46</td>\n",
       "      <td>2017-09-28 00:00:00</td>\n",
       "    </tr>\n",
       "  </tbody>\n",
       "</table>\n",
       "</div>"
      ],
      "text/plain": [
       "                            order_id                       customer_id  \\\n",
       "0   e481f51cbdc54678b7cc49136f2d6af7  9ef432eb6251297304e76186b10a928d   \n",
       "11  34513ce0c4fab462a55830c0989c7edb  7711cf624183d843aafe81855097bc37   \n",
       "13  5ff96c15d0b717ac6ad1f3d77225a350  19402a48fe860416adf93348aba37740   \n",
       "14  432aaf21d85167c2c86ec9448c4e42cc  3df704f53d3f1d4818840b34ec672a9f   \n",
       "20  203096f03d82e0dffbc41ebc2e2bcfb7  d2b091571da224a1b36412c18bc3bbfe   \n",
       "\n",
       "   order_status order_purchase_timestamp    order_approved_at  \\\n",
       "0     delivered      2017-10-02 10:56:33  2017-10-02 11:07:15   \n",
       "11    delivered      2017-07-13 19:58:11  2017-07-13 20:10:08   \n",
       "13    delivered      2018-07-25 17:44:10  2018-07-25 17:55:14   \n",
       "14    delivered      2018-03-01 14:14:28  2018-03-01 15:10:47   \n",
       "20    delivered      2017-09-18 14:31:30  2017-09-19 04:04:09   \n",
       "\n",
       "   order_delivered_carrier_date order_delivered_customer_date  \\\n",
       "0           2017-10-04 19:55:00           2017-10-10 21:25:13   \n",
       "11          2017-07-14 18:43:29           2017-07-19 14:04:48   \n",
       "13          2018-07-26 13:16:00           2018-07-30 15:52:25   \n",
       "14          2018-03-02 21:09:20           2018-03-12 23:36:26   \n",
       "20          2017-10-06 17:50:03           2017-10-09 22:23:46   \n",
       "\n",
       "   order_estimated_delivery_date  \n",
       "0            2017-10-18 00:00:00  \n",
       "11           2017-08-08 00:00:00  \n",
       "13           2018-08-08 00:00:00  \n",
       "14           2018-03-21 00:00:00  \n",
       "20           2017-09-28 00:00:00  "
      ]
     },
     "execution_count": 24,
     "metadata": {
     },
     "output_type": "execute_result"
    }
   ],
   "source": [
    "#Sao Paulo\n",
    "SP_orders = orders[orders['customer_id'].isin(customers_idSP_list)]\n",
    "SP_orders.head()"
   ]
  },
  {
   "cell_type": "code",
   "execution_count": 0,
   "metadata": {
    "collapsed": false
   },
   "outputs": [
   ],
   "source": [
   ]
  },
  {
   "cell_type": "code",
   "execution_count": 25,
   "metadata": {
    "collapsed": false
   },
   "outputs": [
   ],
   "source": [
    "order_idSP= SP_orders.iloc[:,0]\n",
    "order_idSP_list = order_idSP.to_list()"
   ]
  },
  {
   "cell_type": "code",
   "execution_count": 26,
   "metadata": {
    "collapsed": false,
    "scrolled": true
   },
   "outputs": [
    {
     "ename": "NameError",
     "evalue": "name 'order_reviews_clean2' is not defined",
     "output_type": "error",
     "traceback": [
      "\u001b[0;31m---------------------------------------------------------------------------\u001b[0m",
      "\u001b[0;31mNameError\u001b[0m                                 Traceback (most recent call last)",
      "\u001b[0;32m/tmp/ipykernel_457/1535507395.py\u001b[0m in \u001b[0;36m<module>\u001b[0;34m\u001b[0m\n\u001b[0;32m----> 1\u001b[0;31m \u001b[0mSP_order_reviews\u001b[0m \u001b[0;34m=\u001b[0m \u001b[0morder_reviews_clean2\u001b[0m\u001b[0;34m[\u001b[0m\u001b[0morder_reviews_clean2\u001b[0m\u001b[0;34m[\u001b[0m\u001b[0;34m'order_id'\u001b[0m\u001b[0;34m]\u001b[0m\u001b[0;34m.\u001b[0m\u001b[0misin\u001b[0m\u001b[0;34m(\u001b[0m\u001b[0morder_idSP_list\u001b[0m\u001b[0;34m)\u001b[0m\u001b[0;34m]\u001b[0m\u001b[0;34m\u001b[0m\u001b[0;34m\u001b[0m\u001b[0m\n\u001b[0m\u001b[1;32m      2\u001b[0m \u001b[0mSP_order_reviews\u001b[0m\u001b[0;34m.\u001b[0m\u001b[0mdescribe\u001b[0m\u001b[0;34m(\u001b[0m\u001b[0;34m)\u001b[0m\u001b[0;34m\u001b[0m\u001b[0;34m\u001b[0m\u001b[0m\n",
      "\u001b[0;31mNameError\u001b[0m: name 'order_reviews_clean2' is not defined"
     ]
    }
   ],
   "source": [
    "SP_order_reviews = order_reviews_clean2[order_reviews_clean2['order_id'].isin(order_idSP_list)]\n",
    "SP_order_reviews.describe()"
   ]
  },
  {
   "cell_type": "raw",
   "metadata": {
    "collapsed": false
   },
   "source": [
    "geolocation[geolocation['geolocation_city'] == 'rio de janeiro'].shape"
   ]
  },
  {
   "cell_type": "code",
   "execution_count": 0,
   "metadata": {
    "collapsed": false
   },
   "outputs": [
   ],
   "source": [
   ]
  },
  {
   "cell_type": "code",
   "execution_count": 0,
   "metadata": {
    "collapsed": false
   },
   "outputs": [
   ],
   "source": [
    "# RIO De Janeiro\n",
    "\n",
    "\n",
    "#RioCustomerData = customerData[(customerData['customer_city'] == 'rio de janeiro')]\n",
    "RioCustomerData = customerData_clean[(customerData_clean == 'rio de janeiro').any(axis=1)]\n",
    "customer_idRio= RioCustomerData.iloc[:,0]\n",
    "customers_idRio_list = customer_idRio.to_list()\n",
    "\n",
    "len(customers_idRio_list)\n"
   ]
  },
  {
   "cell_type": "code",
   "execution_count": 0,
   "metadata": {
    "collapsed": false
   },
   "outputs": [
   ],
   "source": [
    "\n",
    "\n",
    "RioOrders = orders[orders['customer_id'].isin(customers_idRio_list)]\n",
    "\n",
    "Rio_order_id_list = RioOrders.iloc[:,0].to_list()\n",
    "\n",
    "\n",
    "RioReviews = order_reviews_clean2[order_reviews_clean2['order_id'].isin(Rio_order_id_list)]\n",
    "\n",
    "RioReviews"
   ]
  },
  {
   "cell_type": "code",
   "execution_count": 0,
   "metadata": {
    "collapsed": false
   },
   "outputs": [
   ],
   "source": [
   ]
  },
  {
   "cell_type": "code",
   "execution_count": 0,
   "metadata": {
    "collapsed": false
   },
   "outputs": [
   ],
   "source": [
   ]
  },
  {
   "cell_type": "code",
   "execution_count": 0,
   "metadata": {
    "collapsed": false
   },
   "outputs": [
   ],
   "source": [
   ]
  },
  {
   "cell_type": "code",
   "execution_count": 0,
   "metadata": {
    "collapsed": false
   },
   "outputs": [
   ],
   "source": [
   ]
  },
  {
   "cell_type": "code",
   "execution_count": 0,
   "metadata": {
    "collapsed": false
   },
   "outputs": [
   ],
   "source": [
   ]
  },
  {
   "cell_type": "code",
   "execution_count": 0,
   "metadata": {
    "collapsed": false
   },
   "outputs": [
   ],
   "source": [
    "#belo horizonte  \n",
    "beloHorizonteCustomerData = customerData_clean[(customerData_clean == 'belo horizonte').any(axis=1)]\n",
    "customer_idBH= beloHorizonteCustomerData.iloc[:,0]\n",
    "customers_idBH_list = customer_idBH.to_list()"
   ]
  },
  {
   "cell_type": "code",
   "execution_count": 0,
   "metadata": {
    "collapsed": false
   },
   "outputs": [
   ],
   "source": [
    "BH_orders = orders[orders['customer_id'].isin(customers_idBH_list)]\n",
    "BH_orders"
   ]
  },
  {
   "cell_type": "code",
   "execution_count": 0,
   "metadata": {
    "collapsed": false
   },
   "outputs": [
   ],
   "source": [
    "order_idBH= BH_orders.iloc[:,0]\n",
    "order_idBH_list = order_idBH.to_list()"
   ]
  },
  {
   "cell_type": "code",
   "execution_count": 0,
   "metadata": {
    "collapsed": false
   },
   "outputs": [
   ],
   "source": [
    "BH_order_reviews = order_reviews_clean2[order_reviews_clean2['order_id'].isin(order_idBH_list)]\n",
    "BH_order_reviews.describe()"
   ]
  },
  {
   "cell_type": "code",
   "execution_count": 0,
   "metadata": {
    "collapsed": false
   },
   "outputs": [
   ],
   "source": [
    "brasilia_CustomerData = customerData_clean[(customerData_clean['customer_city'] == 'brasilia')]\n",
    "\n",
    "customer_id_brasilia= brasilia_CustomerData.iloc[:,0]\n",
    "customers_idbrasilia_list = customer_id_brasilia.to_list()\n",
    "\n",
    "len(customers_idbrasilia_list)\n"
   ]
  },
  {
   "cell_type": "code",
   "execution_count": 0,
   "metadata": {
    "collapsed": false
   },
   "outputs": [
   ],
   "source": [
    "BrasiliaOrders = orders[orders['customer_id'].isin(customers_idbrasilia_list)]\n",
    "\n",
    "Brasilia_order_id_list = BrasiliaOrders.iloc[:,0].to_list()\n",
    "\n",
    "\n",
    "BrasiliaReviews = order_reviews_clean2[order_reviews_clean2['order_id'].isin(Brasilia_order_id_list)]\n",
    "\n",
    "print(len(BrasiliaReviews))\n",
    "len(BrasiliaReviews['review_id'].unique())"
   ]
  },
  {
   "cell_type": "code",
   "execution_count": 0,
   "metadata": {
    "collapsed": false
   },
   "outputs": [
   ],
   "source": [
   ]
  },
  {
   "cell_type": "code",
   "execution_count": 0,
   "metadata": {
    "collapsed": false
   },
   "outputs": [
   ],
   "source": [
   ]
  },
  {
   "cell_type": "code",
   "execution_count": 0,
   "metadata": {
    "collapsed": false
   },
   "outputs": [
   ],
   "source": [
   ]
  },
  {
   "cell_type": "code",
   "execution_count": 0,
   "metadata": {
    "collapsed": false
   },
   "outputs": [
   ],
   "source": [
   ]
  },
  {
   "cell_type": "code",
   "execution_count": 0,
   "metadata": {
    "collapsed": false
   },
   "outputs": [
   ],
   "source": [
   ]
  },
  {
   "cell_type": "code",
   "execution_count": 0,
   "metadata": {
    "collapsed": false
   },
   "outputs": [
   ],
   "source": [
   ]
  },
  {
   "cell_type": "code",
   "execution_count": 0,
   "metadata": {
    "collapsed": false
   },
   "outputs": [
   ],
   "source": [
    "#curitiba \n",
    "curitibaCustomerData = customerData_clean[(customerData_clean == 'curitiba').any(axis=1)]\n",
    "customer_idCur= curitibaCustomerData.iloc[:,0]\n",
    "customer_idCur_list = customer_idCur.to_list()\n"
   ]
  },
  {
   "cell_type": "code",
   "execution_count": 0,
   "metadata": {
    "collapsed": false
   },
   "outputs": [
   ],
   "source": [
    "Cur_orders = orders[orders['customer_id'].isin(customer_idCur_list)]\n",
    "Cur_orders"
   ]
  },
  {
   "cell_type": "code",
   "execution_count": 0,
   "metadata": {
    "collapsed": false
   },
   "outputs": [
   ],
   "source": [
    "order_idCur= Cur_orders.iloc[:,0]\n",
    "order_idCur_list = order_idCur.to_list()"
   ]
  },
  {
   "cell_type": "code",
   "execution_count": 0,
   "metadata": {
    "collapsed": false
   },
   "outputs": [
   ],
   "source": [
    "\n",
    "\n",
    "Cur_order_reviews = order_reviews_clean2[order_reviews_clean2['order_id'].isin(order_idCur_list)]\n",
    "Cur_order_reviews.describe()\n",
    "# print(len(Cur_order_reviews))\n",
    "# len(Cur_order_reviews['review_id'].unique())"
   ]
  },
  {
   "cell_type": "code",
   "execution_count": 10,
   "metadata": {
    "collapsed": false
   },
   "outputs": [
    {
     "name": "stdout",
     "output_type": "stream",
     "text": [
      "99224\n",
      "98410\n"
     ]
    },
    {
     "ename": "NameError",
     "evalue": "name 'order_reviews_clean' is not defined",
     "output_type": "error",
     "traceback": [
      "\u001b[0;31m---------------------------------------------------------------------------\u001b[0m",
      "\u001b[0;31mNameError\u001b[0m                                 Traceback (most recent call last)",
      "\u001b[0;32m/tmp/ipykernel_457/907103295.py\u001b[0m in \u001b[0;36m<module>\u001b[0;34m\u001b[0m\n\u001b[1;32m      4\u001b[0m \u001b[0mprint\u001b[0m\u001b[0;34m(\u001b[0m\u001b[0mlen\u001b[0m\u001b[0;34m(\u001b[0m\u001b[0morder_reviews\u001b[0m\u001b[0;34m[\u001b[0m\u001b[0;34m'review_id'\u001b[0m\u001b[0;34m]\u001b[0m\u001b[0;34m.\u001b[0m\u001b[0munique\u001b[0m\u001b[0;34m(\u001b[0m\u001b[0;34m)\u001b[0m\u001b[0;34m)\u001b[0m\u001b[0;34m)\u001b[0m\u001b[0;34m\u001b[0m\u001b[0;34m\u001b[0m\u001b[0m\n\u001b[1;32m      5\u001b[0m \u001b[0;34m\u001b[0m\u001b[0m\n\u001b[0;32m----> 6\u001b[0;31m \u001b[0morder_reviews_clean2\u001b[0m \u001b[0;34m=\u001b[0m \u001b[0morder_reviews_clean\u001b[0m\u001b[0;34m.\u001b[0m\u001b[0mdrop_duplicates\u001b[0m\u001b[0;34m(\u001b[0m\u001b[0msubset\u001b[0m\u001b[0;34m=\u001b[0m\u001b[0;34m[\u001b[0m\u001b[0;34m'review_id'\u001b[0m\u001b[0;34m]\u001b[0m\u001b[0;34m)\u001b[0m\u001b[0;34m\u001b[0m\u001b[0;34m\u001b[0m\u001b[0m\n\u001b[0m\u001b[1;32m      7\u001b[0m \u001b[0mlen\u001b[0m\u001b[0;34m(\u001b[0m\u001b[0morder_reviews_clean2\u001b[0m\u001b[0;34m)\u001b[0m\u001b[0;34m\u001b[0m\u001b[0;34m\u001b[0m\u001b[0m\n",
      "\u001b[0;31mNameError\u001b[0m: name 'order_reviews_clean' is not defined"
     ]
    }
   ],
   "source": [
    "#DUPLICATE REVIEWS EVEN THOUGH EACH REVIEW ID SHOULD BE UNIQUE\n",
    "\n",
    "print(len(order_reviews))\n",
    "print(len(order_reviews['review_id'].unique()))\n",
    "\n",
    "order_reviews_clean2 = order_reviews_clean.drop_duplicates(subset=['review_id'])\n",
    "len(order_reviews_clean2)"
   ]
  },
  {
   "cell_type": "code",
   "execution_count": 11,
   "metadata": {
    "collapsed": false
   },
   "outputs": [
    {
     "ename": "NameError",
     "evalue": "name 'order_reviews_clean' is not defined",
     "output_type": "error",
     "traceback": [
      "\u001b[0;31m---------------------------------------------------------------------------\u001b[0m",
      "\u001b[0;31mNameError\u001b[0m                                 Traceback (most recent call last)",
      "\u001b[0;32m/tmp/ipykernel_457/2520995729.py\u001b[0m in \u001b[0;36m<module>\u001b[0;34m\u001b[0m\n\u001b[0;32m----> 1\u001b[0;31m \u001b[0morder_reviews_clean\u001b[0m\u001b[0;34m.\u001b[0m\u001b[0misna\u001b[0m\u001b[0;34m(\u001b[0m\u001b[0;34m)\u001b[0m\u001b[0;34m.\u001b[0m\u001b[0msum\u001b[0m\u001b[0;34m(\u001b[0m\u001b[0;34m)\u001b[0m\u001b[0;34m\u001b[0m\u001b[0;34m\u001b[0m\u001b[0m\n\u001b[0m",
      "\u001b[0;31mNameError\u001b[0m: name 'order_reviews_clean' is not defined"
     ]
    }
   ],
   "source": [
    "order_reviews_clean.isna().sum()"
   ]
  },
  {
   "cell_type": "code",
   "execution_count": 12,
   "metadata": {
    "collapsed": false
   },
   "outputs": [
    {
     "ename": "NameError",
     "evalue": "name 'orders_clean' is not defined",
     "output_type": "error",
     "traceback": [
      "\u001b[0;31m---------------------------------------------------------------------------\u001b[0m",
      "\u001b[0;31mNameError\u001b[0m                                 Traceback (most recent call last)",
      "\u001b[0;32m/tmp/ipykernel_457/3424944268.py\u001b[0m in \u001b[0;36m<module>\u001b[0;34m\u001b[0m\n\u001b[0;32m----> 1\u001b[0;31m \u001b[0morder_w_customer\u001b[0m \u001b[0;34m=\u001b[0m \u001b[0mpd\u001b[0m\u001b[0;34m.\u001b[0m\u001b[0mmerge\u001b[0m\u001b[0;34m(\u001b[0m\u001b[0morders_clean\u001b[0m\u001b[0;34m,\u001b[0m\u001b[0mcustomerData_clean\u001b[0m\u001b[0;34m,\u001b[0m \u001b[0mon\u001b[0m \u001b[0;34m=\u001b[0m \u001b[0;34m\"customer_id\"\u001b[0m \u001b[0;34m)\u001b[0m\u001b[0;34m\u001b[0m\u001b[0;34m\u001b[0m\u001b[0m\n\u001b[0m\u001b[1;32m      2\u001b[0m \u001b[0morder_items_w_ordercust\u001b[0m \u001b[0;34m=\u001b[0m \u001b[0mpd\u001b[0m\u001b[0;34m.\u001b[0m\u001b[0mmerge\u001b[0m\u001b[0;34m(\u001b[0m\u001b[0morder_items_clean\u001b[0m\u001b[0;34m,\u001b[0m \u001b[0morder_w_customer\u001b[0m\u001b[0;34m,\u001b[0m \u001b[0mon\u001b[0m \u001b[0;34m=\u001b[0m \u001b[0;34m\"order_id\"\u001b[0m\u001b[0;34m)\u001b[0m\u001b[0;34m\u001b[0m\u001b[0;34m\u001b[0m\u001b[0m\n\u001b[1;32m      3\u001b[0m \u001b[0;34m\u001b[0m\u001b[0m\n\u001b[1;32m      4\u001b[0m \u001b[0morder_items_w_ordercust\u001b[0m\u001b[0;34m[\u001b[0m\u001b[0;34m'customer_unique_id'\u001b[0m\u001b[0;34m]\u001b[0m\u001b[0;34m.\u001b[0m\u001b[0mvalue_counts\u001b[0m\u001b[0;34m(\u001b[0m\u001b[0;34m)\u001b[0m\u001b[0;34m.\u001b[0m\u001b[0mmean\u001b[0m\u001b[0;34m(\u001b[0m\u001b[0;34m)\u001b[0m\u001b[0;34m\u001b[0m\u001b[0;34m\u001b[0m\u001b[0m\n\u001b[1;32m      5\u001b[0m \u001b[0;34m\u001b[0m\u001b[0m\n",
      "\u001b[0;31mNameError\u001b[0m: name 'orders_clean' is not defined"
     ]
    }
   ],
   "source": [
    "order_w_customer = pd.merge(orders_clean,customerData_clean, on = \"customer_id\" )\n",
    "order_items_w_ordercust = pd.merge(order_items_clean, order_w_customer, on = \"order_id\")\n",
    "\n",
    "order_items_w_ordercust['customer_unique_id'].value_counts().mean()\n",
    "\n",
    "order_items_everything = pd.merge(order_items_w_ordercust, products_english[['product_id','product_category_name_english']])"
   ]
  },
  {
   "cell_type": "markdown",
   "metadata": {
    "collapsed": false
   },
   "source": [
    "# Orders Clean\n",
    "\n"
   ]
  },
  {
   "cell_type": "code",
   "execution_count": 13,
   "metadata": {
    "collapsed": false
   },
   "outputs": [
    {
     "data": {
      "text/plain": [
       "(96010, 8)"
      ]
     },
     "execution_count": 13,
     "metadata": {
     },
     "output_type": "execute_result"
    }
   ],
   "source": [
    "nan_orders = orders[orders.isna().any(axis=1)]\n",
    "orders_listofnans = nan_orders['order_approved_at']\n",
    "orders_listofnans= orders_listofnans.squeeze()\n",
    "\n",
    "\n",
    "\n",
    "orders_clean = orders[~orders['order_approved_at'].isin(orders_listofnans)]\n",
    "\n",
    "orders_clean.shape\n",
    "\n",
    "\n",
    "# nan_products = products[products.isna().any(axis=1)]\n",
    "# listofnans = nan_products.iloc[:, :1]\n",
    "# listofnans= listofnans.squeeze()\n",
    "# orders.isna().sum()\n",
    "\n",
    "                      \n",
    "                    "
   ]
  },
  {
   "cell_type": "code",
   "execution_count": 14,
   "metadata": {
    "collapsed": false
   },
   "outputs": [
    {
     "data": {
      "text/html": [
       "<div>\n",
       "<style scoped>\n",
       "    .dataframe tbody tr th:only-of-type {\n",
       "        vertical-align: middle;\n",
       "    }\n",
       "\n",
       "    .dataframe tbody tr th {\n",
       "        vertical-align: top;\n",
       "    }\n",
       "\n",
       "    .dataframe thead th {\n",
       "        text-align: right;\n",
       "    }\n",
       "</style>\n",
       "<table border=\"1\" class=\"dataframe\">\n",
       "  <thead>\n",
       "    <tr style=\"text-align: right;\">\n",
       "      <th></th>\n",
       "      <th>order_id</th>\n",
       "      <th>customer_id</th>\n",
       "      <th>order_status</th>\n",
       "      <th>order_purchase_timestamp</th>\n",
       "      <th>order_approved_at</th>\n",
       "      <th>order_delivered_carrier_date</th>\n",
       "      <th>order_delivered_customer_date</th>\n",
       "      <th>order_estimated_delivery_date</th>\n",
       "    </tr>\n",
       "  </thead>\n",
       "  <tbody>\n",
       "    <tr>\n",
       "      <th>6</th>\n",
       "      <td>136cce7faa42fdb2cefd53fdc79a6098</td>\n",
       "      <td>ed0271e0b7da060a393796590e7b737a</td>\n",
       "      <td>invoiced</td>\n",
       "      <td>2017-04-11 12:22:08</td>\n",
       "      <td>2017-04-13 13:25:17</td>\n",
       "      <td>NaN</td>\n",
       "      <td>NaN</td>\n",
       "      <td>2017-05-09 00:00:00</td>\n",
       "    </tr>\n",
       "    <tr>\n",
       "      <th>44</th>\n",
       "      <td>ee64d42b8cf066f35eac1cf57de1aa85</td>\n",
       "      <td>caded193e8e47b8362864762a83db3c5</td>\n",
       "      <td>shipped</td>\n",
       "      <td>2018-06-04 16:44:48</td>\n",
       "      <td>2018-06-05 04:31:18</td>\n",
       "      <td>2018-06-05 14:32:00</td>\n",
       "      <td>NaN</td>\n",
       "      <td>2018-06-28 00:00:00</td>\n",
       "    </tr>\n",
       "    <tr>\n",
       "      <th>103</th>\n",
       "      <td>0760a852e4e9d89eb77bf631eaaf1c84</td>\n",
       "      <td>d2a79636084590b7465af8ab374a8cf5</td>\n",
       "      <td>invoiced</td>\n",
       "      <td>2018-08-03 17:44:42</td>\n",
       "      <td>2018-08-07 06:15:14</td>\n",
       "      <td>NaN</td>\n",
       "      <td>NaN</td>\n",
       "      <td>2018-08-21 00:00:00</td>\n",
       "    </tr>\n",
       "    <tr>\n",
       "      <th>128</th>\n",
       "      <td>15bed8e2fec7fdbadb186b57c46c92f2</td>\n",
       "      <td>f3f0e613e0bdb9c7cee75504f0f90679</td>\n",
       "      <td>processing</td>\n",
       "      <td>2017-09-03 14:22:03</td>\n",
       "      <td>2017-09-03 14:30:09</td>\n",
       "      <td>NaN</td>\n",
       "      <td>NaN</td>\n",
       "      <td>2017-10-03 00:00:00</td>\n",
       "    </tr>\n",
       "    <tr>\n",
       "      <th>154</th>\n",
       "      <td>6942b8da583c2f9957e990d028607019</td>\n",
       "      <td>52006a9383bf149a4fb24226b173106f</td>\n",
       "      <td>shipped</td>\n",
       "      <td>2018-01-10 11:33:07</td>\n",
       "      <td>2018-01-11 02:32:30</td>\n",
       "      <td>2018-01-11 19:39:23</td>\n",
       "      <td>NaN</td>\n",
       "      <td>2018-02-07 00:00:00</td>\n",
       "    </tr>\n",
       "    <tr>\n",
       "      <th>...</th>\n",
       "      <td>...</td>\n",
       "      <td>...</td>\n",
       "      <td>...</td>\n",
       "      <td>...</td>\n",
       "      <td>...</td>\n",
       "      <td>...</td>\n",
       "      <td>...</td>\n",
       "      <td>...</td>\n",
       "    </tr>\n",
       "    <tr>\n",
       "      <th>99283</th>\n",
       "      <td>3a3cddda5a7c27851bd96c3313412840</td>\n",
       "      <td>0b0d6095c5555fe083844281f6b093bb</td>\n",
       "      <td>canceled</td>\n",
       "      <td>2018-08-31 16:13:44</td>\n",
       "      <td>NaN</td>\n",
       "      <td>NaN</td>\n",
       "      <td>NaN</td>\n",
       "      <td>2018-10-01 00:00:00</td>\n",
       "    </tr>\n",
       "    <tr>\n",
       "      <th>99313</th>\n",
       "      <td>e9e64a17afa9653aacf2616d94c005b8</td>\n",
       "      <td>b4cd0522e632e481f8eaf766a2646e86</td>\n",
       "      <td>processing</td>\n",
       "      <td>2018-01-05 23:07:24</td>\n",
       "      <td>2018-01-09 07:18:05</td>\n",
       "      <td>NaN</td>\n",
       "      <td>NaN</td>\n",
       "      <td>2018-02-06 00:00:00</td>\n",
       "    </tr>\n",
       "    <tr>\n",
       "      <th>99347</th>\n",
       "      <td>a89abace0dcc01eeb267a9660b5ac126</td>\n",
       "      <td>2f0524a7b1b3845a1a57fcf3910c4333</td>\n",
       "      <td>canceled</td>\n",
       "      <td>2018-09-06 18:45:47</td>\n",
       "      <td>NaN</td>\n",
       "      <td>NaN</td>\n",
       "      <td>NaN</td>\n",
       "      <td>2018-09-27 00:00:00</td>\n",
       "    </tr>\n",
       "    <tr>\n",
       "      <th>99348</th>\n",
       "      <td>a69ba794cc7deb415c3e15a0a3877e69</td>\n",
       "      <td>726f0894b5becdf952ea537d5266e543</td>\n",
       "      <td>unavailable</td>\n",
       "      <td>2017-08-23 16:28:04</td>\n",
       "      <td>2017-08-28 15:44:47</td>\n",
       "      <td>NaN</td>\n",
       "      <td>NaN</td>\n",
       "      <td>2017-09-15 00:00:00</td>\n",
       "    </tr>\n",
       "    <tr>\n",
       "      <th>99415</th>\n",
       "      <td>5fabc81b6322c8443648e1b21a6fef21</td>\n",
       "      <td>32c9df889d41b0ee8309a5efb6855dcb</td>\n",
       "      <td>unavailable</td>\n",
       "      <td>2017-10-10 10:50:03</td>\n",
       "      <td>2017-10-14 18:35:57</td>\n",
       "      <td>NaN</td>\n",
       "      <td>NaN</td>\n",
       "      <td>2017-10-23 00:00:00</td>\n",
       "    </tr>\n",
       "  </tbody>\n",
       "</table>\n",
       "<p>2980 rows × 8 columns</p>\n",
       "</div>"
      ],
      "text/plain": [
       "                               order_id                       customer_id  \\\n",
       "6      136cce7faa42fdb2cefd53fdc79a6098  ed0271e0b7da060a393796590e7b737a   \n",
       "44     ee64d42b8cf066f35eac1cf57de1aa85  caded193e8e47b8362864762a83db3c5   \n",
       "103    0760a852e4e9d89eb77bf631eaaf1c84  d2a79636084590b7465af8ab374a8cf5   \n",
       "128    15bed8e2fec7fdbadb186b57c46c92f2  f3f0e613e0bdb9c7cee75504f0f90679   \n",
       "154    6942b8da583c2f9957e990d028607019  52006a9383bf149a4fb24226b173106f   \n",
       "...                                 ...                               ...   \n",
       "99283  3a3cddda5a7c27851bd96c3313412840  0b0d6095c5555fe083844281f6b093bb   \n",
       "99313  e9e64a17afa9653aacf2616d94c005b8  b4cd0522e632e481f8eaf766a2646e86   \n",
       "99347  a89abace0dcc01eeb267a9660b5ac126  2f0524a7b1b3845a1a57fcf3910c4333   \n",
       "99348  a69ba794cc7deb415c3e15a0a3877e69  726f0894b5becdf952ea537d5266e543   \n",
       "99415  5fabc81b6322c8443648e1b21a6fef21  32c9df889d41b0ee8309a5efb6855dcb   \n",
       "\n",
       "      order_status order_purchase_timestamp    order_approved_at  \\\n",
       "6         invoiced      2017-04-11 12:22:08  2017-04-13 13:25:17   \n",
       "44         shipped      2018-06-04 16:44:48  2018-06-05 04:31:18   \n",
       "103       invoiced      2018-08-03 17:44:42  2018-08-07 06:15:14   \n",
       "128     processing      2017-09-03 14:22:03  2017-09-03 14:30:09   \n",
       "154        shipped      2018-01-10 11:33:07  2018-01-11 02:32:30   \n",
       "...            ...                      ...                  ...   \n",
       "99283     canceled      2018-08-31 16:13:44                  NaN   \n",
       "99313   processing      2018-01-05 23:07:24  2018-01-09 07:18:05   \n",
       "99347     canceled      2018-09-06 18:45:47                  NaN   \n",
       "99348  unavailable      2017-08-23 16:28:04  2017-08-28 15:44:47   \n",
       "99415  unavailable      2017-10-10 10:50:03  2017-10-14 18:35:57   \n",
       "\n",
       "      order_delivered_carrier_date order_delivered_customer_date  \\\n",
       "6                              NaN                           NaN   \n",
       "44             2018-06-05 14:32:00                           NaN   \n",
       "103                            NaN                           NaN   \n",
       "128                            NaN                           NaN   \n",
       "154            2018-01-11 19:39:23                           NaN   \n",
       "...                            ...                           ...   \n",
       "99283                          NaN                           NaN   \n",
       "99313                          NaN                           NaN   \n",
       "99347                          NaN                           NaN   \n",
       "99348                          NaN                           NaN   \n",
       "99415                          NaN                           NaN   \n",
       "\n",
       "      order_estimated_delivery_date  \n",
       "6               2017-05-09 00:00:00  \n",
       "44              2018-06-28 00:00:00  \n",
       "103             2018-08-21 00:00:00  \n",
       "128             2017-10-03 00:00:00  \n",
       "154             2018-02-07 00:00:00  \n",
       "...                             ...  \n",
       "99283           2018-10-01 00:00:00  \n",
       "99313           2018-02-06 00:00:00  \n",
       "99347           2018-09-27 00:00:00  \n",
       "99348           2017-09-15 00:00:00  \n",
       "99415           2017-10-23 00:00:00  \n",
       "\n",
       "[2980 rows x 8 columns]"
      ]
     },
     "execution_count": 14,
     "metadata": {
     },
     "output_type": "execute_result"
    }
   ],
   "source": [
    "nan_orders"
   ]
  },
  {
   "cell_type": "code",
   "execution_count": 15,
   "metadata": {
    "collapsed": false
   },
   "outputs": [
    {
     "ename": "NameError",
     "evalue": "name 'order_items_everything' is not defined",
     "output_type": "error",
     "traceback": [
      "\u001b[0;31m---------------------------------------------------------------------------\u001b[0m",
      "\u001b[0;31mNameError\u001b[0m                                 Traceback (most recent call last)",
      "\u001b[0;32m/tmp/ipykernel_457/1946985116.py\u001b[0m in \u001b[0;36m<module>\u001b[0;34m\u001b[0m\n\u001b[0;32m----> 1\u001b[0;31m \u001b[0morder_items_everything2\u001b[0m \u001b[0;34m=\u001b[0m \u001b[0mpd\u001b[0m\u001b[0;34m.\u001b[0m\u001b[0mmerge\u001b[0m\u001b[0;34m(\u001b[0m\u001b[0morder_items_everything\u001b[0m\u001b[0;34m,\u001b[0m\u001b[0msellers\u001b[0m\u001b[0;34m,\u001b[0m\u001b[0mon\u001b[0m \u001b[0;34m=\u001b[0m \u001b[0;34m\"seller_id\"\u001b[0m\u001b[0;34m)\u001b[0m\u001b[0;34m\u001b[0m\u001b[0;34m\u001b[0m\u001b[0m\n\u001b[0m",
      "\u001b[0;31mNameError\u001b[0m: name 'order_items_everything' is not defined"
     ]
    }
   ],
   "source": [
    "order_items_everything2 = pd.merge(order_items_everything,sellers,on = \"seller_id\")"
   ]
  },
  {
   "cell_type": "code",
   "execution_count": 16,
   "metadata": {
    "collapsed": false
   },
   "outputs": [
    {
     "ename": "NameError",
     "evalue": "name 'order_items_everything2' is not defined",
     "output_type": "error",
     "traceback": [
      "\u001b[0;31m---------------------------------------------------------------------------\u001b[0m",
      "\u001b[0;31mNameError\u001b[0m                                 Traceback (most recent call last)",
      "\u001b[0;32m/tmp/ipykernel_457/3878831704.py\u001b[0m in \u001b[0;36m<module>\u001b[0;34m\u001b[0m\n\u001b[0;32m----> 1\u001b[0;31m \u001b[0morder_items_everything2\u001b[0m\u001b[0;34m[\u001b[0m\u001b[0;34m'order_delivered_customer_date'\u001b[0m\u001b[0;34m]\u001b[0m \u001b[0;34m=\u001b[0m \u001b[0mpd\u001b[0m\u001b[0;34m.\u001b[0m\u001b[0mto_datetime\u001b[0m\u001b[0;34m(\u001b[0m\u001b[0morder_items_everything2\u001b[0m\u001b[0;34m[\u001b[0m\u001b[0;34m'order_delivered_customer_date'\u001b[0m\u001b[0;34m]\u001b[0m\u001b[0;34m)\u001b[0m\u001b[0;34m\u001b[0m\u001b[0;34m\u001b[0m\u001b[0m\n\u001b[0m\u001b[1;32m      2\u001b[0m \u001b[0morder_items_everything2\u001b[0m\u001b[0;34m[\u001b[0m\u001b[0;34m'order_approved_at'\u001b[0m\u001b[0;34m]\u001b[0m \u001b[0;34m=\u001b[0m \u001b[0mpd\u001b[0m\u001b[0;34m.\u001b[0m\u001b[0mto_datetime\u001b[0m\u001b[0;34m(\u001b[0m\u001b[0morder_items_everything2\u001b[0m\u001b[0;34m[\u001b[0m\u001b[0;34m'order_approved_at'\u001b[0m\u001b[0;34m]\u001b[0m\u001b[0;34m)\u001b[0m\u001b[0;34m\u001b[0m\u001b[0;34m\u001b[0m\u001b[0m\n\u001b[1;32m      3\u001b[0m \u001b[0morder_items_everything2\u001b[0m\u001b[0;34m[\u001b[0m\u001b[0;34m'order_purchase_timestamp'\u001b[0m\u001b[0;34m]\u001b[0m \u001b[0;34m=\u001b[0m \u001b[0mpd\u001b[0m\u001b[0;34m.\u001b[0m\u001b[0mto_datetime\u001b[0m\u001b[0;34m(\u001b[0m\u001b[0morder_items_everything2\u001b[0m\u001b[0;34m[\u001b[0m\u001b[0;34m'order_purchase_timestamp'\u001b[0m\u001b[0;34m]\u001b[0m\u001b[0;34m)\u001b[0m\u001b[0;34m\u001b[0m\u001b[0;34m\u001b[0m\u001b[0m\n\u001b[1;32m      4\u001b[0m \u001b[0morder_items_everything2\u001b[0m\u001b[0;34m[\u001b[0m\u001b[0;34m'order_estimated_delivery_date'\u001b[0m\u001b[0;34m]\u001b[0m \u001b[0;34m=\u001b[0m \u001b[0mpd\u001b[0m\u001b[0;34m.\u001b[0m\u001b[0mto_datetime\u001b[0m\u001b[0;34m(\u001b[0m\u001b[0morder_items_everything2\u001b[0m\u001b[0;34m[\u001b[0m\u001b[0;34m'order_estimated_delivery_date'\u001b[0m\u001b[0;34m]\u001b[0m\u001b[0;34m)\u001b[0m\u001b[0;34m\u001b[0m\u001b[0;34m\u001b[0m\u001b[0m\n\u001b[1;32m      5\u001b[0m \u001b[0morder_items_everything2\u001b[0m\u001b[0;34m[\u001b[0m\u001b[0;34m'order_delivered_carrier_date'\u001b[0m\u001b[0;34m]\u001b[0m \u001b[0;34m=\u001b[0m \u001b[0mpd\u001b[0m\u001b[0;34m.\u001b[0m\u001b[0mto_datetime\u001b[0m\u001b[0;34m(\u001b[0m\u001b[0morder_items_everything2\u001b[0m\u001b[0;34m[\u001b[0m\u001b[0;34m'order_delivered_carrier_date'\u001b[0m\u001b[0;34m]\u001b[0m\u001b[0;34m)\u001b[0m\u001b[0;34m\u001b[0m\u001b[0;34m\u001b[0m\u001b[0m\n",
      "\u001b[0;31mNameError\u001b[0m: name 'order_items_everything2' is not defined"
     ]
    }
   ],
   "source": [
    "order_items_everything2['order_delivered_customer_date'] = pd.to_datetime(order_items_everything2['order_delivered_customer_date'])\n",
    "order_items_everything2['order_approved_at'] = pd.to_datetime(order_items_everything2['order_approved_at'])\n",
    "order_items_everything2['order_purchase_timestamp'] = pd.to_datetime(order_items_everything2['order_purchase_timestamp'])\n",
    "order_items_everything2['order_estimated_delivery_date'] = pd.to_datetime(order_items_everything2['order_estimated_delivery_date'])\n",
    "order_items_everything2['order_delivered_carrier_date'] = pd.to_datetime(order_items_everything2['order_delivered_carrier_date'])\n"
   ]
  },
  {
   "cell_type": "code",
   "execution_count": 17,
   "metadata": {
    "collapsed": false
   },
   "outputs": [
    {
     "ename": "NameError",
     "evalue": "name 'order_items_everything2' is not defined",
     "output_type": "error",
     "traceback": [
      "\u001b[0;31m---------------------------------------------------------------------------\u001b[0m",
      "\u001b[0;31mNameError\u001b[0m                                 Traceback (most recent call last)",
      "\u001b[0;32m/tmp/ipykernel_457/1269579843.py\u001b[0m in \u001b[0;36m<module>\u001b[0;34m\u001b[0m\n\u001b[0;32m----> 1\u001b[0;31m \u001b[0morder_items_everything2\u001b[0m\u001b[0;34m[\u001b[0m\u001b[0;34m'delivery_time'\u001b[0m\u001b[0;34m]\u001b[0m \u001b[0;34m=\u001b[0m \u001b[0morder_items_everything2\u001b[0m\u001b[0;34m[\u001b[0m\u001b[0;34m'order_delivered_customer_date'\u001b[0m\u001b[0;34m]\u001b[0m \u001b[0;34m-\u001b[0m\u001b[0morder_items_everything2\u001b[0m\u001b[0;34m[\u001b[0m\u001b[0;34m'order_approved_at'\u001b[0m\u001b[0;34m]\u001b[0m\u001b[0;34m\u001b[0m\u001b[0;34m\u001b[0m\u001b[0m\n\u001b[0m\u001b[1;32m      2\u001b[0m \u001b[0morder_items_everything2\u001b[0m\u001b[0;34m[\u001b[0m\u001b[0;34m'estimated_delivery_time'\u001b[0m\u001b[0;34m]\u001b[0m \u001b[0;34m=\u001b[0m \u001b[0morder_items_everything2\u001b[0m\u001b[0;34m[\u001b[0m\u001b[0;34m'order_estimated_delivery_date'\u001b[0m\u001b[0;34m]\u001b[0m \u001b[0;34m-\u001b[0m\u001b[0morder_items_everything2\u001b[0m\u001b[0;34m[\u001b[0m\u001b[0;34m'order_approved_at'\u001b[0m\u001b[0;34m]\u001b[0m\u001b[0;34m\u001b[0m\u001b[0;34m\u001b[0m\u001b[0m\n",
      "\u001b[0;31mNameError\u001b[0m: name 'order_items_everything2' is not defined"
     ]
    }
   ],
   "source": [
    "order_items_everything2['delivery_time'] = order_items_everything2['order_delivered_customer_date'] -order_items_everything2['order_approved_at']\n",
    "order_items_everything2['estimated_delivery_time'] = order_items_everything2['order_estimated_delivery_date'] -order_items_everything2['order_approved_at']\n"
   ]
  },
  {
   "cell_type": "code",
   "execution_count": 18,
   "metadata": {
    "collapsed": false
   },
   "outputs": [
    {
     "ename": "NameError",
     "evalue": "name 'order_items_everything2' is not defined",
     "output_type": "error",
     "traceback": [
      "\u001b[0;31m---------------------------------------------------------------------------\u001b[0m",
      "\u001b[0;31mNameError\u001b[0m                                 Traceback (most recent call last)",
      "\u001b[0;32m/tmp/ipykernel_457/1133542702.py\u001b[0m in \u001b[0;36m<module>\u001b[0;34m\u001b[0m\n\u001b[0;32m----> 1\u001b[0;31m \u001b[0morder_items_slimmed\u001b[0m \u001b[0;34m=\u001b[0m \u001b[0morder_items_everything2\u001b[0m\u001b[0;34m.\u001b[0m\u001b[0mdrop\u001b[0m\u001b[0;34m(\u001b[0m\u001b[0mcolumns\u001b[0m \u001b[0;34m=\u001b[0m \u001b[0;34m[\u001b[0m\u001b[0;34m'freight_value'\u001b[0m\u001b[0;34m,\u001b[0m\u001b[0;34m'order_status'\u001b[0m\u001b[0;34m,\u001b[0m\u001b[0;34m'order_purchase_timestamp'\u001b[0m\u001b[0;34m,\u001b[0m\u001b[0;34m'order_approved_at'\u001b[0m\u001b[0;34m,\u001b[0m\u001b[0;34m'order_delivered_carrier_date'\u001b[0m\u001b[0;34m,\u001b[0m\u001b[0;34m'order_delivered_customer_date'\u001b[0m\u001b[0;34m,\u001b[0m\u001b[0;34m'order_estimated_delivery_date'\u001b[0m\u001b[0;34m,\u001b[0m\u001b[0;34m'customer_zip_code_prefix'\u001b[0m\u001b[0;34m,\u001b[0m\u001b[0;34m'seller_zip_code_prefix'\u001b[0m\u001b[0;34m]\u001b[0m\u001b[0;34m)\u001b[0m\u001b[0;34m\u001b[0m\u001b[0;34m\u001b[0m\u001b[0m\n\u001b[0m",
      "\u001b[0;31mNameError\u001b[0m: name 'order_items_everything2' is not defined"
     ]
    }
   ],
   "source": [
    "order_items_slimmed = order_items_everything2.drop(columns = ['freight_value','order_status','order_purchase_timestamp','order_approved_at','order_delivered_carrier_date','order_delivered_customer_date','order_estimated_delivery_date','customer_zip_code_prefix','seller_zip_code_prefix'])\n",
    "\n"
   ]
  },
  {
   "cell_type": "code",
   "execution_count": 19,
   "metadata": {
    "collapsed": false
   },
   "outputs": [
    {
     "ename": "NameError",
     "evalue": "name 'order_items_slimmed' is not defined",
     "output_type": "error",
     "traceback": [
      "\u001b[0;31m---------------------------------------------------------------------------\u001b[0m",
      "\u001b[0;31mNameError\u001b[0m                                 Traceback (most recent call last)",
      "\u001b[0;32m/tmp/ipykernel_457/3347648213.py\u001b[0m in \u001b[0;36m<module>\u001b[0;34m\u001b[0m\n\u001b[0;32m----> 1\u001b[0;31m \u001b[0morder_items_slimmed\u001b[0m\u001b[0;34m[\u001b[0m\u001b[0;34m'Delivery_time_difference'\u001b[0m\u001b[0;34m]\u001b[0m \u001b[0;34m=\u001b[0m \u001b[0morder_items_slimmed\u001b[0m\u001b[0;34m[\u001b[0m\u001b[0;34m'estimated_delivery_time'\u001b[0m\u001b[0;34m]\u001b[0m \u001b[0;34m-\u001b[0m \u001b[0morder_items_slimmed\u001b[0m\u001b[0;34m[\u001b[0m\u001b[0;34m'delivery_time'\u001b[0m\u001b[0;34m]\u001b[0m\u001b[0;34m\u001b[0m\u001b[0;34m\u001b[0m\u001b[0m\n\u001b[0m",
      "\u001b[0;31mNameError\u001b[0m: name 'order_items_slimmed' is not defined"
     ]
    }
   ],
   "source": [
    "order_items_slimmed['Delivery_time_difference'] = order_items_slimmed['estimated_delivery_time'] - order_items_slimmed['delivery_time']"
   ]
  },
  {
   "cell_type": "code",
   "execution_count": 20,
   "metadata": {
    "collapsed": false
   },
   "outputs": [
    {
     "ename": "NameError",
     "evalue": "name 'order_items_slimmed' is not defined",
     "output_type": "error",
     "traceback": [
      "\u001b[0;31m---------------------------------------------------------------------------\u001b[0m",
      "\u001b[0;31mNameError\u001b[0m                                 Traceback (most recent call last)",
      "\u001b[0;32m/tmp/ipykernel_457/2785426955.py\u001b[0m in \u001b[0;36m<module>\u001b[0;34m\u001b[0m\n\u001b[0;32m----> 1\u001b[0;31m \u001b[0morder_items_slimmed\u001b[0m\u001b[0;34m\u001b[0m\u001b[0;34m\u001b[0m\u001b[0m\n\u001b[0m",
      "\u001b[0;31mNameError\u001b[0m: name 'order_items_slimmed' is not defined"
     ]
    }
   ],
   "source": [
    "order_items_slimmed"
   ]
  },
  {
   "cell_type": "code",
   "execution_count": 32,
   "metadata": {
    "collapsed": false
   },
   "outputs": [
    {
     "data": {
      "text/plain": [
       "c8460e4251689ba205045f3ea17884a1    24\n",
       "4546caea018ad8c692964e3382debd19    21\n",
       "c402f431464c72e27330a67f7b94d4fb    20\n",
       "698e1cf81d01a3d389d96145f7fa6df8    20\n",
       "0f5ac8d5c31de21d2f25e24be15bbffb    18\n",
       "                                    ..\n",
       "7276dbdcf4c8838b39accfacf236480a     1\n",
       "198476e6d4b537f6fc71e4f3adaa52d1     1\n",
       "fdc85558580c10498bbe86fe0fb9d996     1\n",
       "b634a30cb90c1cbbff45bf9417cff90e     1\n",
       "7f686e118b3f870f0f28d152f3dfacc6     1\n",
       "Name: customer_unique_id, Length: 91639, dtype: int64"
      ]
     },
     "execution_count": 32,
     "metadata": {
     },
     "output_type": "execute_result"
    }
   ],
   "source": [
    "order_items_everything2[\"customer_unique_id\"].value_counts()\n"
   ]
  },
  {
   "cell_type": "markdown",
   "metadata": {
    "collapsed": false
   },
   "source": [
    "# LINKING ORDERS WITH CUSTOMERS\n",
    "\n"
   ]
  },
  {
   "cell_type": "code",
   "execution_count": 33,
   "metadata": {
    "collapsed": false
   },
   "outputs": [
    {
     "data": {
      "text/plain": [
       "perfumaria    868\n",
       "Name: product_category_name, dtype: int64"
      ]
     },
     "execution_count": 33,
     "metadata": {
     },
     "output_type": "execute_result"
    }
   ],
   "source": [
    "orders['order_purchase_timestamp']= pd.to_datetime(orders['order_purchase_timestamp'])\n",
    "orders['order_approved_at']= pd.to_datetime(orders['order_approved_at'])\n",
    "orders['order_delivered_carrier_date']= pd.to_datetime(orders['order_delivered_carrier_date'])\n",
    "orders['order_estimated_delivery_date']= pd.to_datetime(orders['order_estimated_delivery_date'])\n",
    "orders['order_delivered_customer_date']= pd.to_datetime(orders['order_delivered_customer_date'])\n",
    "\n",
    "\n",
    "# print(products_clean['product_category_name'].unique())\n",
    "perfume = products_clean[(products_clean == 'perfumaria').any(axis=1)]\n",
    "perfume[\"product_category_name\"].value_counts()"
   ]
  },
  {
   "cell_type": "code",
   "execution_count": 34,
   "metadata": {
    "collapsed": false
   },
   "outputs": [
    {
     "data": {
      "text/plain": [
       "(99441, 8)"
      ]
     },
     "execution_count": 34,
     "metadata": {
     },
     "output_type": "execute_result"
    }
   ],
   "source": [
    "products.shape[0]\n",
    "order_items.shape\n",
    "\n",
    "orders.shape\n",
    "\n",
    "#len(order_items['order_item_id'].unique())\n",
    "#len(orders)\n"
   ]
  },
  {
   "cell_type": "code",
   "execution_count": 35,
   "metadata": {
    "collapsed": false
   },
   "outputs": [
    {
     "data": {
      "text/html": [
       "<div>\n",
       "<style scoped>\n",
       "    .dataframe tbody tr th:only-of-type {\n",
       "        vertical-align: middle;\n",
       "    }\n",
       "\n",
       "    .dataframe tbody tr th {\n",
       "        vertical-align: top;\n",
       "    }\n",
       "\n",
       "    .dataframe thead th {\n",
       "        text-align: right;\n",
       "    }\n",
       "</style>\n",
       "<table border=\"1\" class=\"dataframe\">\n",
       "  <thead>\n",
       "    <tr style=\"text-align: right;\">\n",
       "      <th></th>\n",
       "      <th>order_id</th>\n",
       "      <th>order_item_id</th>\n",
       "      <th>product_id</th>\n",
       "      <th>seller_id</th>\n",
       "      <th>shipping_limit_date</th>\n",
       "      <th>price</th>\n",
       "      <th>freight_value</th>\n",
       "    </tr>\n",
       "  </thead>\n",
       "  <tbody>\n",
       "    <tr>\n",
       "      <th>14</th>\n",
       "      <td>0008288aa423d2a3f00fcb17cd7d8719</td>\n",
       "      <td>2</td>\n",
       "      <td>368c6c730842d78016ad823897a372db</td>\n",
       "      <td>1f50f920176fa81dab994f9023523100</td>\n",
       "      <td>2018-02-21 02:55:52</td>\n",
       "      <td>49.90</td>\n",
       "      <td>13.37</td>\n",
       "    </tr>\n",
       "    <tr>\n",
       "      <th>33</th>\n",
       "      <td>00143d0f86d6fbd9f9b38ab440ac16f5</td>\n",
       "      <td>2</td>\n",
       "      <td>e95ee6822b66ac6058e2e4aff656071a</td>\n",
       "      <td>a17f621c590ea0fab3d5d883e1630ec6</td>\n",
       "      <td>2017-10-20 16:07:52</td>\n",
       "      <td>21.33</td>\n",
       "      <td>15.10</td>\n",
       "    </tr>\n",
       "    <tr>\n",
       "      <th>34</th>\n",
       "      <td>00143d0f86d6fbd9f9b38ab440ac16f5</td>\n",
       "      <td>3</td>\n",
       "      <td>e95ee6822b66ac6058e2e4aff656071a</td>\n",
       "      <td>a17f621c590ea0fab3d5d883e1630ec6</td>\n",
       "      <td>2017-10-20 16:07:52</td>\n",
       "      <td>21.33</td>\n",
       "      <td>15.10</td>\n",
       "    </tr>\n",
       "    <tr>\n",
       "      <th>43</th>\n",
       "      <td>001ab0a7578dd66cd4b0a71f5b6e1e41</td>\n",
       "      <td>2</td>\n",
       "      <td>0b0172eb0fd18479d29c3bc122c058c2</td>\n",
       "      <td>5656537e588803a555b8eb41f07a944b</td>\n",
       "      <td>2018-01-04 02:33:42</td>\n",
       "      <td>24.89</td>\n",
       "      <td>17.63</td>\n",
       "    </tr>\n",
       "    <tr>\n",
       "      <th>44</th>\n",
       "      <td>001ab0a7578dd66cd4b0a71f5b6e1e41</td>\n",
       "      <td>3</td>\n",
       "      <td>0b0172eb0fd18479d29c3bc122c058c2</td>\n",
       "      <td>5656537e588803a555b8eb41f07a944b</td>\n",
       "      <td>2018-01-04 02:33:42</td>\n",
       "      <td>24.89</td>\n",
       "      <td>17.63</td>\n",
       "    </tr>\n",
       "    <tr>\n",
       "      <th>...</th>\n",
       "      <td>...</td>\n",
       "      <td>...</td>\n",
       "      <td>...</td>\n",
       "      <td>...</td>\n",
       "      <td>...</td>\n",
       "      <td>...</td>\n",
       "      <td>...</td>\n",
       "    </tr>\n",
       "    <tr>\n",
       "      <th>112617</th>\n",
       "      <td>ffecd5a79a0084f6a592288c67e3c298</td>\n",
       "      <td>3</td>\n",
       "      <td>50fd2b788dc166edd20512370dac54df</td>\n",
       "      <td>8b321bb669392f5163d04c59e235e066</td>\n",
       "      <td>2018-03-05 20:15:27</td>\n",
       "      <td>21.90</td>\n",
       "      <td>15.79</td>\n",
       "    </tr>\n",
       "    <tr>\n",
       "      <th>112635</th>\n",
       "      <td>fff8287bbae429a99bb7e8c21d151c41</td>\n",
       "      <td>2</td>\n",
       "      <td>bee2e070c39f3dd2f6883a17a5f0da45</td>\n",
       "      <td>4e922959ae960d389249c378d1c939f5</td>\n",
       "      <td>2018-03-27 12:29:22</td>\n",
       "      <td>180.00</td>\n",
       "      <td>48.14</td>\n",
       "    </tr>\n",
       "    <tr>\n",
       "      <th>112641</th>\n",
       "      <td>fffb9224b6fc7c43ebb0904318b10b5f</td>\n",
       "      <td>2</td>\n",
       "      <td>43423cdffde7fda63d0414ed38c11a73</td>\n",
       "      <td>b1fc4f64df5a0e8b6913ab38803c57a9</td>\n",
       "      <td>2017-11-03 02:55:58</td>\n",
       "      <td>55.00</td>\n",
       "      <td>34.19</td>\n",
       "    </tr>\n",
       "    <tr>\n",
       "      <th>112642</th>\n",
       "      <td>fffb9224b6fc7c43ebb0904318b10b5f</td>\n",
       "      <td>3</td>\n",
       "      <td>43423cdffde7fda63d0414ed38c11a73</td>\n",
       "      <td>b1fc4f64df5a0e8b6913ab38803c57a9</td>\n",
       "      <td>2017-11-03 02:55:58</td>\n",
       "      <td>55.00</td>\n",
       "      <td>34.19</td>\n",
       "    </tr>\n",
       "    <tr>\n",
       "      <th>112643</th>\n",
       "      <td>fffb9224b6fc7c43ebb0904318b10b5f</td>\n",
       "      <td>4</td>\n",
       "      <td>43423cdffde7fda63d0414ed38c11a73</td>\n",
       "      <td>b1fc4f64df5a0e8b6913ab38803c57a9</td>\n",
       "      <td>2017-11-03 02:55:58</td>\n",
       "      <td>55.00</td>\n",
       "      <td>34.19</td>\n",
       "    </tr>\n",
       "  </tbody>\n",
       "</table>\n",
       "<p>13984 rows × 7 columns</p>\n",
       "</div>"
      ],
      "text/plain": [
       "                                order_id  order_item_id  \\\n",
       "14      0008288aa423d2a3f00fcb17cd7d8719              2   \n",
       "33      00143d0f86d6fbd9f9b38ab440ac16f5              2   \n",
       "34      00143d0f86d6fbd9f9b38ab440ac16f5              3   \n",
       "43      001ab0a7578dd66cd4b0a71f5b6e1e41              2   \n",
       "44      001ab0a7578dd66cd4b0a71f5b6e1e41              3   \n",
       "...                                  ...            ...   \n",
       "112617  ffecd5a79a0084f6a592288c67e3c298              3   \n",
       "112635  fff8287bbae429a99bb7e8c21d151c41              2   \n",
       "112641  fffb9224b6fc7c43ebb0904318b10b5f              2   \n",
       "112642  fffb9224b6fc7c43ebb0904318b10b5f              3   \n",
       "112643  fffb9224b6fc7c43ebb0904318b10b5f              4   \n",
       "\n",
       "                              product_id                         seller_id  \\\n",
       "14      368c6c730842d78016ad823897a372db  1f50f920176fa81dab994f9023523100   \n",
       "33      e95ee6822b66ac6058e2e4aff656071a  a17f621c590ea0fab3d5d883e1630ec6   \n",
       "34      e95ee6822b66ac6058e2e4aff656071a  a17f621c590ea0fab3d5d883e1630ec6   \n",
       "43      0b0172eb0fd18479d29c3bc122c058c2  5656537e588803a555b8eb41f07a944b   \n",
       "44      0b0172eb0fd18479d29c3bc122c058c2  5656537e588803a555b8eb41f07a944b   \n",
       "...                                  ...                               ...   \n",
       "112617  50fd2b788dc166edd20512370dac54df  8b321bb669392f5163d04c59e235e066   \n",
       "112635  bee2e070c39f3dd2f6883a17a5f0da45  4e922959ae960d389249c378d1c939f5   \n",
       "112641  43423cdffde7fda63d0414ed38c11a73  b1fc4f64df5a0e8b6913ab38803c57a9   \n",
       "112642  43423cdffde7fda63d0414ed38c11a73  b1fc4f64df5a0e8b6913ab38803c57a9   \n",
       "112643  43423cdffde7fda63d0414ed38c11a73  b1fc4f64df5a0e8b6913ab38803c57a9   \n",
       "\n",
       "        shipping_limit_date   price  freight_value  \n",
       "14      2018-02-21 02:55:52   49.90          13.37  \n",
       "33      2017-10-20 16:07:52   21.33          15.10  \n",
       "34      2017-10-20 16:07:52   21.33          15.10  \n",
       "43      2018-01-04 02:33:42   24.89          17.63  \n",
       "44      2018-01-04 02:33:42   24.89          17.63  \n",
       "...                     ...     ...            ...  \n",
       "112617  2018-03-05 20:15:27   21.90          15.79  \n",
       "112635  2018-03-27 12:29:22  180.00          48.14  \n",
       "112641  2017-11-03 02:55:58   55.00          34.19  \n",
       "112642  2017-11-03 02:55:58   55.00          34.19  \n",
       "112643  2017-11-03 02:55:58   55.00          34.19  \n",
       "\n",
       "[13984 rows x 7 columns]"
      ]
     },
     "execution_count": 35,
     "metadata": {
     },
     "output_type": "execute_result"
    }
   ],
   "source": [
    "order_items['order_item_id'] = pd.to_numeric(order_items['order_item_id'])\n",
    "\n",
    "order_items[order_items['order_item_id']> 1]"
   ]
  },
  {
   "cell_type": "code",
   "execution_count": 15,
   "metadata": {
    "collapsed": false
   },
   "outputs": [
    {
     "data": {
      "text/plain": [
       "Timedelta('12 days 03:07:42.855694470')"
      ]
     },
     "execution_count": 15,
     "metadata": {
     },
     "output_type": "execute_result"
    }
   ],
   "source": [
    "delivery_time = orders[\"order_delivered_customer_date\"] - orders['order_approved_at']\n",
    "delivery_time\n",
    "delivery_time.mean()\n",
    "\n"
   ]
  },
  {
   "cell_type": "code",
   "execution_count": 63,
   "metadata": {
    "collapsed": false
   },
   "outputs": [
    {
     "data": {
      "text/html": [
       "<div>\n",
       "<style scoped>\n",
       "    .dataframe tbody tr th:only-of-type {\n",
       "        vertical-align: middle;\n",
       "    }\n",
       "\n",
       "    .dataframe tbody tr th {\n",
       "        vertical-align: top;\n",
       "    }\n",
       "\n",
       "    .dataframe thead th {\n",
       "        text-align: right;\n",
       "    }\n",
       "</style>\n",
       "<table border=\"1\" class=\"dataframe\">\n",
       "  <thead>\n",
       "    <tr style=\"text-align: right;\">\n",
       "      <th></th>\n",
       "      <th>geolocation_zip_code_prefix</th>\n",
       "      <th>geolocation_lat</th>\n",
       "      <th>geolocation_lng</th>\n",
       "      <th>geolocation_city</th>\n",
       "      <th>geolocation_state</th>\n",
       "    </tr>\n",
       "  </thead>\n",
       "  <tbody>\n",
       "    <tr>\n",
       "      <th>0</th>\n",
       "      <td>1037</td>\n",
       "      <td>-23.545621</td>\n",
       "      <td>-46.639292</td>\n",
       "      <td>sao paulo</td>\n",
       "      <td>SP</td>\n",
       "    </tr>\n",
       "    <tr>\n",
       "      <th>1</th>\n",
       "      <td>1046</td>\n",
       "      <td>-23.546081</td>\n",
       "      <td>-46.644820</td>\n",
       "      <td>sao paulo</td>\n",
       "      <td>SP</td>\n",
       "    </tr>\n",
       "    <tr>\n",
       "      <th>2</th>\n",
       "      <td>1046</td>\n",
       "      <td>-23.546129</td>\n",
       "      <td>-46.642951</td>\n",
       "      <td>sao paulo</td>\n",
       "      <td>SP</td>\n",
       "    </tr>\n",
       "    <tr>\n",
       "      <th>3</th>\n",
       "      <td>1041</td>\n",
       "      <td>-23.544392</td>\n",
       "      <td>-46.639499</td>\n",
       "      <td>sao paulo</td>\n",
       "      <td>SP</td>\n",
       "    </tr>\n",
       "    <tr>\n",
       "      <th>4</th>\n",
       "      <td>1035</td>\n",
       "      <td>-23.541578</td>\n",
       "      <td>-46.641607</td>\n",
       "      <td>sao paulo</td>\n",
       "      <td>SP</td>\n",
       "    </tr>\n",
       "  </tbody>\n",
       "</table>\n",
       "</div>"
      ],
      "text/plain": [
       "   geolocation_zip_code_prefix  geolocation_lat  geolocation_lng  \\\n",
       "0                         1037       -23.545621       -46.639292   \n",
       "1                         1046       -23.546081       -46.644820   \n",
       "2                         1046       -23.546129       -46.642951   \n",
       "3                         1041       -23.544392       -46.639499   \n",
       "4                         1035       -23.541578       -46.641607   \n",
       "\n",
       "  geolocation_city geolocation_state  \n",
       "0        sao paulo                SP  \n",
       "1        sao paulo                SP  \n",
       "2        sao paulo                SP  \n",
       "3        sao paulo                SP  \n",
       "4        sao paulo                SP  "
      ]
     },
     "execution_count": 63,
     "metadata": {
     },
     "output_type": "execute_result"
    }
   ],
   "source": [
    "geolocation.head()"
   ]
  },
  {
   "cell_type": "code",
   "execution_count": 17,
   "metadata": {
    "collapsed": false
   },
   "outputs": [
    {
     "data": {
      "text/plain": [
       "19015"
      ]
     },
     "execution_count": 17,
     "metadata": {
     },
     "output_type": "execute_result"
    }
   ],
   "source": [
    "len(geolocation['geolocation_zip_code_prefix'].unique())"
   ]
  },
  {
   "cell_type": "code",
   "execution_count": 0,
   "metadata": {
    "collapsed": false
   },
   "outputs": [
   ],
   "source": [
    "orders_w_customers = pd.merge(customerData_clean)"
   ]
  },
  {
   "cell_type": "code",
   "execution_count": 43,
   "metadata": {
    "collapsed": false
   },
   "outputs": [
    {
     "data": {
      "text/plain": [
       "21"
      ]
     },
     "execution_count": 43,
     "metadata": {
     },
     "output_type": "execute_result"
    }
   ],
   "source": [
    "order_items_clean[\"order_item_id\"].max()"
   ]
  },
  {
   "cell_type": "code",
   "execution_count": 17,
   "metadata": {
    "collapsed": false
   },
   "outputs": [
    {
     "data": {
      "text/plain": [
       "Timedelta('23 days 08:01:22.510722092')"
      ]
     },
     "execution_count": 17,
     "metadata": {
     },
     "output_type": "execute_result"
    }
   ],
   "source": [
    "est_delivery_time = orders[\"order_estimated_delivery_date\"] - orders['order_approved_at']\n",
    "\n",
    "\n",
    "est_delivery_time.mean()"
   ]
  },
  {
   "cell_type": "code",
   "execution_count": 0,
   "metadata": {
    "collapsed": false
   },
   "outputs": [
   ],
   "source": [
    "delivery_time = orders[\"order_delivered_customer_date\"] - orders['order_estimated_delivery_date']"
   ]
  },
  {
   "cell_type": "code",
   "execution_count": 13,
   "metadata": {
    "collapsed": false,
    "scrolled": true
   },
   "outputs": [
    {
     "data": {
      "text/plain": [
       "Timestamp('2018-02-02 19:28:10.500000')"
      ]
     },
     "execution_count": 13,
     "metadata": {
     },
     "output_type": "execute_result"
    }
   ],
   "source": [
    "orders['order_delivered_customer_date']\n",
    "   \n",
    "# print(type(orders.iloc[4]))"
   ]
  },
  {
   "cell_type": "markdown",
   "metadata": {
    "collapsed": false
   },
   "source": [
    "**Avg review score      \\-         4.08642062404257**\n",
    "\n",
    "**Number of unique customers       \\-       96096**\n",
    "\n",
    "**Total orders      \\-       99441**\n",
    "\n",
    "**Average orders per customer        \\-        1.0348089410589412**\n",
    "\n",
    "**Average items ordered per customer \\-  1.1978339991122948**\n"
   ]
  },
  {
   "cell_type": "code",
   "execution_count": 153,
   "metadata": {
    "collapsed": false
   },
   "outputs": [
    {
     "name": "stdout",
     "output_type": "stream",
     "text": [
      "99441\n"
     ]
    },
    {
     "data": {
      "text/plain": [
       "1.0348089410589412"
      ]
     },
     "execution_count": 153,
     "metadata": {
     },
     "output_type": "execute_result"
    }
   ],
   "source": [
    "#             CUSTOMER DATA              #\n",
    "customerData.isna().sum()\n",
    "customerData.head()\n",
    "print(len(customerData))\n",
    "\n",
    "customerData['customer_unique_id'].value_counts()\n"
   ]
  },
  {
   "cell_type": "code",
   "execution_count": 109,
   "metadata": {
    "collapsed": false
   },
   "outputs": [
    {
     "data": {
      "text/plain": [
       "geolocation_zip_code_prefix    0\n",
       "geolocation_lat                0\n",
       "geolocation_lng                0\n",
       "geolocation_city               0\n",
       "geolocation_state              0\n",
       "dtype: int64"
      ]
     },
     "execution_count": 109,
     "metadata": {
     },
     "output_type": "execute_result"
    }
   ],
   "source": [
    "#             GEOLOCATION              #\n",
    "geolocation.isna().sum()"
   ]
  },
  {
   "cell_type": "code",
   "execution_count": 26,
   "metadata": {
    "collapsed": false
   },
   "outputs": [
    {
     "data": {
      "text/plain": [
       "<bound method NDFrame._add_numeric_operations.<locals>.sum of order_id                0\n",
       "payment_sequential      0\n",
       "payment_type            0\n",
       "payment_installments    0\n",
       "payment_value           0\n",
       "dtype: int64>"
      ]
     },
     "execution_count": 26,
     "metadata": {
     },
     "output_type": "execute_result"
    }
   ],
   "source": [
    "#             PAYMENTS              #\n",
    "payments.isna().sum().sum"
   ]
  },
  {
   "cell_type": "code",
   "execution_count": 11,
   "metadata": {
    "collapsed": false
   },
   "outputs": [
    {
     "data": {
      "text/html": [
       "<div>\n",
       "<style scoped>\n",
       "    .dataframe tbody tr th:only-of-type {\n",
       "        vertical-align: middle;\n",
       "    }\n",
       "\n",
       "    .dataframe tbody tr th {\n",
       "        vertical-align: top;\n",
       "    }\n",
       "\n",
       "    .dataframe thead th {\n",
       "        text-align: right;\n",
       "    }\n",
       "</style>\n",
       "<table border=\"1\" class=\"dataframe\">\n",
       "  <thead>\n",
       "    <tr style=\"text-align: right;\">\n",
       "      <th></th>\n",
       "      <th>product_id</th>\n",
       "    </tr>\n",
       "  </thead>\n",
       "  <tbody>\n",
       "    <tr>\n",
       "      <th>105</th>\n",
       "      <td>a41e356c76fab66334f36de622ecbd3a</td>\n",
       "    </tr>\n",
       "    <tr>\n",
       "      <th>128</th>\n",
       "      <td>d8dee61c2034d6d075997acef1870e9b</td>\n",
       "    </tr>\n",
       "    <tr>\n",
       "      <th>145</th>\n",
       "      <td>56139431d72cd51f19eb9f7dae4d1617</td>\n",
       "    </tr>\n",
       "    <tr>\n",
       "      <th>154</th>\n",
       "      <td>46b48281eb6d663ced748f324108c733</td>\n",
       "    </tr>\n",
       "    <tr>\n",
       "      <th>197</th>\n",
       "      <td>5fb61f482620cb672f5e586bb132eae9</td>\n",
       "    </tr>\n",
       "    <tr>\n",
       "      <th>...</th>\n",
       "      <td>...</td>\n",
       "    </tr>\n",
       "    <tr>\n",
       "      <th>32515</th>\n",
       "      <td>b0a0c5dd78e644373b199380612c350a</td>\n",
       "    </tr>\n",
       "    <tr>\n",
       "      <th>32589</th>\n",
       "      <td>10dbe0fbaa2c505123c17fdc34a63c56</td>\n",
       "    </tr>\n",
       "    <tr>\n",
       "      <th>32616</th>\n",
       "      <td>bd2ada37b58ae94cc838b9c0569fecd8</td>\n",
       "    </tr>\n",
       "    <tr>\n",
       "      <th>32772</th>\n",
       "      <td>fa51e914046aab32764c41356b9d4ea4</td>\n",
       "    </tr>\n",
       "    <tr>\n",
       "      <th>32852</th>\n",
       "      <td>c4ceee876c82b8328e9c293fa0e1989b</td>\n",
       "    </tr>\n",
       "  </tbody>\n",
       "</table>\n",
       "<p>611 rows × 1 columns</p>\n",
       "</div>"
      ],
      "text/plain": [
       "                             product_id\n",
       "105    a41e356c76fab66334f36de622ecbd3a\n",
       "128    d8dee61c2034d6d075997acef1870e9b\n",
       "145    56139431d72cd51f19eb9f7dae4d1617\n",
       "154    46b48281eb6d663ced748f324108c733\n",
       "197    5fb61f482620cb672f5e586bb132eae9\n",
       "...                                 ...\n",
       "32515  b0a0c5dd78e644373b199380612c350a\n",
       "32589  10dbe0fbaa2c505123c17fdc34a63c56\n",
       "32616  bd2ada37b58ae94cc838b9c0569fecd8\n",
       "32772  fa51e914046aab32764c41356b9d4ea4\n",
       "32852  c4ceee876c82b8328e9c293fa0e1989b\n",
       "\n",
       "[611 rows x 1 columns]"
      ]
     },
     "execution_count": 11,
     "metadata": {
     },
     "output_type": "execute_result"
    }
   ],
   "source": [
    "#             PRODUCTS              #\n",
    "nan_products = products[products.isna().any(axis=1)]\n",
    "listofnans = nan_products.iloc[:, :1]\n",
    "listofnans= listofnans.squeeze()\n",
    "\n",
    "order_items_clean = order_items\n",
    "\n",
    "# for i in order_items['product_id']:\n",
    "#     for j in listofnans:\n",
    "#         if (i==j):\n",
    "#             order_items_clean.drop(i)\n",
    "# print(len(order_items))\"\"\n",
    "# print(len(order_items_clean))\n",
    "\n",
    "products.isna().sum().sum()\n",
    "products_clean = products.dropna()\n",
    "\n",
    "nan_products.iloc[:, :1]"
   ]
  },
  {
   "cell_type": "code",
   "execution_count": 4,
   "metadata": {
    "collapsed": false
   },
   "outputs": [
    {
     "data": {
      "text/plain": [
       "105      a41e356c76fab66334f36de622ecbd3a\n",
       "128      d8dee61c2034d6d075997acef1870e9b\n",
       "145      56139431d72cd51f19eb9f7dae4d1617\n",
       "154      46b48281eb6d663ced748f324108c733\n",
       "197      5fb61f482620cb672f5e586bb132eae9\n",
       "                       ...               \n",
       "32515    b0a0c5dd78e644373b199380612c350a\n",
       "32589    10dbe0fbaa2c505123c17fdc34a63c56\n",
       "32616    bd2ada37b58ae94cc838b9c0569fecd8\n",
       "32772    fa51e914046aab32764c41356b9d4ea4\n",
       "32852    c4ceee876c82b8328e9c293fa0e1989b\n",
       "Name: product_id, Length: 611, dtype: object"
      ]
     },
     "execution_count": 4,
     "metadata": {
     },
     "output_type": "execute_result"
    }
   ],
   "source": [
    "listofnans"
   ]
  },
  {
   "cell_type": "code",
   "execution_count": 12,
   "metadata": {
    "collapsed": false
   },
   "outputs": [
    {
     "name": "stdout",
     "output_type": "stream",
     "text": [
      "111046\n",
      "112650\n"
     ]
    }
   ],
   "source": [
    "order_items_clean = order_items[~order_items['product_id'].isin(listofnans)]\n",
    "\n",
    "print(len(order_items_clean))\n",
    "print(len(order_items))\n",
    "\n",
    "# order_items['product_id'].isunique\n",
    "\n",
    "# ORDER ITEMS CLEAN GOOD\n",
    "# PRODUCTS CLEAN GOOD"
   ]
  },
  {
   "cell_type": "markdown",
   "metadata": {
    "collapsed": false
   },
   "source": [
    "# ORDER\\_ITEMS\\_CLEAN\n",
    "\n"
   ]
  },
  {
   "cell_type": "code",
   "execution_count": 89,
   "metadata": {
    "collapsed": false
   },
   "outputs": [
    {
     "name": "stdout",
     "output_type": "stream",
     "text": [
      "32951\n"
     ]
    },
    {
     "name": "stdout",
     "output_type": "stream",
     "text": [
      "32340\n"
     ]
    }
   ],
   "source": [
    "# TESTING TO SEE IF we cleaned\n",
    "list_of_lengths = []\n",
    "list_of_lengths_clean = []\n",
    "\n",
    "\n",
    "for col in order_items:\n",
    "    length = len(order_items[col].unique())\n",
    "    list_of_lengths.append(length)\n",
    "print(list_of_lengths[2])\n",
    "\n",
    "for col in order_items_clean:\n",
    "    list_of_lengths_clean.append(len(order_items_clean[col].unique()))\n",
    "print(list_of_lengths_clean[2])\n",
    "# print(type(list_of_order_items_clean))\n"
   ]
  },
  {
   "cell_type": "code",
   "execution_count": 54,
   "metadata": {
    "collapsed": false
   },
   "outputs": [
   ],
   "source": [
    "\n",
    "for i in order_items['product_id']:\n",
    "    for j in listofnans:\n",
    "        print(j)\n",
    "        if (i==j):\n",
    "            print(i)"
   ]
  },
  {
   "cell_type": "code",
   "execution_count": 58,
   "metadata": {
    "collapsed": false
   },
   "outputs": [
    {
     "data": {
      "text/plain": [
       "105      a41e356c76fab66334f36de622ecbd3a\n",
       "128      d8dee61c2034d6d075997acef1870e9b\n",
       "145      56139431d72cd51f19eb9f7dae4d1617\n",
       "154      46b48281eb6d663ced748f324108c733\n",
       "197      5fb61f482620cb672f5e586bb132eae9\n",
       "                       ...               \n",
       "32515    b0a0c5dd78e644373b199380612c350a\n",
       "32589    10dbe0fbaa2c505123c17fdc34a63c56\n",
       "32616    bd2ada37b58ae94cc838b9c0569fecd8\n",
       "32772    fa51e914046aab32764c41356b9d4ea4\n",
       "32852    c4ceee876c82b8328e9c293fa0e1989b\n",
       "Name: product_id, Length: 611, dtype: object"
      ]
     },
     "execution_count": 58,
     "metadata": {
     },
     "output_type": "execute_result"
    }
   ],
   "source": [
    "listofnans.squeeze()"
   ]
  },
  {
   "cell_type": "code",
   "execution_count": 21,
   "metadata": {
    "collapsed": false
   },
   "outputs": [
    {
     "data": {
      "text/plain": [
       "0                 health_beauty\n",
       "1         computers_accessories\n",
       "2                          auto\n",
       "3                bed_bath_table\n",
       "4               furniture_decor\n",
       "                ...            \n",
       "66                      flowers\n",
       "67        arts_and_craftmanship\n",
       "68          diapers_and_hygiene\n",
       "69    fashion_childrens_clothes\n",
       "70        security_and_services\n",
       "Name: product_category_name_english, Length: 71, dtype: object"
      ]
     },
     "execution_count": 21,
     "metadata": {
     },
     "output_type": "execute_result"
    }
   ],
   "source": [
    "#             PRODUCT CATEGORY NAME              #\n",
    "nan_prod_cat_name = prod_cat[prod_cat.isna().any(axis=1)]\n",
    "prod_cat_name_listofnans = nan_prod_cat_name.iloc[:, :1]\n",
    "prod_cat_name_listofnans = prod_cat_name_listofnans.squeeze()\n",
    "\n",
    "prod_cat_name_clean = prod_cat[~prod_cat['product_category_name'].isin(prod_cat_name_listofnans)]\n",
    "\n",
    "\n",
    "\n",
    "prod_cat_name_clean['product_category_name_english']"
   ]
  },
  {
   "cell_type": "code",
   "execution_count": 131,
   "metadata": {
    "collapsed": false
   },
   "outputs": [
    {
     "data": {
      "text/plain": [
       "(71, 2)"
      ]
     },
     "execution_count": 131,
     "metadata": {
     },
     "output_type": "execute_result"
    }
   ],
   "source": [
    "prod_cat_name_clean.shape"
   ]
  },
  {
   "cell_type": "code",
   "execution_count": 0,
   "metadata": {
    "collapsed": false
   },
   "outputs": [
   ],
   "source": [
   ]
  },
  {
   "cell_type": "code",
   "execution_count": 104,
   "metadata": {
    "collapsed": false
   },
   "outputs": [
    {
     "name": "stdout",
     "output_type": "stream",
     "text": [
      "order_id                            0\n",
      "customer_id                         0\n",
      "order_status                        0\n",
      "order_purchase_timestamp            0\n",
      "order_approved_at                 160\n",
      "order_delivered_carrier_date     1783\n",
      "order_delivered_customer_date    2965\n",
      "order_estimated_delivery_date       0\n",
      "dtype: int64\n"
     ]
    },
    {
     "name": "stdout",
     "output_type": "stream",
     "text": [
      "99441\n",
      "99441\n"
     ]
    }
   ],
   "source": [
    "#             ORDERS              #\n",
    "\n",
    "# print(orders.isna().sum())\n",
    "# nan_orders = orders[orders.isna().any(axis=1)]\n",
    "orders_listofnans = nan_orders\n",
    "orders_listofnans= orders_listofnans.squeeze()\n",
    "\n",
    "# order_items_clean = order_items\n",
    "\n",
    "\n",
    "# for i in order_reviews['order_id']:\n",
    "#     for j in orders_listofnans:\n",
    "#         if (i==j):\n",
    "#             orders_clean.drop(i)\n",
    "\n",
    "\n",
    "# print(len(orders))\n",
    "# print(len(orders_clean))\n"
   ]
  },
  {
   "cell_type": "code",
   "execution_count": 119,
   "metadata": {
    "collapsed": false
   },
   "outputs": [
    {
     "name": "stdout",
     "output_type": "stream",
     "text": [
      "seller_id                 0\n",
      "seller_zip_code_prefix    0\n",
      "seller_city               0\n",
      "seller_state              0\n",
      "dtype: int64\n"
     ]
    },
    {
     "data": {
      "text/html": [
       "<div>\n",
       "<style scoped>\n",
       "    .dataframe tbody tr th:only-of-type {\n",
       "        vertical-align: middle;\n",
       "    }\n",
       "\n",
       "    .dataframe tbody tr th {\n",
       "        vertical-align: top;\n",
       "    }\n",
       "\n",
       "    .dataframe thead th {\n",
       "        text-align: right;\n",
       "    }\n",
       "</style>\n",
       "<table border=\"1\" class=\"dataframe\">\n",
       "  <thead>\n",
       "    <tr style=\"text-align: right;\">\n",
       "      <th></th>\n",
       "      <th>seller_id</th>\n",
       "      <th>seller_zip_code_prefix</th>\n",
       "      <th>seller_city</th>\n",
       "      <th>seller_state</th>\n",
       "    </tr>\n",
       "  </thead>\n",
       "  <tbody>\n",
       "    <tr>\n",
       "      <th>0</th>\n",
       "      <td>3442f8959a84dea7ee197c632cb2df15</td>\n",
       "      <td>13023</td>\n",
       "      <td>campinas</td>\n",
       "      <td>SP</td>\n",
       "    </tr>\n",
       "    <tr>\n",
       "      <th>1</th>\n",
       "      <td>d1b65fc7debc3361ea86b5f14c68d2e2</td>\n",
       "      <td>13844</td>\n",
       "      <td>mogi guacu</td>\n",
       "      <td>SP</td>\n",
       "    </tr>\n",
       "    <tr>\n",
       "      <th>2</th>\n",
       "      <td>ce3ad9de960102d0677a81f5d0bb7b2d</td>\n",
       "      <td>20031</td>\n",
       "      <td>rio de janeiro</td>\n",
       "      <td>RJ</td>\n",
       "    </tr>\n",
       "    <tr>\n",
       "      <th>3</th>\n",
       "      <td>c0f3eea2e14555b6faeea3dd58c1b1c3</td>\n",
       "      <td>4195</td>\n",
       "      <td>sao paulo</td>\n",
       "      <td>SP</td>\n",
       "    </tr>\n",
       "    <tr>\n",
       "      <th>4</th>\n",
       "      <td>51a04a8a6bdcb23deccc82b0b80742cf</td>\n",
       "      <td>12914</td>\n",
       "      <td>braganca paulista</td>\n",
       "      <td>SP</td>\n",
       "    </tr>\n",
       "  </tbody>\n",
       "</table>\n",
       "</div>"
      ],
      "text/plain": [
       "                          seller_id  seller_zip_code_prefix  \\\n",
       "0  3442f8959a84dea7ee197c632cb2df15                   13023   \n",
       "1  d1b65fc7debc3361ea86b5f14c68d2e2                   13844   \n",
       "2  ce3ad9de960102d0677a81f5d0bb7b2d                   20031   \n",
       "3  c0f3eea2e14555b6faeea3dd58c1b1c3                    4195   \n",
       "4  51a04a8a6bdcb23deccc82b0b80742cf                   12914   \n",
       "\n",
       "         seller_city seller_state  \n",
       "0           campinas           SP  \n",
       "1         mogi guacu           SP  \n",
       "2     rio de janeiro           RJ  \n",
       "3          sao paulo           SP  \n",
       "4  braganca paulista           SP  "
      ]
     },
     "execution_count": 119,
     "metadata": {
     },
     "output_type": "execute_result"
    }
   ],
   "source": [
    "#             SELLERS              #\n",
    "print(sellers.isna().sum())\n",
    "sellers.head()"
   ]
  },
  {
   "cell_type": "code",
   "execution_count": 107,
   "metadata": {
    "collapsed": false
   },
   "outputs": [
    {
     "data": {
      "text/plain": [
       "order_id                0\n",
       "payment_sequential      0\n",
       "payment_type            0\n",
       "payment_installments    0\n",
       "payment_value           0\n",
       "dtype: int64"
      ]
     },
     "execution_count": 107,
     "metadata": {
     },
     "output_type": "execute_result"
    }
   ],
   "source": [
    "payments.isna().sum()\n"
   ]
  },
  {
   "cell_type": "code",
   "execution_count": 110,
   "metadata": {
    "collapsed": false
   },
   "outputs": [
    {
     "data": {
      "text/plain": [
       "review_id                      0\n",
       "order_id                       0\n",
       "review_score                   0\n",
       "review_comment_title       87656\n",
       "review_comment_message     58247\n",
       "review_creation_date           0\n",
       "review_answer_timestamp        0\n",
       "dtype: int64"
      ]
     },
     "execution_count": 110,
     "metadata": {
     },
     "output_type": "execute_result"
    }
   ],
   "source": [
    "order_reviews.isna().sum()"
   ]
  },
  {
   "cell_type": "markdown",
   "metadata": {
    "collapsed": false
   },
   "source": [
    "# Order Reviews\n",
    "\n"
   ]
  },
  {
   "cell_type": "code",
   "execution_count": 8,
   "metadata": {
    "collapsed": false
   },
   "outputs": [
    {
     "data": {
      "text/html": [
       "<div>\n",
       "<style scoped>\n",
       "    .dataframe tbody tr th:only-of-type {\n",
       "        vertical-align: middle;\n",
       "    }\n",
       "\n",
       "    .dataframe tbody tr th {\n",
       "        vertical-align: top;\n",
       "    }\n",
       "\n",
       "    .dataframe thead th {\n",
       "        text-align: right;\n",
       "    }\n",
       "</style>\n",
       "<table border=\"1\" class=\"dataframe\">\n",
       "  <thead>\n",
       "    <tr style=\"text-align: right;\">\n",
       "      <th></th>\n",
       "      <th>review_id</th>\n",
       "      <th>order_id</th>\n",
       "      <th>review_score</th>\n",
       "      <th>review_creation_date</th>\n",
       "      <th>review_answer_timestamp</th>\n",
       "    </tr>\n",
       "  </thead>\n",
       "  <tbody>\n",
       "    <tr>\n",
       "      <th>0</th>\n",
       "      <td>7bc2406110b926393aa56f80a40eba40</td>\n",
       "      <td>73fc7af87114b39712e6da79b0a377eb</td>\n",
       "      <td>4</td>\n",
       "      <td>2018-01-18 00:00:00</td>\n",
       "      <td>2018-01-18 21:46:59</td>\n",
       "    </tr>\n",
       "    <tr>\n",
       "      <th>1</th>\n",
       "      <td>80e641a11e56f04c1ad469d5645fdfde</td>\n",
       "      <td>a548910a1c6147796b98fdf73dbeba33</td>\n",
       "      <td>5</td>\n",
       "      <td>2018-03-10 00:00:00</td>\n",
       "      <td>2018-03-11 03:05:13</td>\n",
       "    </tr>\n",
       "    <tr>\n",
       "      <th>2</th>\n",
       "      <td>228ce5500dc1d8e020d8d1322874b6f0</td>\n",
       "      <td>f9e4b658b201a9f2ecdecbb34bed034b</td>\n",
       "      <td>5</td>\n",
       "      <td>2018-02-17 00:00:00</td>\n",
       "      <td>2018-02-18 14:36:24</td>\n",
       "    </tr>\n",
       "    <tr>\n",
       "      <th>3</th>\n",
       "      <td>e64fb393e7b32834bb789ff8bb30750e</td>\n",
       "      <td>658677c97b385a9be170737859d3511b</td>\n",
       "      <td>5</td>\n",
       "      <td>2017-04-21 00:00:00</td>\n",
       "      <td>2017-04-21 22:02:06</td>\n",
       "    </tr>\n",
       "    <tr>\n",
       "      <th>4</th>\n",
       "      <td>f7c4243c7fe1938f181bec41a392bdeb</td>\n",
       "      <td>8e6bfb81e283fa7e4f11123a3fb894f1</td>\n",
       "      <td>5</td>\n",
       "      <td>2018-03-01 00:00:00</td>\n",
       "      <td>2018-03-02 10:26:53</td>\n",
       "    </tr>\n",
       "    <tr>\n",
       "      <th>...</th>\n",
       "      <td>...</td>\n",
       "      <td>...</td>\n",
       "      <td>...</td>\n",
       "      <td>...</td>\n",
       "      <td>...</td>\n",
       "    </tr>\n",
       "    <tr>\n",
       "      <th>99219</th>\n",
       "      <td>574ed12dd733e5fa530cfd4bbf39d7c9</td>\n",
       "      <td>2a8c23fee101d4d5662fa670396eb8da</td>\n",
       "      <td>5</td>\n",
       "      <td>2018-07-07 00:00:00</td>\n",
       "      <td>2018-07-14 17:18:30</td>\n",
       "    </tr>\n",
       "    <tr>\n",
       "      <th>99220</th>\n",
       "      <td>f3897127253a9592a73be9bdfdf4ed7a</td>\n",
       "      <td>22ec9f0669f784db00fa86d035cf8602</td>\n",
       "      <td>5</td>\n",
       "      <td>2017-12-09 00:00:00</td>\n",
       "      <td>2017-12-11 20:06:42</td>\n",
       "    </tr>\n",
       "    <tr>\n",
       "      <th>99221</th>\n",
       "      <td>b3de70c89b1510c4cd3d0649fd302472</td>\n",
       "      <td>55d4004744368f5571d1f590031933e4</td>\n",
       "      <td>5</td>\n",
       "      <td>2018-03-22 00:00:00</td>\n",
       "      <td>2018-03-23 09:10:43</td>\n",
       "    </tr>\n",
       "    <tr>\n",
       "      <th>99222</th>\n",
       "      <td>1adeb9d84d72fe4e337617733eb85149</td>\n",
       "      <td>7725825d039fc1f0ceb7635e3f7d9206</td>\n",
       "      <td>4</td>\n",
       "      <td>2018-07-01 00:00:00</td>\n",
       "      <td>2018-07-02 12:59:13</td>\n",
       "    </tr>\n",
       "    <tr>\n",
       "      <th>99223</th>\n",
       "      <td>efe49f1d6f951dd88b51e6ccd4cc548f</td>\n",
       "      <td>90531360ecb1eec2a1fbb265a0db0508</td>\n",
       "      <td>1</td>\n",
       "      <td>2017-07-03 00:00:00</td>\n",
       "      <td>2017-07-03 21:01:49</td>\n",
       "    </tr>\n",
       "  </tbody>\n",
       "</table>\n",
       "<p>99224 rows × 5 columns</p>\n",
       "</div>"
      ],
      "text/plain": [
       "                              review_id                          order_id  \\\n",
       "0      7bc2406110b926393aa56f80a40eba40  73fc7af87114b39712e6da79b0a377eb   \n",
       "1      80e641a11e56f04c1ad469d5645fdfde  a548910a1c6147796b98fdf73dbeba33   \n",
       "2      228ce5500dc1d8e020d8d1322874b6f0  f9e4b658b201a9f2ecdecbb34bed034b   \n",
       "3      e64fb393e7b32834bb789ff8bb30750e  658677c97b385a9be170737859d3511b   \n",
       "4      f7c4243c7fe1938f181bec41a392bdeb  8e6bfb81e283fa7e4f11123a3fb894f1   \n",
       "...                                 ...                               ...   \n",
       "99219  574ed12dd733e5fa530cfd4bbf39d7c9  2a8c23fee101d4d5662fa670396eb8da   \n",
       "99220  f3897127253a9592a73be9bdfdf4ed7a  22ec9f0669f784db00fa86d035cf8602   \n",
       "99221  b3de70c89b1510c4cd3d0649fd302472  55d4004744368f5571d1f590031933e4   \n",
       "99222  1adeb9d84d72fe4e337617733eb85149  7725825d039fc1f0ceb7635e3f7d9206   \n",
       "99223  efe49f1d6f951dd88b51e6ccd4cc548f  90531360ecb1eec2a1fbb265a0db0508   \n",
       "\n",
       "       review_score review_creation_date review_answer_timestamp  \n",
       "0                 4  2018-01-18 00:00:00     2018-01-18 21:46:59  \n",
       "1                 5  2018-03-10 00:00:00     2018-03-11 03:05:13  \n",
       "2                 5  2018-02-17 00:00:00     2018-02-18 14:36:24  \n",
       "3                 5  2017-04-21 00:00:00     2017-04-21 22:02:06  \n",
       "4                 5  2018-03-01 00:00:00     2018-03-02 10:26:53  \n",
       "...             ...                  ...                     ...  \n",
       "99219             5  2018-07-07 00:00:00     2018-07-14 17:18:30  \n",
       "99220             5  2017-12-09 00:00:00     2017-12-11 20:06:42  \n",
       "99221             5  2018-03-22 00:00:00     2018-03-23 09:10:43  \n",
       "99222             4  2018-07-01 00:00:00     2018-07-02 12:59:13  \n",
       "99223             1  2017-07-03 00:00:00     2017-07-03 21:01:49  \n",
       "\n",
       "[99224 rows x 5 columns]"
      ]
     },
     "execution_count": 8,
     "metadata": {
     },
     "output_type": "execute_result"
    }
   ],
   "source": [
    "order_reviews_clean = order_reviews.drop(['review_comment_title','review_comment_message'],axis=1)\n",
    "order_reviews_clean\n"
   ]
  },
  {
   "cell_type": "code",
   "execution_count": 132,
   "metadata": {
    "collapsed": false
   },
   "outputs": [
    {
     "data": {
      "text/plain": [
       "cama_mesa_banho                  3029\n",
       "esporte_lazer                    2867\n",
       "moveis_decoracao                 2657\n",
       "beleza_saude                     2444\n",
       "utilidades_domesticas            2335\n",
       "                                 ... \n",
       "fashion_roupa_infanto_juvenil       5\n",
       "casa_conforto_2                     5\n",
       "pc_gamer                            3\n",
       "seguros_e_servicos                  2\n",
       "cds_dvds_musicais                   1\n",
       "Name: product_category_name, Length: 73, dtype: int64"
      ]
     },
     "execution_count": 132,
     "metadata": {
     },
     "output_type": "execute_result"
    }
   ],
   "source": [
    "products_clean[\"product_category_name\"].value_counts()\n"
   ]
  },
  {
   "cell_type": "code",
   "execution_count": 137,
   "metadata": {
    "collapsed": false
   },
   "outputs": [
    {
     "data": {
      "text/html": [
       "<div>\n",
       "<style scoped>\n",
       "    .dataframe tbody tr th:only-of-type {\n",
       "        vertical-align: middle;\n",
       "    }\n",
       "\n",
       "    .dataframe tbody tr th {\n",
       "        vertical-align: top;\n",
       "    }\n",
       "\n",
       "    .dataframe thead th {\n",
       "        text-align: right;\n",
       "    }\n",
       "</style>\n",
       "<table border=\"1\" class=\"dataframe\">\n",
       "  <thead>\n",
       "    <tr style=\"text-align: right;\">\n",
       "      <th></th>\n",
       "      <th>product_id</th>\n",
       "      <th>product_category_name</th>\n",
       "      <th>product_name_lenght</th>\n",
       "      <th>product_description_lenght</th>\n",
       "      <th>product_photos_qty</th>\n",
       "      <th>product_weight_g</th>\n",
       "      <th>product_length_cm</th>\n",
       "      <th>product_height_cm</th>\n",
       "      <th>product_width_cm</th>\n",
       "      <th>product_category_name_english</th>\n",
       "    </tr>\n",
       "  </thead>\n",
       "  <tbody>\n",
       "    <tr>\n",
       "      <th>0</th>\n",
       "      <td>1e9e8ef04dbcff4541ed26657ea517e5</td>\n",
       "      <td>perfumaria</td>\n",
       "      <td>40.0</td>\n",
       "      <td>287.0</td>\n",
       "      <td>1.0</td>\n",
       "      <td>225.0</td>\n",
       "      <td>16.0</td>\n",
       "      <td>10.0</td>\n",
       "      <td>14.0</td>\n",
       "      <td>health_beauty</td>\n",
       "    </tr>\n",
       "    <tr>\n",
       "      <th>1</th>\n",
       "      <td>3aa071139cb16b67ca9e5dea641aaa2f</td>\n",
       "      <td>artes</td>\n",
       "      <td>44.0</td>\n",
       "      <td>276.0</td>\n",
       "      <td>1.0</td>\n",
       "      <td>1000.0</td>\n",
       "      <td>30.0</td>\n",
       "      <td>18.0</td>\n",
       "      <td>20.0</td>\n",
       "      <td>computers_accessories</td>\n",
       "    </tr>\n",
       "    <tr>\n",
       "      <th>2</th>\n",
       "      <td>96bd76ec8810374ed1b65e291975717f</td>\n",
       "      <td>esporte_lazer</td>\n",
       "      <td>46.0</td>\n",
       "      <td>250.0</td>\n",
       "      <td>1.0</td>\n",
       "      <td>154.0</td>\n",
       "      <td>18.0</td>\n",
       "      <td>9.0</td>\n",
       "      <td>15.0</td>\n",
       "      <td>auto</td>\n",
       "    </tr>\n",
       "    <tr>\n",
       "      <th>3</th>\n",
       "      <td>cef67bcfe19066a932b7673e239eb23d</td>\n",
       "      <td>bebes</td>\n",
       "      <td>27.0</td>\n",
       "      <td>261.0</td>\n",
       "      <td>1.0</td>\n",
       "      <td>371.0</td>\n",
       "      <td>26.0</td>\n",
       "      <td>4.0</td>\n",
       "      <td>26.0</td>\n",
       "      <td>bed_bath_table</td>\n",
       "    </tr>\n",
       "    <tr>\n",
       "      <th>4</th>\n",
       "      <td>9dc1a7de274444849c219cff195d0b71</td>\n",
       "      <td>utilidades_domesticas</td>\n",
       "      <td>37.0</td>\n",
       "      <td>402.0</td>\n",
       "      <td>4.0</td>\n",
       "      <td>625.0</td>\n",
       "      <td>20.0</td>\n",
       "      <td>17.0</td>\n",
       "      <td>13.0</td>\n",
       "      <td>furniture_decor</td>\n",
       "    </tr>\n",
       "    <tr>\n",
       "      <th>...</th>\n",
       "      <td>...</td>\n",
       "      <td>...</td>\n",
       "      <td>...</td>\n",
       "      <td>...</td>\n",
       "      <td>...</td>\n",
       "      <td>...</td>\n",
       "      <td>...</td>\n",
       "      <td>...</td>\n",
       "      <td>...</td>\n",
       "      <td>...</td>\n",
       "    </tr>\n",
       "    <tr>\n",
       "      <th>32946</th>\n",
       "      <td>a0b7d5a992ccda646f2d34e418fff5a0</td>\n",
       "      <td>moveis_decoracao</td>\n",
       "      <td>45.0</td>\n",
       "      <td>67.0</td>\n",
       "      <td>2.0</td>\n",
       "      <td>12300.0</td>\n",
       "      <td>40.0</td>\n",
       "      <td>40.0</td>\n",
       "      <td>40.0</td>\n",
       "      <td>NaN</td>\n",
       "    </tr>\n",
       "    <tr>\n",
       "      <th>32947</th>\n",
       "      <td>bf4538d88321d0fd4412a93c974510e6</td>\n",
       "      <td>construcao_ferramentas_iluminacao</td>\n",
       "      <td>41.0</td>\n",
       "      <td>971.0</td>\n",
       "      <td>1.0</td>\n",
       "      <td>1700.0</td>\n",
       "      <td>16.0</td>\n",
       "      <td>19.0</td>\n",
       "      <td>16.0</td>\n",
       "      <td>NaN</td>\n",
       "    </tr>\n",
       "    <tr>\n",
       "      <th>32948</th>\n",
       "      <td>9a7c6041fa9592d9d9ef6cfe62a71f8c</td>\n",
       "      <td>cama_mesa_banho</td>\n",
       "      <td>50.0</td>\n",
       "      <td>799.0</td>\n",
       "      <td>1.0</td>\n",
       "      <td>1400.0</td>\n",
       "      <td>27.0</td>\n",
       "      <td>7.0</td>\n",
       "      <td>27.0</td>\n",
       "      <td>NaN</td>\n",
       "    </tr>\n",
       "    <tr>\n",
       "      <th>32949</th>\n",
       "      <td>83808703fc0706a22e264b9d75f04a2e</td>\n",
       "      <td>informatica_acessorios</td>\n",
       "      <td>60.0</td>\n",
       "      <td>156.0</td>\n",
       "      <td>2.0</td>\n",
       "      <td>700.0</td>\n",
       "      <td>31.0</td>\n",
       "      <td>13.0</td>\n",
       "      <td>20.0</td>\n",
       "      <td>NaN</td>\n",
       "    </tr>\n",
       "    <tr>\n",
       "      <th>32950</th>\n",
       "      <td>106392145fca363410d287a815be6de4</td>\n",
       "      <td>cama_mesa_banho</td>\n",
       "      <td>58.0</td>\n",
       "      <td>309.0</td>\n",
       "      <td>1.0</td>\n",
       "      <td>2083.0</td>\n",
       "      <td>12.0</td>\n",
       "      <td>2.0</td>\n",
       "      <td>7.0</td>\n",
       "      <td>NaN</td>\n",
       "    </tr>\n",
       "  </tbody>\n",
       "</table>\n",
       "<p>32340 rows × 10 columns</p>\n",
       "</div>"
      ],
      "text/plain": [
       "                             product_id              product_category_name  \\\n",
       "0      1e9e8ef04dbcff4541ed26657ea517e5                         perfumaria   \n",
       "1      3aa071139cb16b67ca9e5dea641aaa2f                              artes   \n",
       "2      96bd76ec8810374ed1b65e291975717f                      esporte_lazer   \n",
       "3      cef67bcfe19066a932b7673e239eb23d                              bebes   \n",
       "4      9dc1a7de274444849c219cff195d0b71              utilidades_domesticas   \n",
       "...                                 ...                                ...   \n",
       "32946  a0b7d5a992ccda646f2d34e418fff5a0                   moveis_decoracao   \n",
       "32947  bf4538d88321d0fd4412a93c974510e6  construcao_ferramentas_iluminacao   \n",
       "32948  9a7c6041fa9592d9d9ef6cfe62a71f8c                    cama_mesa_banho   \n",
       "32949  83808703fc0706a22e264b9d75f04a2e             informatica_acessorios   \n",
       "32950  106392145fca363410d287a815be6de4                    cama_mesa_banho   \n",
       "\n",
       "       product_name_lenght  product_description_lenght  product_photos_qty  \\\n",
       "0                     40.0                       287.0                 1.0   \n",
       "1                     44.0                       276.0                 1.0   \n",
       "2                     46.0                       250.0                 1.0   \n",
       "3                     27.0                       261.0                 1.0   \n",
       "4                     37.0                       402.0                 4.0   \n",
       "...                    ...                         ...                 ...   \n",
       "32946                 45.0                        67.0                 2.0   \n",
       "32947                 41.0                       971.0                 1.0   \n",
       "32948                 50.0                       799.0                 1.0   \n",
       "32949                 60.0                       156.0                 2.0   \n",
       "32950                 58.0                       309.0                 1.0   \n",
       "\n",
       "       product_weight_g  product_length_cm  product_height_cm  \\\n",
       "0                 225.0               16.0               10.0   \n",
       "1                1000.0               30.0               18.0   \n",
       "2                 154.0               18.0                9.0   \n",
       "3                 371.0               26.0                4.0   \n",
       "4                 625.0               20.0               17.0   \n",
       "...                 ...                ...                ...   \n",
       "32946           12300.0               40.0               40.0   \n",
       "32947            1700.0               16.0               19.0   \n",
       "32948            1400.0               27.0                7.0   \n",
       "32949             700.0               31.0               13.0   \n",
       "32950            2083.0               12.0                2.0   \n",
       "\n",
       "       product_width_cm product_category_name_english  \n",
       "0                  14.0                 health_beauty  \n",
       "1                  20.0         computers_accessories  \n",
       "2                  15.0                          auto  \n",
       "3                  26.0                bed_bath_table  \n",
       "4                  13.0               furniture_decor  \n",
       "...                 ...                           ...  \n",
       "32946              40.0                           NaN  \n",
       "32947              16.0                           NaN  \n",
       "32948              27.0                           NaN  \n",
       "32949              20.0                           NaN  \n",
       "32950               7.0                           NaN  \n",
       "\n",
       "[32340 rows x 10 columns]"
      ]
     },
     "execution_count": 137,
     "metadata": {
     },
     "output_type": "execute_result"
    }
   ],
   "source": [
   ]
  },
  {
   "cell_type": "code",
   "execution_count": 125,
   "metadata": {
    "collapsed": false
   },
   "outputs": [
    {
     "data": {
      "text/html": [
       "<div>\n",
       "<style scoped>\n",
       "    .dataframe tbody tr th:only-of-type {\n",
       "        vertical-align: middle;\n",
       "    }\n",
       "\n",
       "    .dataframe tbody tr th {\n",
       "        vertical-align: top;\n",
       "    }\n",
       "\n",
       "    .dataframe thead th {\n",
       "        text-align: right;\n",
       "    }\n",
       "</style>\n",
       "<table border=\"1\" class=\"dataframe\">\n",
       "  <thead>\n",
       "    <tr style=\"text-align: right;\">\n",
       "      <th></th>\n",
       "      <th>product_id</th>\n",
       "      <th>product_category_name</th>\n",
       "      <th>product_name_lenght</th>\n",
       "      <th>product_description_lenght</th>\n",
       "      <th>product_photos_qty</th>\n",
       "      <th>product_weight_g</th>\n",
       "      <th>product_length_cm</th>\n",
       "      <th>product_height_cm</th>\n",
       "      <th>product_width_cm</th>\n",
       "    </tr>\n",
       "  </thead>\n",
       "  <tbody>\n",
       "    <tr>\n",
       "      <th>0</th>\n",
       "      <td>1e9e8ef04dbcff4541ed26657ea517e5</td>\n",
       "      <td>perfumaria</td>\n",
       "      <td>40.0</td>\n",
       "      <td>287.0</td>\n",
       "      <td>1.0</td>\n",
       "      <td>225.0</td>\n",
       "      <td>16.0</td>\n",
       "      <td>10.0</td>\n",
       "      <td>14.0</td>\n",
       "    </tr>\n",
       "    <tr>\n",
       "      <th>1</th>\n",
       "      <td>3aa071139cb16b67ca9e5dea641aaa2f</td>\n",
       "      <td>artes</td>\n",
       "      <td>44.0</td>\n",
       "      <td>276.0</td>\n",
       "      <td>1.0</td>\n",
       "      <td>1000.0</td>\n",
       "      <td>30.0</td>\n",
       "      <td>18.0</td>\n",
       "      <td>20.0</td>\n",
       "    </tr>\n",
       "    <tr>\n",
       "      <th>2</th>\n",
       "      <td>96bd76ec8810374ed1b65e291975717f</td>\n",
       "      <td>esporte_lazer</td>\n",
       "      <td>46.0</td>\n",
       "      <td>250.0</td>\n",
       "      <td>1.0</td>\n",
       "      <td>154.0</td>\n",
       "      <td>18.0</td>\n",
       "      <td>9.0</td>\n",
       "      <td>15.0</td>\n",
       "    </tr>\n",
       "    <tr>\n",
       "      <th>3</th>\n",
       "      <td>cef67bcfe19066a932b7673e239eb23d</td>\n",
       "      <td>bebes</td>\n",
       "      <td>27.0</td>\n",
       "      <td>261.0</td>\n",
       "      <td>1.0</td>\n",
       "      <td>371.0</td>\n",
       "      <td>26.0</td>\n",
       "      <td>4.0</td>\n",
       "      <td>26.0</td>\n",
       "    </tr>\n",
       "    <tr>\n",
       "      <th>4</th>\n",
       "      <td>9dc1a7de274444849c219cff195d0b71</td>\n",
       "      <td>utilidades_domesticas</td>\n",
       "      <td>37.0</td>\n",
       "      <td>402.0</td>\n",
       "      <td>4.0</td>\n",
       "      <td>625.0</td>\n",
       "      <td>20.0</td>\n",
       "      <td>17.0</td>\n",
       "      <td>13.0</td>\n",
       "    </tr>\n",
       "    <tr>\n",
       "      <th>...</th>\n",
       "      <td>...</td>\n",
       "      <td>...</td>\n",
       "      <td>...</td>\n",
       "      <td>...</td>\n",
       "      <td>...</td>\n",
       "      <td>...</td>\n",
       "      <td>...</td>\n",
       "      <td>...</td>\n",
       "      <td>...</td>\n",
       "    </tr>\n",
       "    <tr>\n",
       "      <th>32946</th>\n",
       "      <td>a0b7d5a992ccda646f2d34e418fff5a0</td>\n",
       "      <td>moveis_decoracao</td>\n",
       "      <td>45.0</td>\n",
       "      <td>67.0</td>\n",
       "      <td>2.0</td>\n",
       "      <td>12300.0</td>\n",
       "      <td>40.0</td>\n",
       "      <td>40.0</td>\n",
       "      <td>40.0</td>\n",
       "    </tr>\n",
       "    <tr>\n",
       "      <th>32947</th>\n",
       "      <td>bf4538d88321d0fd4412a93c974510e6</td>\n",
       "      <td>construcao_ferramentas_iluminacao</td>\n",
       "      <td>41.0</td>\n",
       "      <td>971.0</td>\n",
       "      <td>1.0</td>\n",
       "      <td>1700.0</td>\n",
       "      <td>16.0</td>\n",
       "      <td>19.0</td>\n",
       "      <td>16.0</td>\n",
       "    </tr>\n",
       "    <tr>\n",
       "      <th>32948</th>\n",
       "      <td>9a7c6041fa9592d9d9ef6cfe62a71f8c</td>\n",
       "      <td>cama_mesa_banho</td>\n",
       "      <td>50.0</td>\n",
       "      <td>799.0</td>\n",
       "      <td>1.0</td>\n",
       "      <td>1400.0</td>\n",
       "      <td>27.0</td>\n",
       "      <td>7.0</td>\n",
       "      <td>27.0</td>\n",
       "    </tr>\n",
       "    <tr>\n",
       "      <th>32949</th>\n",
       "      <td>83808703fc0706a22e264b9d75f04a2e</td>\n",
       "      <td>informatica_acessorios</td>\n",
       "      <td>60.0</td>\n",
       "      <td>156.0</td>\n",
       "      <td>2.0</td>\n",
       "      <td>700.0</td>\n",
       "      <td>31.0</td>\n",
       "      <td>13.0</td>\n",
       "      <td>20.0</td>\n",
       "    </tr>\n",
       "    <tr>\n",
       "      <th>32950</th>\n",
       "      <td>106392145fca363410d287a815be6de4</td>\n",
       "      <td>cama_mesa_banho</td>\n",
       "      <td>58.0</td>\n",
       "      <td>309.0</td>\n",
       "      <td>1.0</td>\n",
       "      <td>2083.0</td>\n",
       "      <td>12.0</td>\n",
       "      <td>2.0</td>\n",
       "      <td>7.0</td>\n",
       "    </tr>\n",
       "  </tbody>\n",
       "</table>\n",
       "<p>32951 rows × 9 columns</p>\n",
       "</div>"
      ],
      "text/plain": [
       "                             product_id              product_category_name  \\\n",
       "0      1e9e8ef04dbcff4541ed26657ea517e5                         perfumaria   \n",
       "1      3aa071139cb16b67ca9e5dea641aaa2f                              artes   \n",
       "2      96bd76ec8810374ed1b65e291975717f                      esporte_lazer   \n",
       "3      cef67bcfe19066a932b7673e239eb23d                              bebes   \n",
       "4      9dc1a7de274444849c219cff195d0b71              utilidades_domesticas   \n",
       "...                                 ...                                ...   \n",
       "32946  a0b7d5a992ccda646f2d34e418fff5a0                   moveis_decoracao   \n",
       "32947  bf4538d88321d0fd4412a93c974510e6  construcao_ferramentas_iluminacao   \n",
       "32948  9a7c6041fa9592d9d9ef6cfe62a71f8c                    cama_mesa_banho   \n",
       "32949  83808703fc0706a22e264b9d75f04a2e             informatica_acessorios   \n",
       "32950  106392145fca363410d287a815be6de4                    cama_mesa_banho   \n",
       "\n",
       "       product_name_lenght  product_description_lenght  product_photos_qty  \\\n",
       "0                     40.0                       287.0                 1.0   \n",
       "1                     44.0                       276.0                 1.0   \n",
       "2                     46.0                       250.0                 1.0   \n",
       "3                     27.0                       261.0                 1.0   \n",
       "4                     37.0                       402.0                 4.0   \n",
       "...                    ...                         ...                 ...   \n",
       "32946                 45.0                        67.0                 2.0   \n",
       "32947                 41.0                       971.0                 1.0   \n",
       "32948                 50.0                       799.0                 1.0   \n",
       "32949                 60.0                       156.0                 2.0   \n",
       "32950                 58.0                       309.0                 1.0   \n",
       "\n",
       "       product_weight_g  product_length_cm  product_height_cm  \\\n",
       "0                 225.0               16.0               10.0   \n",
       "1                1000.0               30.0               18.0   \n",
       "2                 154.0               18.0                9.0   \n",
       "3                 371.0               26.0                4.0   \n",
       "4                 625.0               20.0               17.0   \n",
       "...                 ...                ...                ...   \n",
       "32946           12300.0               40.0               40.0   \n",
       "32947            1700.0               16.0               19.0   \n",
       "32948            1400.0               27.0                7.0   \n",
       "32949             700.0               31.0               13.0   \n",
       "32950            2083.0               12.0                2.0   \n",
       "\n",
       "       product_width_cm  \n",
       "0                  14.0  \n",
       "1                  20.0  \n",
       "2                  15.0  \n",
       "3                  26.0  \n",
       "4                  13.0  \n",
       "...                 ...  \n",
       "32946              40.0  \n",
       "32947              16.0  \n",
       "32948              27.0  \n",
       "32949              20.0  \n",
       "32950               7.0  \n",
       "\n",
       "[32951 rows x 9 columns]"
      ]
     },
     "execution_count": 125,
     "metadata": {
     },
     "output_type": "execute_result"
    }
   ],
   "source": [
    "products"
   ]
  },
  {
   "cell_type": "code",
   "execution_count": 52,
   "metadata": {
    "collapsed": false
   },
   "outputs": [
    {
     "ename": "NameError",
     "evalue": "name 'order_reviews_clean' is not defined",
     "output_type": "error",
     "traceback": [
      "\u001b[0;31m---------------------------------------------------------------------------\u001b[0m",
      "\u001b[0;31mNameError\u001b[0m                                 Traceback (most recent call last)",
      "\u001b[0;32m/tmp/ipykernel_408/1498483452.py\u001b[0m in \u001b[0;36m<module>\u001b[0;34m\u001b[0m\n\u001b[0;32m----> 1\u001b[0;31m \u001b[0mprint\u001b[0m\u001b[0;34m(\u001b[0m\u001b[0morder_reviews_clean\u001b[0m\u001b[0;34m[\u001b[0m\u001b[0;34m'review_score'\u001b[0m\u001b[0;34m]\u001b[0m\u001b[0;34m.\u001b[0m\u001b[0mmean\u001b[0m\u001b[0;34m(\u001b[0m\u001b[0;34m)\u001b[0m\u001b[0;34m)\u001b[0m\u001b[0;34m\u001b[0m\u001b[0;34m\u001b[0m\u001b[0m\n\u001b[0m",
      "\u001b[0;31mNameError\u001b[0m: name 'order_reviews_clean' is not defined"
     ]
    }
   ],
   "source": [
    "print(order_reviews_clean['review_score'].mean())"
   ]
  },
  {
   "cell_type": "code",
   "execution_count": 121,
   "metadata": {
    "collapsed": false
   },
   "outputs": [
    {
     "data": {
      "text/plain": [
       "product_category_name            0\n",
       "product_category_name_english    0\n",
       "dtype: int64"
      ]
     },
     "execution_count": 121,
     "metadata": {
     },
     "output_type": "execute_result"
    }
   ],
   "source": [
    "prod_cat.isna().sum()\n",
    "\n"
   ]
  },
  {
   "cell_type": "code",
   "execution_count": 123,
   "metadata": {
    "collapsed": false
   },
   "outputs": [
    {
     "data": {
      "text/plain": [
       "product_id                    0\n",
       "product_category_name         0\n",
       "product_name_lenght           0\n",
       "product_description_lenght    0\n",
       "product_photos_qty            0\n",
       "product_weight_g              0\n",
       "product_length_cm             0\n",
       "product_height_cm             0\n",
       "product_width_cm              0\n",
       "dtype: int64"
      ]
     },
     "execution_count": 123,
     "metadata": {
     },
     "output_type": "execute_result"
    }
   ],
   "source": [
    "order"
   ]
  },
  {
   "cell_type": "code",
   "execution_count": 151,
   "metadata": {
    "collapsed": false
   },
   "outputs": [
    {
     "data": {
      "text/plain": [
       "order_id                            0\n",
       "customer_id                         0\n",
       "order_status                        0\n",
       "order_purchase_timestamp            0\n",
       "order_approved_at                 160\n",
       "order_delivered_carrier_date     1783\n",
       "order_delivered_customer_date    2965\n",
       "order_estimated_delivery_date       0\n",
       "dtype: int64"
      ]
     },
     "execution_count": 151,
     "metadata": {
     },
     "output_type": "execute_result"
    }
   ],
   "source": [
    "orders"
   ]
  },
  {
   "cell_type": "code",
   "execution_count": 8,
   "metadata": {
    "collapsed": false
   },
   "outputs": [
    {
     "data": {
      "text/plain": [
       "3442f8959a84dea7ee197c632cb2df15    1\n",
       "e26901d5ab434ce92fd9b5c256820a4e    1\n",
       "7e3f87d16fb353f408d467e74fbd8014    1\n",
       "9140bd1d9de28b197dce077bdd687438    1\n",
       "a2b911e9ad40dc7d61c142a4683e2d85    1\n",
       "                                   ..\n",
       "f918546be4bec7104d117789ba758b2b    1\n",
       "eb4a59a06b3948e851a7d7a830bcbc42    1\n",
       "80146bc52c4f6af5239b23de2a20262b    1\n",
       "4091f77d8c768fc3e81c20761471761d    1\n",
       "9e25199f6ef7e7c347120ff175652c3b    1\n",
       "Name: seller_id, Length: 3095, dtype: int64"
      ]
     },
     "execution_count": 8,
     "metadata": {
     },
     "output_type": "execute_result"
    }
   ],
   "source": [
    "#Highest rated sellers\n",
    "sellers\n",
    "sellers_count= sellers['seller_id'].value_counts()\n",
    "sellers_count\n",
    "order_items"
   ]
  },
  {
   "cell_type": "code",
   "execution_count": 106,
   "metadata": {
    "collapsed": false
   },
   "outputs": [
    {
     "name": "stdout",
     "output_type": "stream",
     "text": [
      "6560211a19b47992c3666cc44a7e94c0    2033\n",
      "4a3ca9315b744ce9f8e9374361493884    1987\n",
      "1f50f920176fa81dab994f9023523100    1931\n",
      "cc419e0650a3c5ba77189a1882b7556a    1775\n",
      "da8622b14eb17ae2831f4ac5b9dab84a    1551\n",
      "                                    ... \n",
      "400f221ab83037c0ea78f1267da9624d       1\n",
      "1746c1ae87ac63d530c7c943d0ac42e2       1\n",
      "16bdc8cefd0e32a6f0824d296c5ad14a       1\n",
      "ace601496e211a664100321f038f50af       1\n",
      "13d95f0f6f73943d4ceffad0fc2cd32c       1\n",
      "Name: seller_id, Length: 3095, dtype: int64\n"
     ]
    },
    {
     "data": {
      "text/plain": [
       "'6560211a19b47992c3666cc44a7e94c0'"
      ]
     },
     "execution_count": 106,
     "metadata": {
     },
     "output_type": "execute_result"
    }
   ],
   "source": [
    "top_sellers =order_items['seller_id'].value_counts()\n",
    "sellers_200 = top_sellers[top_sellers >200]\n",
    "\n",
    "sellers_200.index[0]\n",
    "#list1.mean()\n",
    "#order_items.groupby('seller_id')['order_id'].count()"
   ]
  },
  {
   "cell_type": "code",
   "execution_count": 42,
   "metadata": {
    "collapsed": false
   },
   "outputs": [
   ],
   "source": [
    "top_seller_ids = sellers_200.index"
   ]
  },
  {
   "cell_type": "code",
   "execution_count": 82,
   "metadata": {
    "collapsed": false
   },
   "outputs": [
    {
     "name": "stdout",
     "output_type": "stream",
     "text": [
      "                                order_id                         seller_id\n",
      "6       00054e8431b9d7675808bcb819fb4a32  7040e82f899a04d1b434b795a43b4617\n",
      "10      00061f2a7bc09da83e415a52dc8a4af1  cc419e0650a3c5ba77189a1882b7556a\n",
      "12      0006ec9db01a64e59a68b2c340bf65a7  4a3ca9315b744ce9f8e9374361493884\n",
      "13      0008288aa423d2a3f00fcb17cd7d8719  1f50f920176fa81dab994f9023523100\n",
      "14      0008288aa423d2a3f00fcb17cd7d8719  1f50f920176fa81dab994f9023523100\n",
      "...                                  ...                               ...\n",
      "112632  fff7c4452f050315db1b3f24d9df5fcd  7e93a43ef30c4f03f38b393420bc753a\n",
      "112633  fff8286f77788ab8b55b2e5747fa7dd8  ea8482cd71df3c1969d7b9473ff13abc\n",
      "112634  fff8287bbae429a99bb7e8c21d151c41  4e922959ae960d389249c378d1c939f5\n",
      "112635  fff8287bbae429a99bb7e8c21d151c41  4e922959ae960d389249c378d1c939f5\n",
      "112647  fffce4705a9662cd70adb13d4a31832d  c3cfdc648177fdbbbb35635a37472c53\n",
      "\n",
      "[51026 rows x 2 columns]\n",
      "45172\n"
     ]
    },
    {
     "data": {
      "text/plain": [
       "102"
      ]
     },
     "execution_count": 82,
     "metadata": {
     },
     "output_type": "execute_result"
    }
   ],
   "source": [
    "top_seller_orders = order_items[order_items['seller_id'].isin(top_seller_ids)]\n",
    "\n",
    "# print(top_seller_orders)\n",
    "top_seller_order_ids = top_seller_orders.iloc[:,0:]\n",
    "\n",
    "sellers_orders_ids = top_seller_orders[[\"order_id\",\"seller_id\"]]\n",
    "print(sellers_orders_ids)\n",
    "print(len(sellers_orders_ids['order_id'].unique()))\n",
    "len(sellers_orders_ids['seller_id'].unique())\n",
    "# print(top_seller_order_ids)"
   ]
  },
  {
   "cell_type": "code",
   "execution_count": 92,
   "metadata": {
    "collapsed": false
   },
   "outputs": [
    {
     "data": {
      "text/html": [
       "<div>\n",
       "<style scoped>\n",
       "    .dataframe tbody tr th:only-of-type {\n",
       "        vertical-align: middle;\n",
       "    }\n",
       "\n",
       "    .dataframe tbody tr th {\n",
       "        vertical-align: top;\n",
       "    }\n",
       "\n",
       "    .dataframe thead th {\n",
       "        text-align: right;\n",
       "    }\n",
       "</style>\n",
       "<table border=\"1\" class=\"dataframe\">\n",
       "  <thead>\n",
       "    <tr style=\"text-align: right;\">\n",
       "      <th></th>\n",
       "      <th>review_id</th>\n",
       "      <th>order_id</th>\n",
       "      <th>review_score</th>\n",
       "      <th>review_creation_date</th>\n",
       "      <th>review_answer_timestamp</th>\n",
       "      <th>seller_id</th>\n",
       "    </tr>\n",
       "  </thead>\n",
       "  <tbody>\n",
       "    <tr>\n",
       "      <th>0</th>\n",
       "      <td>228ce5500dc1d8e020d8d1322874b6f0</td>\n",
       "      <td>f9e4b658b201a9f2ecdecbb34bed034b</td>\n",
       "      <td>5</td>\n",
       "      <td>2018-02-17 00:00:00</td>\n",
       "      <td>2018-02-18 14:36:24</td>\n",
       "      <td>a1043bafd471dff536d0c462352beb48</td>\n",
       "    </tr>\n",
       "    <tr>\n",
       "      <th>1</th>\n",
       "      <td>e64fb393e7b32834bb789ff8bb30750e</td>\n",
       "      <td>658677c97b385a9be170737859d3511b</td>\n",
       "      <td>5</td>\n",
       "      <td>2017-04-21 00:00:00</td>\n",
       "      <td>2017-04-21 22:02:06</td>\n",
       "      <td>a1043bafd471dff536d0c462352beb48</td>\n",
       "    </tr>\n",
       "    <tr>\n",
       "      <th>2</th>\n",
       "      <td>15197aa66ff4d0650b5434f1b46cda19</td>\n",
       "      <td>b18dcdf73be66366873cd26c5724d1dc</td>\n",
       "      <td>1</td>\n",
       "      <td>2018-04-13 00:00:00</td>\n",
       "      <td>2018-04-16 00:39:37</td>\n",
       "      <td>da8622b14eb17ae2831f4ac5b9dab84a</td>\n",
       "    </tr>\n",
       "    <tr>\n",
       "      <th>3</th>\n",
       "      <td>15197aa66ff4d0650b5434f1b46cda19</td>\n",
       "      <td>b18dcdf73be66366873cd26c5724d1dc</td>\n",
       "      <td>1</td>\n",
       "      <td>2018-04-13 00:00:00</td>\n",
       "      <td>2018-04-16 00:39:37</td>\n",
       "      <td>da8622b14eb17ae2831f4ac5b9dab84a</td>\n",
       "    </tr>\n",
       "    <tr>\n",
       "      <th>4</th>\n",
       "      <td>15197aa66ff4d0650b5434f1b46cda19</td>\n",
       "      <td>b18dcdf73be66366873cd26c5724d1dc</td>\n",
       "      <td>1</td>\n",
       "      <td>2018-04-13 00:00:00</td>\n",
       "      <td>2018-04-16 00:39:37</td>\n",
       "      <td>da8622b14eb17ae2831f4ac5b9dab84a</td>\n",
       "    </tr>\n",
       "    <tr>\n",
       "      <th>...</th>\n",
       "      <td>...</td>\n",
       "      <td>...</td>\n",
       "      <td>...</td>\n",
       "      <td>...</td>\n",
       "      <td>...</td>\n",
       "      <td>...</td>\n",
       "    </tr>\n",
       "    <tr>\n",
       "      <th>50530</th>\n",
       "      <td>a709d176f59bc3af77f4149c96bae357</td>\n",
       "      <td>d5cb12269711bd1eaf7eed8fd32a7c95</td>\n",
       "      <td>3</td>\n",
       "      <td>2018-05-19 00:00:00</td>\n",
       "      <td>2018-05-20 21:51:06</td>\n",
       "      <td>562fc2f2c2863ab7e79a9e4388a58a14</td>\n",
       "    </tr>\n",
       "    <tr>\n",
       "      <th>50531</th>\n",
       "      <td>115d72425fc59eec9a2e9d7594c6d93d</td>\n",
       "      <td>acd45245723df7cb52772a34416b41b1</td>\n",
       "      <td>3</td>\n",
       "      <td>2018-05-08 00:00:00</td>\n",
       "      <td>2018-05-10 14:37:03</td>\n",
       "      <td>dbc22125167c298ef99da25668e1011f</td>\n",
       "    </tr>\n",
       "    <tr>\n",
       "      <th>50532</th>\n",
       "      <td>c6b270c61f67c9f7cb07d84ea8aeaf8b</td>\n",
       "      <td>48f7ee67313eda32bfcf5b9c1dd9522d</td>\n",
       "      <td>5</td>\n",
       "      <td>2017-12-13 00:00:00</td>\n",
       "      <td>2017-12-14 11:09:36</td>\n",
       "      <td>6560211a19b47992c3666cc44a7e94c0</td>\n",
       "    </tr>\n",
       "    <tr>\n",
       "      <th>50533</th>\n",
       "      <td>f3897127253a9592a73be9bdfdf4ed7a</td>\n",
       "      <td>22ec9f0669f784db00fa86d035cf8602</td>\n",
       "      <td>5</td>\n",
       "      <td>2017-12-09 00:00:00</td>\n",
       "      <td>2017-12-11 20:06:42</td>\n",
       "      <td>46dc3b2cc0980fb8ec44634e21d2718e</td>\n",
       "    </tr>\n",
       "    <tr>\n",
       "      <th>50534</th>\n",
       "      <td>1adeb9d84d72fe4e337617733eb85149</td>\n",
       "      <td>7725825d039fc1f0ceb7635e3f7d9206</td>\n",
       "      <td>4</td>\n",
       "      <td>2018-07-01 00:00:00</td>\n",
       "      <td>2018-07-02 12:59:13</td>\n",
       "      <td>8d956fec2e4337affcb520f56fd8cbfd</td>\n",
       "    </tr>\n",
       "  </tbody>\n",
       "</table>\n",
       "<p>50535 rows × 6 columns</p>\n",
       "</div>"
      ],
      "text/plain": [
       "                              review_id                          order_id  \\\n",
       "0      228ce5500dc1d8e020d8d1322874b6f0  f9e4b658b201a9f2ecdecbb34bed034b   \n",
       "1      e64fb393e7b32834bb789ff8bb30750e  658677c97b385a9be170737859d3511b   \n",
       "2      15197aa66ff4d0650b5434f1b46cda19  b18dcdf73be66366873cd26c5724d1dc   \n",
       "3      15197aa66ff4d0650b5434f1b46cda19  b18dcdf73be66366873cd26c5724d1dc   \n",
       "4      15197aa66ff4d0650b5434f1b46cda19  b18dcdf73be66366873cd26c5724d1dc   \n",
       "...                                 ...                               ...   \n",
       "50530  a709d176f59bc3af77f4149c96bae357  d5cb12269711bd1eaf7eed8fd32a7c95   \n",
       "50531  115d72425fc59eec9a2e9d7594c6d93d  acd45245723df7cb52772a34416b41b1   \n",
       "50532  c6b270c61f67c9f7cb07d84ea8aeaf8b  48f7ee67313eda32bfcf5b9c1dd9522d   \n",
       "50533  f3897127253a9592a73be9bdfdf4ed7a  22ec9f0669f784db00fa86d035cf8602   \n",
       "50534  1adeb9d84d72fe4e337617733eb85149  7725825d039fc1f0ceb7635e3f7d9206   \n",
       "\n",
       "       review_score review_creation_date review_answer_timestamp  \\\n",
       "0                 5  2018-02-17 00:00:00     2018-02-18 14:36:24   \n",
       "1                 5  2017-04-21 00:00:00     2017-04-21 22:02:06   \n",
       "2                 1  2018-04-13 00:00:00     2018-04-16 00:39:37   \n",
       "3                 1  2018-04-13 00:00:00     2018-04-16 00:39:37   \n",
       "4                 1  2018-04-13 00:00:00     2018-04-16 00:39:37   \n",
       "...             ...                  ...                     ...   \n",
       "50530             3  2018-05-19 00:00:00     2018-05-20 21:51:06   \n",
       "50531             3  2018-05-08 00:00:00     2018-05-10 14:37:03   \n",
       "50532             5  2017-12-13 00:00:00     2017-12-14 11:09:36   \n",
       "50533             5  2017-12-09 00:00:00     2017-12-11 20:06:42   \n",
       "50534             4  2018-07-01 00:00:00     2018-07-02 12:59:13   \n",
       "\n",
       "                              seller_id  \n",
       "0      a1043bafd471dff536d0c462352beb48  \n",
       "1      a1043bafd471dff536d0c462352beb48  \n",
       "2      da8622b14eb17ae2831f4ac5b9dab84a  \n",
       "3      da8622b14eb17ae2831f4ac5b9dab84a  \n",
       "4      da8622b14eb17ae2831f4ac5b9dab84a  \n",
       "...                                 ...  \n",
       "50530  562fc2f2c2863ab7e79a9e4388a58a14  \n",
       "50531  dbc22125167c298ef99da25668e1011f  \n",
       "50532  6560211a19b47992c3666cc44a7e94c0  \n",
       "50533  46dc3b2cc0980fb8ec44634e21d2718e  \n",
       "50534  8d956fec2e4337affcb520f56fd8cbfd  \n",
       "\n",
       "[50535 rows x 6 columns]"
      ]
     },
     "execution_count": 92,
     "metadata": {
     },
     "output_type": "execute_result"
    }
   ],
   "source": [
    "reviews_with_sellers= pd.merge(order_reviews_clean2, sellers_orders_ids, on='order_id')\n",
    "\n",
    "reviews_with_sellers"
   ]
  },
  {
   "cell_type": "code",
   "execution_count": 116,
   "metadata": {
    "collapsed": false
   },
   "outputs": [
    {
     "data": {
      "text/plain": [
       "seller_id\n",
       "001cca7ae9ae17fb1caed9dfb1094831    3.902542\n",
       "0241d4d5d36f10f80c644447315af0bd    4.297959\n",
       "06a2c3af7b3aee5d69171b0e14f0ee87    4.002506\n",
       "0b90b6df587eb83608a64ea8b390cf07    4.023585\n",
       "0c8380b62e38e8a1e6adbeba7eb9688c    4.041284\n",
       "                                      ...   \n",
       "f7ba60f8c3f99e7ee4042fdef03b70c4    4.207792\n",
       "f8db351d8c4c4c22c6835c19a46f01b0    4.216179\n",
       "fa1c13f2614d7b5c4749cbc52fecda94    4.340206\n",
       "fa40cc5b934574b62717c68f3d678b6d    4.430678\n",
       "fe2032dab1a61af8794248c8196565c9    4.395349\n",
       "Name: review_score, Length: 102, dtype: float64"
      ]
     },
     "execution_count": 116,
     "metadata": {
     },
     "output_type": "execute_result"
    }
   ],
   "source": [
    "mean_review_top200 = reviews_with_sellers.groupby(\"seller_id\")['review_score'].mean()\n"
   ]
  },
  {
   "cell_type": "code",
   "execution_count": 128,
   "metadata": {
    "collapsed": false
   },
   "outputs": [
    {
     "data": {
      "text/html": [
       "<div>\n",
       "<style scoped>\n",
       "    .dataframe tbody tr th:only-of-type {\n",
       "        vertical-align: middle;\n",
       "    }\n",
       "\n",
       "    .dataframe tbody tr th {\n",
       "        vertical-align: top;\n",
       "    }\n",
       "\n",
       "    .dataframe thead th {\n",
       "        text-align: right;\n",
       "    }\n",
       "</style>\n",
       "<table border=\"1\" class=\"dataframe\">\n",
       "  <thead>\n",
       "    <tr style=\"text-align: right;\">\n",
       "      <th></th>\n",
       "      <th>review_score</th>\n",
       "      <th>order_items</th>\n",
       "    </tr>\n",
       "  </thead>\n",
       "  <tbody>\n",
       "    <tr>\n",
       "      <th>001cca7ae9ae17fb1caed9dfb1094831</th>\n",
       "      <td>3.902542</td>\n",
       "      <td>239</td>\n",
       "    </tr>\n",
       "    <tr>\n",
       "      <th>0241d4d5d36f10f80c644447315af0bd</th>\n",
       "      <td>4.297959</td>\n",
       "      <td>246</td>\n",
       "    </tr>\n",
       "    <tr>\n",
       "      <th>06a2c3af7b3aee5d69171b0e14f0ee87</th>\n",
       "      <td>4.002506</td>\n",
       "      <td>405</td>\n",
       "    </tr>\n",
       "    <tr>\n",
       "      <th>0b90b6df587eb83608a64ea8b390cf07</th>\n",
       "      <td>4.023585</td>\n",
       "      <td>210</td>\n",
       "    </tr>\n",
       "    <tr>\n",
       "      <th>0c8380b62e38e8a1e6adbeba7eb9688c</th>\n",
       "      <td>4.041284</td>\n",
       "      <td>220</td>\n",
       "    </tr>\n",
       "    <tr>\n",
       "      <th>...</th>\n",
       "      <td>...</td>\n",
       "      <td>...</td>\n",
       "    </tr>\n",
       "    <tr>\n",
       "      <th>f7ba60f8c3f99e7ee4042fdef03b70c4</th>\n",
       "      <td>4.207792</td>\n",
       "      <td>230</td>\n",
       "    </tr>\n",
       "    <tr>\n",
       "      <th>f8db351d8c4c4c22c6835c19a46f01b0</th>\n",
       "      <td>4.216179</td>\n",
       "      <td>724</td>\n",
       "    </tr>\n",
       "    <tr>\n",
       "      <th>fa1c13f2614d7b5c4749cbc52fecda94</th>\n",
       "      <td>4.340206</td>\n",
       "      <td>586</td>\n",
       "    </tr>\n",
       "    <tr>\n",
       "      <th>fa40cc5b934574b62717c68f3d678b6d</th>\n",
       "      <td>4.430678</td>\n",
       "      <td>340</td>\n",
       "    </tr>\n",
       "    <tr>\n",
       "      <th>fe2032dab1a61af8794248c8196565c9</th>\n",
       "      <td>4.395349</td>\n",
       "      <td>306</td>\n",
       "    </tr>\n",
       "  </tbody>\n",
       "</table>\n",
       "<p>102 rows × 2 columns</p>\n",
       "</div>"
      ],
      "text/plain": [
       "                                  review_score  order_items\n",
       "001cca7ae9ae17fb1caed9dfb1094831      3.902542          239\n",
       "0241d4d5d36f10f80c644447315af0bd      4.297959          246\n",
       "06a2c3af7b3aee5d69171b0e14f0ee87      4.002506          405\n",
       "0b90b6df587eb83608a64ea8b390cf07      4.023585          210\n",
       "0c8380b62e38e8a1e6adbeba7eb9688c      4.041284          220\n",
       "...                                        ...          ...\n",
       "f7ba60f8c3f99e7ee4042fdef03b70c4      4.207792          230\n",
       "f8db351d8c4c4c22c6835c19a46f01b0      4.216179          724\n",
       "fa1c13f2614d7b5c4749cbc52fecda94      4.340206          586\n",
       "fa40cc5b934574b62717c68f3d678b6d      4.430678          340\n",
       "fe2032dab1a61af8794248c8196565c9      4.395349          306\n",
       "\n",
       "[102 rows x 2 columns]"
      ]
     },
     "execution_count": 128,
     "metadata": {
     },
     "output_type": "execute_result"
    }
   ],
   "source": [
    "regression_table = pd.concat([mean_review_top200, sellers_200], axis=1)\n",
    "\n",
    "regression_table['order_items'] = regression_table['seller_id']\n",
    "\n",
    "regression_table.drop('seller_id',axis=1, inplace= True)\n",
    "regression_table\n"
   ]
  },
  {
   "cell_type": "code",
   "execution_count": 121,
   "metadata": {
    "collapsed": false
   },
   "outputs": [
    {
     "data": {
      "text/plain": [
       "6560211a19b47992c3666cc44a7e94c0    2033\n",
       "4a3ca9315b744ce9f8e9374361493884    1987\n",
       "1f50f920176fa81dab994f9023523100    1931\n",
       "cc419e0650a3c5ba77189a1882b7556a    1775\n",
       "da8622b14eb17ae2831f4ac5b9dab84a    1551\n",
       "                                    ... \n",
       "400f221ab83037c0ea78f1267da9624d       1\n",
       "1746c1ae87ac63d530c7c943d0ac42e2       1\n",
       "16bdc8cefd0e32a6f0824d296c5ad14a       1\n",
       "ace601496e211a664100321f038f50af       1\n",
       "13d95f0f6f73943d4ceffad0fc2cd32c       1\n",
       "Name: seller_id, Length: 3095, dtype: int64"
      ]
     },
     "execution_count": 121,
     "metadata": {
     },
     "output_type": "execute_result"
    }
   ],
   "source": [
    "top_sellers"
   ]
  },
  {
   "cell_type": "code",
   "execution_count": 100,
   "metadata": {
    "collapsed": false
   },
   "outputs": [
   ],
   "source": [
    "top_seller_reviews = order_reviews_clean2[order_reviews_clean2['order_id'].isin(top_seller_order_ids)]\n",
    "\n",
    "# top_seller_reviews.dtypes\n",
    "\n",
    "#combined_table = top_seller_reviews.join(top_seller_orders, on = \"order_id\")\n"
   ]
  },
  {
   "cell_type": "code",
   "execution_count": 156,
   "metadata": {
    "collapsed": true
   },
   "outputs": [
    {
     "data": {
      "text/plain": [
       "8d50f5eadf50201ccdcedfb9e2ac8455    17\n",
       "3e43e6105506432c953e165fb2acf44c     9\n",
       "1b6c7548a2a1f9037c1fd3ddfed95f33     7\n",
       "ca77025e7201e3b30c44b472ff346268     7\n",
       "6469f99c1f9dfae7733b25662e7f1782     7\n",
       "                                    ..\n",
       "081f07439678af2da7755a0aa572154d     1\n",
       "9c57789a6a587f4efcfb01e36c106014     1\n",
       "9e4c21635f640562de1a6976374fba03     1\n",
       "06c0ea6ee892364d1608ee47aa9f56a0     1\n",
       "84732c5050c01db9b23e19ba39899398     1\n",
       "Name: customer_unique_id, Length: 96096, dtype: int64"
      ]
     },
     "execution_count": 156,
     "metadata": {
     },
     "output_type": "execute_result"
    }
   ],
   "source": [
    "customerData['customer_unique_id'].value_counts()"
   ]
  },
  {
   "cell_type": "code",
   "execution_count": 18,
   "metadata": {
    "collapsed": false
   },
   "outputs": [
    {
     "data": {
      "text/plain": [
       "1     93099\n",
       "2      2745\n",
       "3       203\n",
       "4        30\n",
       "5         8\n",
       "6         6\n",
       "7         3\n",
       "17        1\n",
       "9         1\n",
       "Name: customer_unique_id, dtype: int64"
      ]
     },
     "execution_count": 18,
     "metadata": {
     },
     "output_type": "execute_result"
    }
   ],
   "source": [
    "customerData_value_counts = customerData['customer_unique_id'].value_counts()\n",
    "type(customerData_value_counts)\n",
    "customerData_value_counts.value_counts()"
   ]
  },
  {
   "cell_type": "code",
   "execution_count": 164,
   "metadata": {
    "collapsed": false
   },
   "outputs": [
   ],
   "source": [
    "customer_ids = customerData[['customer_id','customer_unique_id']]"
   ]
  },
  {
   "cell_type": "code",
   "execution_count": 165,
   "metadata": {
    "collapsed": false
   },
   "outputs": [
   ],
   "source": [
    "orders1 = pd.merge(orders,customer_ids, on = \"customer_id\")"
   ]
  },
  {
   "cell_type": "code",
   "execution_count": 166,
   "metadata": {
    "collapsed": false
   },
   "outputs": [
    {
     "data": {
      "text/html": [
       "<div>\n",
       "<style scoped>\n",
       "    .dataframe tbody tr th:only-of-type {\n",
       "        vertical-align: middle;\n",
       "    }\n",
       "\n",
       "    .dataframe tbody tr th {\n",
       "        vertical-align: top;\n",
       "    }\n",
       "\n",
       "    .dataframe thead th {\n",
       "        text-align: right;\n",
       "    }\n",
       "</style>\n",
       "<table border=\"1\" class=\"dataframe\">\n",
       "  <thead>\n",
       "    <tr style=\"text-align: right;\">\n",
       "      <th></th>\n",
       "      <th>order_id</th>\n",
       "      <th>customer_id</th>\n",
       "      <th>order_status</th>\n",
       "      <th>order_purchase_timestamp</th>\n",
       "      <th>order_approved_at</th>\n",
       "      <th>order_delivered_carrier_date</th>\n",
       "      <th>order_delivered_customer_date</th>\n",
       "      <th>order_estimated_delivery_date</th>\n",
       "      <th>customer_unique_id</th>\n",
       "    </tr>\n",
       "  </thead>\n",
       "  <tbody>\n",
       "    <tr>\n",
       "      <th>0</th>\n",
       "      <td>e481f51cbdc54678b7cc49136f2d6af7</td>\n",
       "      <td>9ef432eb6251297304e76186b10a928d</td>\n",
       "      <td>delivered</td>\n",
       "      <td>2017-10-02 10:56:33</td>\n",
       "      <td>2017-10-02 11:07:15</td>\n",
       "      <td>2017-10-04 19:55:00</td>\n",
       "      <td>2017-10-10 21:25:13</td>\n",
       "      <td>2017-10-18 00:00:00</td>\n",
       "      <td>7c396fd4830fd04220f754e42b4e5bff</td>\n",
       "    </tr>\n",
       "    <tr>\n",
       "      <th>1</th>\n",
       "      <td>53cdb2fc8bc7dce0b6741e2150273451</td>\n",
       "      <td>b0830fb4747a6c6d20dea0b8c802d7ef</td>\n",
       "      <td>delivered</td>\n",
       "      <td>2018-07-24 20:41:37</td>\n",
       "      <td>2018-07-26 03:24:27</td>\n",
       "      <td>2018-07-26 14:31:00</td>\n",
       "      <td>2018-08-07 15:27:45</td>\n",
       "      <td>2018-08-13 00:00:00</td>\n",
       "      <td>af07308b275d755c9edb36a90c618231</td>\n",
       "    </tr>\n",
       "    <tr>\n",
       "      <th>2</th>\n",
       "      <td>47770eb9100c2d0c44946d9cf07ec65d</td>\n",
       "      <td>41ce2a54c0b03bf3443c3d931a367089</td>\n",
       "      <td>delivered</td>\n",
       "      <td>2018-08-08 08:38:49</td>\n",
       "      <td>2018-08-08 08:55:23</td>\n",
       "      <td>2018-08-08 13:50:00</td>\n",
       "      <td>2018-08-17 18:06:29</td>\n",
       "      <td>2018-09-04 00:00:00</td>\n",
       "      <td>3a653a41f6f9fc3d2a113cf8398680e8</td>\n",
       "    </tr>\n",
       "    <tr>\n",
       "      <th>3</th>\n",
       "      <td>949d5b44dbf5de918fe9c16f97b45f8a</td>\n",
       "      <td>f88197465ea7920adcdbec7375364d82</td>\n",
       "      <td>delivered</td>\n",
       "      <td>2017-11-18 19:28:06</td>\n",
       "      <td>2017-11-18 19:45:59</td>\n",
       "      <td>2017-11-22 13:39:59</td>\n",
       "      <td>2017-12-02 00:28:42</td>\n",
       "      <td>2017-12-15 00:00:00</td>\n",
       "      <td>7c142cf63193a1473d2e66489a9ae977</td>\n",
       "    </tr>\n",
       "    <tr>\n",
       "      <th>4</th>\n",
       "      <td>ad21c59c0840e6cb83a9ceb5573f8159</td>\n",
       "      <td>8ab97904e6daea8866dbdbc4fb7aad2c</td>\n",
       "      <td>delivered</td>\n",
       "      <td>2018-02-13 21:18:39</td>\n",
       "      <td>2018-02-13 22:20:29</td>\n",
       "      <td>2018-02-14 19:46:34</td>\n",
       "      <td>2018-02-16 18:17:02</td>\n",
       "      <td>2018-02-26 00:00:00</td>\n",
       "      <td>72632f0f9dd73dfee390c9b22eb56dd6</td>\n",
       "    </tr>\n",
       "    <tr>\n",
       "      <th>...</th>\n",
       "      <td>...</td>\n",
       "      <td>...</td>\n",
       "      <td>...</td>\n",
       "      <td>...</td>\n",
       "      <td>...</td>\n",
       "      <td>...</td>\n",
       "      <td>...</td>\n",
       "      <td>...</td>\n",
       "      <td>...</td>\n",
       "    </tr>\n",
       "    <tr>\n",
       "      <th>99436</th>\n",
       "      <td>9c5dedf39a927c1b2549525ed64a053c</td>\n",
       "      <td>39bd1228ee8140590ac3aca26f2dfe00</td>\n",
       "      <td>delivered</td>\n",
       "      <td>2017-03-09 09:54:05</td>\n",
       "      <td>2017-03-09 09:54:05</td>\n",
       "      <td>2017-03-10 11:18:03</td>\n",
       "      <td>2017-03-17 15:08:01</td>\n",
       "      <td>2017-03-28 00:00:00</td>\n",
       "      <td>6359f309b166b0196dbf7ad2ac62bb5a</td>\n",
       "    </tr>\n",
       "    <tr>\n",
       "      <th>99437</th>\n",
       "      <td>63943bddc261676b46f01ca7ac2f7bd8</td>\n",
       "      <td>1fca14ff2861355f6e5f14306ff977a7</td>\n",
       "      <td>delivered</td>\n",
       "      <td>2018-02-06 12:58:58</td>\n",
       "      <td>2018-02-06 13:10:37</td>\n",
       "      <td>2018-02-07 23:22:42</td>\n",
       "      <td>2018-02-28 17:37:56</td>\n",
       "      <td>2018-03-02 00:00:00</td>\n",
       "      <td>da62f9e57a76d978d02ab5362c509660</td>\n",
       "    </tr>\n",
       "    <tr>\n",
       "      <th>99438</th>\n",
       "      <td>83c1379a015df1e13d02aae0204711ab</td>\n",
       "      <td>1aa71eb042121263aafbe80c1b562c9c</td>\n",
       "      <td>delivered</td>\n",
       "      <td>2017-08-27 14:46:43</td>\n",
       "      <td>2017-08-27 15:04:16</td>\n",
       "      <td>2017-08-28 20:52:26</td>\n",
       "      <td>2017-09-21 11:24:17</td>\n",
       "      <td>2017-09-27 00:00:00</td>\n",
       "      <td>737520a9aad80b3fbbdad19b66b37b30</td>\n",
       "    </tr>\n",
       "    <tr>\n",
       "      <th>99439</th>\n",
       "      <td>11c177c8e97725db2631073c19f07b62</td>\n",
       "      <td>b331b74b18dc79bcdf6532d51e1637c1</td>\n",
       "      <td>delivered</td>\n",
       "      <td>2018-01-08 21:28:27</td>\n",
       "      <td>2018-01-08 21:36:21</td>\n",
       "      <td>2018-01-12 15:35:03</td>\n",
       "      <td>2018-01-25 23:32:54</td>\n",
       "      <td>2018-02-15 00:00:00</td>\n",
       "      <td>5097a5312c8b157bb7be58ae360ef43c</td>\n",
       "    </tr>\n",
       "    <tr>\n",
       "      <th>99440</th>\n",
       "      <td>66dea50a8b16d9b4dee7af250b4be1a5</td>\n",
       "      <td>edb027a75a1449115f6b43211ae02a24</td>\n",
       "      <td>delivered</td>\n",
       "      <td>2018-03-08 20:57:30</td>\n",
       "      <td>2018-03-09 11:20:28</td>\n",
       "      <td>2018-03-09 22:11:59</td>\n",
       "      <td>2018-03-16 13:08:30</td>\n",
       "      <td>2018-04-03 00:00:00</td>\n",
       "      <td>60350aa974b26ff12caad89e55993bd6</td>\n",
       "    </tr>\n",
       "  </tbody>\n",
       "</table>\n",
       "<p>99441 rows × 9 columns</p>\n",
       "</div>"
      ],
      "text/plain": [
       "                               order_id                       customer_id  \\\n",
       "0      e481f51cbdc54678b7cc49136f2d6af7  9ef432eb6251297304e76186b10a928d   \n",
       "1      53cdb2fc8bc7dce0b6741e2150273451  b0830fb4747a6c6d20dea0b8c802d7ef   \n",
       "2      47770eb9100c2d0c44946d9cf07ec65d  41ce2a54c0b03bf3443c3d931a367089   \n",
       "3      949d5b44dbf5de918fe9c16f97b45f8a  f88197465ea7920adcdbec7375364d82   \n",
       "4      ad21c59c0840e6cb83a9ceb5573f8159  8ab97904e6daea8866dbdbc4fb7aad2c   \n",
       "...                                 ...                               ...   \n",
       "99436  9c5dedf39a927c1b2549525ed64a053c  39bd1228ee8140590ac3aca26f2dfe00   \n",
       "99437  63943bddc261676b46f01ca7ac2f7bd8  1fca14ff2861355f6e5f14306ff977a7   \n",
       "99438  83c1379a015df1e13d02aae0204711ab  1aa71eb042121263aafbe80c1b562c9c   \n",
       "99439  11c177c8e97725db2631073c19f07b62  b331b74b18dc79bcdf6532d51e1637c1   \n",
       "99440  66dea50a8b16d9b4dee7af250b4be1a5  edb027a75a1449115f6b43211ae02a24   \n",
       "\n",
       "      order_status order_purchase_timestamp    order_approved_at  \\\n",
       "0        delivered      2017-10-02 10:56:33  2017-10-02 11:07:15   \n",
       "1        delivered      2018-07-24 20:41:37  2018-07-26 03:24:27   \n",
       "2        delivered      2018-08-08 08:38:49  2018-08-08 08:55:23   \n",
       "3        delivered      2017-11-18 19:28:06  2017-11-18 19:45:59   \n",
       "4        delivered      2018-02-13 21:18:39  2018-02-13 22:20:29   \n",
       "...            ...                      ...                  ...   \n",
       "99436    delivered      2017-03-09 09:54:05  2017-03-09 09:54:05   \n",
       "99437    delivered      2018-02-06 12:58:58  2018-02-06 13:10:37   \n",
       "99438    delivered      2017-08-27 14:46:43  2017-08-27 15:04:16   \n",
       "99439    delivered      2018-01-08 21:28:27  2018-01-08 21:36:21   \n",
       "99440    delivered      2018-03-08 20:57:30  2018-03-09 11:20:28   \n",
       "\n",
       "      order_delivered_carrier_date order_delivered_customer_date  \\\n",
       "0              2017-10-04 19:55:00           2017-10-10 21:25:13   \n",
       "1              2018-07-26 14:31:00           2018-08-07 15:27:45   \n",
       "2              2018-08-08 13:50:00           2018-08-17 18:06:29   \n",
       "3              2017-11-22 13:39:59           2017-12-02 00:28:42   \n",
       "4              2018-02-14 19:46:34           2018-02-16 18:17:02   \n",
       "...                            ...                           ...   \n",
       "99436          2017-03-10 11:18:03           2017-03-17 15:08:01   \n",
       "99437          2018-02-07 23:22:42           2018-02-28 17:37:56   \n",
       "99438          2017-08-28 20:52:26           2017-09-21 11:24:17   \n",
       "99439          2018-01-12 15:35:03           2018-01-25 23:32:54   \n",
       "99440          2018-03-09 22:11:59           2018-03-16 13:08:30   \n",
       "\n",
       "      order_estimated_delivery_date                customer_unique_id  \n",
       "0               2017-10-18 00:00:00  7c396fd4830fd04220f754e42b4e5bff  \n",
       "1               2018-08-13 00:00:00  af07308b275d755c9edb36a90c618231  \n",
       "2               2018-09-04 00:00:00  3a653a41f6f9fc3d2a113cf8398680e8  \n",
       "3               2017-12-15 00:00:00  7c142cf63193a1473d2e66489a9ae977  \n",
       "4               2018-02-26 00:00:00  72632f0f9dd73dfee390c9b22eb56dd6  \n",
       "...                             ...                               ...  \n",
       "99436           2017-03-28 00:00:00  6359f309b166b0196dbf7ad2ac62bb5a  \n",
       "99437           2018-03-02 00:00:00  da62f9e57a76d978d02ab5362c509660  \n",
       "99438           2017-09-27 00:00:00  737520a9aad80b3fbbdad19b66b37b30  \n",
       "99439           2018-02-15 00:00:00  5097a5312c8b157bb7be58ae360ef43c  \n",
       "99440           2018-04-03 00:00:00  60350aa974b26ff12caad89e55993bd6  \n",
       "\n",
       "[99441 rows x 9 columns]"
      ]
     },
     "execution_count": 166,
     "metadata": {
     },
     "output_type": "execute_result"
    }
   ],
   "source": [
    "orders1"
   ]
  },
  {
   "cell_type": "code",
   "execution_count": 169,
   "metadata": {
    "collapsed": false
   },
   "outputs": [
    {
     "data": {
      "text/html": [
       "<div>\n",
       "<style scoped>\n",
       "    .dataframe tbody tr th:only-of-type {\n",
       "        vertical-align: middle;\n",
       "    }\n",
       "\n",
       "    .dataframe tbody tr th {\n",
       "        vertical-align: top;\n",
       "    }\n",
       "\n",
       "    .dataframe thead th {\n",
       "        text-align: right;\n",
       "    }\n",
       "</style>\n",
       "<table border=\"1\" class=\"dataframe\">\n",
       "  <thead>\n",
       "    <tr style=\"text-align: right;\">\n",
       "      <th></th>\n",
       "      <th>review_id</th>\n",
       "      <th>order_id</th>\n",
       "      <th>review_score</th>\n",
       "      <th>review_creation_date</th>\n",
       "      <th>review_answer_timestamp</th>\n",
       "    </tr>\n",
       "  </thead>\n",
       "  <tbody>\n",
       "    <tr>\n",
       "      <th>0</th>\n",
       "      <td>7bc2406110b926393aa56f80a40eba40</td>\n",
       "      <td>73fc7af87114b39712e6da79b0a377eb</td>\n",
       "      <td>4</td>\n",
       "      <td>2018-01-18 00:00:00</td>\n",
       "      <td>2018-01-18 21:46:59</td>\n",
       "    </tr>\n",
       "    <tr>\n",
       "      <th>1</th>\n",
       "      <td>80e641a11e56f04c1ad469d5645fdfde</td>\n",
       "      <td>a548910a1c6147796b98fdf73dbeba33</td>\n",
       "      <td>5</td>\n",
       "      <td>2018-03-10 00:00:00</td>\n",
       "      <td>2018-03-11 03:05:13</td>\n",
       "    </tr>\n",
       "    <tr>\n",
       "      <th>2</th>\n",
       "      <td>228ce5500dc1d8e020d8d1322874b6f0</td>\n",
       "      <td>f9e4b658b201a9f2ecdecbb34bed034b</td>\n",
       "      <td>5</td>\n",
       "      <td>2018-02-17 00:00:00</td>\n",
       "      <td>2018-02-18 14:36:24</td>\n",
       "    </tr>\n",
       "    <tr>\n",
       "      <th>3</th>\n",
       "      <td>e64fb393e7b32834bb789ff8bb30750e</td>\n",
       "      <td>658677c97b385a9be170737859d3511b</td>\n",
       "      <td>5</td>\n",
       "      <td>2017-04-21 00:00:00</td>\n",
       "      <td>2017-04-21 22:02:06</td>\n",
       "    </tr>\n",
       "    <tr>\n",
       "      <th>4</th>\n",
       "      <td>f7c4243c7fe1938f181bec41a392bdeb</td>\n",
       "      <td>8e6bfb81e283fa7e4f11123a3fb894f1</td>\n",
       "      <td>5</td>\n",
       "      <td>2018-03-01 00:00:00</td>\n",
       "      <td>2018-03-02 10:26:53</td>\n",
       "    </tr>\n",
       "    <tr>\n",
       "      <th>...</th>\n",
       "      <td>...</td>\n",
       "      <td>...</td>\n",
       "      <td>...</td>\n",
       "      <td>...</td>\n",
       "      <td>...</td>\n",
       "    </tr>\n",
       "    <tr>\n",
       "      <th>99219</th>\n",
       "      <td>574ed12dd733e5fa530cfd4bbf39d7c9</td>\n",
       "      <td>2a8c23fee101d4d5662fa670396eb8da</td>\n",
       "      <td>5</td>\n",
       "      <td>2018-07-07 00:00:00</td>\n",
       "      <td>2018-07-14 17:18:30</td>\n",
       "    </tr>\n",
       "    <tr>\n",
       "      <th>99220</th>\n",
       "      <td>f3897127253a9592a73be9bdfdf4ed7a</td>\n",
       "      <td>22ec9f0669f784db00fa86d035cf8602</td>\n",
       "      <td>5</td>\n",
       "      <td>2017-12-09 00:00:00</td>\n",
       "      <td>2017-12-11 20:06:42</td>\n",
       "    </tr>\n",
       "    <tr>\n",
       "      <th>99221</th>\n",
       "      <td>b3de70c89b1510c4cd3d0649fd302472</td>\n",
       "      <td>55d4004744368f5571d1f590031933e4</td>\n",
       "      <td>5</td>\n",
       "      <td>2018-03-22 00:00:00</td>\n",
       "      <td>2018-03-23 09:10:43</td>\n",
       "    </tr>\n",
       "    <tr>\n",
       "      <th>99222</th>\n",
       "      <td>1adeb9d84d72fe4e337617733eb85149</td>\n",
       "      <td>7725825d039fc1f0ceb7635e3f7d9206</td>\n",
       "      <td>4</td>\n",
       "      <td>2018-07-01 00:00:00</td>\n",
       "      <td>2018-07-02 12:59:13</td>\n",
       "    </tr>\n",
       "    <tr>\n",
       "      <th>99223</th>\n",
       "      <td>efe49f1d6f951dd88b51e6ccd4cc548f</td>\n",
       "      <td>90531360ecb1eec2a1fbb265a0db0508</td>\n",
       "      <td>1</td>\n",
       "      <td>2017-07-03 00:00:00</td>\n",
       "      <td>2017-07-03 21:01:49</td>\n",
       "    </tr>\n",
       "  </tbody>\n",
       "</table>\n",
       "<p>99224 rows × 5 columns</p>\n",
       "</div>"
      ],
      "text/plain": [
       "                              review_id                          order_id  \\\n",
       "0      7bc2406110b926393aa56f80a40eba40  73fc7af87114b39712e6da79b0a377eb   \n",
       "1      80e641a11e56f04c1ad469d5645fdfde  a548910a1c6147796b98fdf73dbeba33   \n",
       "2      228ce5500dc1d8e020d8d1322874b6f0  f9e4b658b201a9f2ecdecbb34bed034b   \n",
       "3      e64fb393e7b32834bb789ff8bb30750e  658677c97b385a9be170737859d3511b   \n",
       "4      f7c4243c7fe1938f181bec41a392bdeb  8e6bfb81e283fa7e4f11123a3fb894f1   \n",
       "...                                 ...                               ...   \n",
       "99219  574ed12dd733e5fa530cfd4bbf39d7c9  2a8c23fee101d4d5662fa670396eb8da   \n",
       "99220  f3897127253a9592a73be9bdfdf4ed7a  22ec9f0669f784db00fa86d035cf8602   \n",
       "99221  b3de70c89b1510c4cd3d0649fd302472  55d4004744368f5571d1f590031933e4   \n",
       "99222  1adeb9d84d72fe4e337617733eb85149  7725825d039fc1f0ceb7635e3f7d9206   \n",
       "99223  efe49f1d6f951dd88b51e6ccd4cc548f  90531360ecb1eec2a1fbb265a0db0508   \n",
       "\n",
       "       review_score review_creation_date review_answer_timestamp  \n",
       "0                 4  2018-01-18 00:00:00     2018-01-18 21:46:59  \n",
       "1                 5  2018-03-10 00:00:00     2018-03-11 03:05:13  \n",
       "2                 5  2018-02-17 00:00:00     2018-02-18 14:36:24  \n",
       "3                 5  2017-04-21 00:00:00     2017-04-21 22:02:06  \n",
       "4                 5  2018-03-01 00:00:00     2018-03-02 10:26:53  \n",
       "...             ...                  ...                     ...  \n",
       "99219             5  2018-07-07 00:00:00     2018-07-14 17:18:30  \n",
       "99220             5  2017-12-09 00:00:00     2017-12-11 20:06:42  \n",
       "99221             5  2018-03-22 00:00:00     2018-03-23 09:10:43  \n",
       "99222             4  2018-07-01 00:00:00     2018-07-02 12:59:13  \n",
       "99223             1  2017-07-03 00:00:00     2017-07-03 21:01:49  \n",
       "\n",
       "[99224 rows x 5 columns]"
      ]
     },
     "execution_count": 169,
     "metadata": {
     },
     "output_type": "execute_result"
    }
   ],
   "source": [
    "order_reviews_clean"
   ]
  },
  {
   "cell_type": "code",
   "execution_count": 170,
   "metadata": {
    "collapsed": false
   },
   "outputs": [
   ],
   "source": [
    "unique_reviews = pd.merge(order_reviews_clean,orders1[['order_id','customer_unique_id']], on = \"order_id\")"
   ]
  },
  {
   "cell_type": "code",
   "execution_count": 177,
   "metadata": {
    "collapsed": false
   },
   "outputs": [
    {
     "data": {
      "text/plain": [
       "8d50f5eadf50201ccdcedfb9e2ac8455    17\n",
       "3e43e6105506432c953e165fb2acf44c     9\n",
       "1b6c7548a2a1f9037c1fd3ddfed95f33     7\n",
       "ca77025e7201e3b30c44b472ff346268     7\n",
       "b4e4f24de1e8725b74e4a1f4975116ed     7\n",
       "                                    ..\n",
       "9635cc2dc37d7d02dea728765b4055f2     1\n",
       "2e65fa6556bc340335534ea848f385ff     1\n",
       "af21f4525831bb14040012fd9bfec6d3     1\n",
       "8cfecfbbdad82f1281686a54caf46dbb     1\n",
       "432d4f5ec4f462779a48a51c33950351     1\n",
       "Name: customer_unique_id, Length: 95380, dtype: int64"
      ]
     },
     "execution_count": 177,
     "metadata": {
     },
     "output_type": "execute_result"
    }
   ],
   "source": [
    "unique_reviews\n",
    "unique_reviews[\"customer_unique_id\"].value_counts()"
   ]
  },
  {
   "cell_type": "code",
   "execution_count": 178,
   "metadata": {
    "collapsed": false
   },
   "outputs": [
    {
     "data": {
      "text/html": [
       "<div>\n",
       "<style scoped>\n",
       "    .dataframe tbody tr th:only-of-type {\n",
       "        vertical-align: middle;\n",
       "    }\n",
       "\n",
       "    .dataframe tbody tr th {\n",
       "        vertical-align: top;\n",
       "    }\n",
       "\n",
       "    .dataframe thead th {\n",
       "        text-align: right;\n",
       "    }\n",
       "</style>\n",
       "<table border=\"1\" class=\"dataframe\">\n",
       "  <thead>\n",
       "    <tr style=\"text-align: right;\">\n",
       "      <th></th>\n",
       "      <th>product_category_name</th>\n",
       "      <th>product_category_name_english</th>\n",
       "    </tr>\n",
       "  </thead>\n",
       "  <tbody>\n",
       "    <tr>\n",
       "      <th>0</th>\n",
       "      <td>beleza_saude</td>\n",
       "      <td>health_beauty</td>\n",
       "    </tr>\n",
       "    <tr>\n",
       "      <th>1</th>\n",
       "      <td>informatica_acessorios</td>\n",
       "      <td>computers_accessories</td>\n",
       "    </tr>\n",
       "    <tr>\n",
       "      <th>2</th>\n",
       "      <td>automotivo</td>\n",
       "      <td>auto</td>\n",
       "    </tr>\n",
       "    <tr>\n",
       "      <th>3</th>\n",
       "      <td>cama_mesa_banho</td>\n",
       "      <td>bed_bath_table</td>\n",
       "    </tr>\n",
       "    <tr>\n",
       "      <th>4</th>\n",
       "      <td>moveis_decoracao</td>\n",
       "      <td>furniture_decor</td>\n",
       "    </tr>\n",
       "    <tr>\n",
       "      <th>...</th>\n",
       "      <td>...</td>\n",
       "      <td>...</td>\n",
       "    </tr>\n",
       "    <tr>\n",
       "      <th>66</th>\n",
       "      <td>flores</td>\n",
       "      <td>flowers</td>\n",
       "    </tr>\n",
       "    <tr>\n",
       "      <th>67</th>\n",
       "      <td>artes_e_artesanato</td>\n",
       "      <td>arts_and_craftmanship</td>\n",
       "    </tr>\n",
       "    <tr>\n",
       "      <th>68</th>\n",
       "      <td>fraldas_higiene</td>\n",
       "      <td>diapers_and_hygiene</td>\n",
       "    </tr>\n",
       "    <tr>\n",
       "      <th>69</th>\n",
       "      <td>fashion_roupa_infanto_juvenil</td>\n",
       "      <td>fashion_childrens_clothes</td>\n",
       "    </tr>\n",
       "    <tr>\n",
       "      <th>70</th>\n",
       "      <td>seguros_e_servicos</td>\n",
       "      <td>security_and_services</td>\n",
       "    </tr>\n",
       "  </tbody>\n",
       "</table>\n",
       "<p>71 rows × 2 columns</p>\n",
       "</div>"
      ],
      "text/plain": [
       "            product_category_name product_category_name_english\n",
       "0                    beleza_saude                 health_beauty\n",
       "1          informatica_acessorios         computers_accessories\n",
       "2                      automotivo                          auto\n",
       "3                 cama_mesa_banho                bed_bath_table\n",
       "4                moveis_decoracao               furniture_decor\n",
       "..                            ...                           ...\n",
       "66                         flores                       flowers\n",
       "67             artes_e_artesanato         arts_and_craftmanship\n",
       "68                fraldas_higiene           diapers_and_hygiene\n",
       "69  fashion_roupa_infanto_juvenil     fashion_childrens_clothes\n",
       "70             seguros_e_servicos         security_and_services\n",
       "\n",
       "[71 rows x 2 columns]"
      ]
     },
     "execution_count": 178,
     "metadata": {
     },
     "output_type": "execute_result"
    }
   ],
   "source": [
    "prod_cat"
   ]
  },
  {
   "cell_type": "code",
   "execution_count": 23,
   "metadata": {
    "collapsed": false
   },
   "outputs": [
    {
     "data": {
      "text/html": [
       "<div>\n",
       "<style scoped>\n",
       "    .dataframe tbody tr th:only-of-type {\n",
       "        vertical-align: middle;\n",
       "    }\n",
       "\n",
       "    .dataframe tbody tr th {\n",
       "        vertical-align: top;\n",
       "    }\n",
       "\n",
       "    .dataframe thead th {\n",
       "        text-align: right;\n",
       "    }\n",
       "</style>\n",
       "<table border=\"1\" class=\"dataframe\">\n",
       "  <thead>\n",
       "    <tr style=\"text-align: right;\">\n",
       "      <th></th>\n",
       "      <th>product_id</th>\n",
       "      <th>product_category_name</th>\n",
       "      <th>product_name_lenght</th>\n",
       "      <th>product_description_lenght</th>\n",
       "      <th>product_photos_qty</th>\n",
       "      <th>product_weight_g</th>\n",
       "      <th>product_length_cm</th>\n",
       "      <th>product_height_cm</th>\n",
       "      <th>product_width_cm</th>\n",
       "      <th>product_category_name_english</th>\n",
       "    </tr>\n",
       "  </thead>\n",
       "  <tbody>\n",
       "    <tr>\n",
       "      <th>0</th>\n",
       "      <td>1e9e8ef04dbcff4541ed26657ea517e5</td>\n",
       "      <td>perfumaria</td>\n",
       "      <td>40.0</td>\n",
       "      <td>287.0</td>\n",
       "      <td>1.0</td>\n",
       "      <td>225.0</td>\n",
       "      <td>16.0</td>\n",
       "      <td>10.0</td>\n",
       "      <td>14.0</td>\n",
       "      <td>perfumery</td>\n",
       "    </tr>\n",
       "    <tr>\n",
       "      <th>1</th>\n",
       "      <td>6a2fb4dd53d2cdb88e0432f1284a004c</td>\n",
       "      <td>perfumaria</td>\n",
       "      <td>39.0</td>\n",
       "      <td>346.0</td>\n",
       "      <td>2.0</td>\n",
       "      <td>400.0</td>\n",
       "      <td>27.0</td>\n",
       "      <td>5.0</td>\n",
       "      <td>20.0</td>\n",
       "      <td>perfumery</td>\n",
       "    </tr>\n",
       "    <tr>\n",
       "      <th>2</th>\n",
       "      <td>0d009643171aee696f4733340bc2fdd0</td>\n",
       "      <td>perfumaria</td>\n",
       "      <td>52.0</td>\n",
       "      <td>150.0</td>\n",
       "      <td>1.0</td>\n",
       "      <td>422.0</td>\n",
       "      <td>21.0</td>\n",
       "      <td>16.0</td>\n",
       "      <td>18.0</td>\n",
       "      <td>perfumery</td>\n",
       "    </tr>\n",
       "    <tr>\n",
       "      <th>3</th>\n",
       "      <td>b1eae565a61935e0011ee7682fef9dc9</td>\n",
       "      <td>perfumaria</td>\n",
       "      <td>49.0</td>\n",
       "      <td>460.0</td>\n",
       "      <td>2.0</td>\n",
       "      <td>267.0</td>\n",
       "      <td>17.0</td>\n",
       "      <td>13.0</td>\n",
       "      <td>17.0</td>\n",
       "      <td>perfumery</td>\n",
       "    </tr>\n",
       "    <tr>\n",
       "      <th>4</th>\n",
       "      <td>8da90b37f0fb171b4877c124f965b1f6</td>\n",
       "      <td>perfumaria</td>\n",
       "      <td>56.0</td>\n",
       "      <td>733.0</td>\n",
       "      <td>3.0</td>\n",
       "      <td>377.0</td>\n",
       "      <td>18.0</td>\n",
       "      <td>13.0</td>\n",
       "      <td>15.0</td>\n",
       "      <td>perfumery</td>\n",
       "    </tr>\n",
       "    <tr>\n",
       "      <th>...</th>\n",
       "      <td>...</td>\n",
       "      <td>...</td>\n",
       "      <td>...</td>\n",
       "      <td>...</td>\n",
       "      <td>...</td>\n",
       "      <td>...</td>\n",
       "      <td>...</td>\n",
       "      <td>...</td>\n",
       "      <td>...</td>\n",
       "      <td>...</td>\n",
       "    </tr>\n",
       "    <tr>\n",
       "      <th>32322</th>\n",
       "      <td>13b25797ad1e6d6c7cd3cbeb35f8ee7a</td>\n",
       "      <td>moveis_colchao_e_estofado</td>\n",
       "      <td>44.0</td>\n",
       "      <td>348.0</td>\n",
       "      <td>1.0</td>\n",
       "      <td>18250.0</td>\n",
       "      <td>25.0</td>\n",
       "      <td>25.0</td>\n",
       "      <td>25.0</td>\n",
       "      <td>furniture_mattress_and_upholstery</td>\n",
       "    </tr>\n",
       "    <tr>\n",
       "      <th>32323</th>\n",
       "      <td>dc36a7859b743d8610a2bbbaea26ece9</td>\n",
       "      <td>moveis_colchao_e_estofado</td>\n",
       "      <td>29.0</td>\n",
       "      <td>2073.0</td>\n",
       "      <td>2.0</td>\n",
       "      <td>2500.0</td>\n",
       "      <td>41.0</td>\n",
       "      <td>21.0</td>\n",
       "      <td>21.0</td>\n",
       "      <td>furniture_mattress_and_upholstery</td>\n",
       "    </tr>\n",
       "    <tr>\n",
       "      <th>32324</th>\n",
       "      <td>107fde0930956120d1e13dd1062fbb46</td>\n",
       "      <td>moveis_colchao_e_estofado</td>\n",
       "      <td>51.0</td>\n",
       "      <td>418.0</td>\n",
       "      <td>1.0</td>\n",
       "      <td>30000.0</td>\n",
       "      <td>60.0</td>\n",
       "      <td>73.0</td>\n",
       "      <td>60.0</td>\n",
       "      <td>furniture_mattress_and_upholstery</td>\n",
       "    </tr>\n",
       "    <tr>\n",
       "      <th>32325</th>\n",
       "      <td>726b4e18f00255e2e63491bcba3f60b8</td>\n",
       "      <td>moveis_colchao_e_estofado</td>\n",
       "      <td>41.0</td>\n",
       "      <td>866.0</td>\n",
       "      <td>1.0</td>\n",
       "      <td>1700.0</td>\n",
       "      <td>70.0</td>\n",
       "      <td>10.0</td>\n",
       "      <td>100.0</td>\n",
       "      <td>furniture_mattress_and_upholstery</td>\n",
       "    </tr>\n",
       "    <tr>\n",
       "      <th>32326</th>\n",
       "      <td>1dceebcc5f23c02ea23e16d5bedca000</td>\n",
       "      <td>cds_dvds_musicais</td>\n",
       "      <td>47.0</td>\n",
       "      <td>117.0</td>\n",
       "      <td>2.0</td>\n",
       "      <td>550.0</td>\n",
       "      <td>35.0</td>\n",
       "      <td>15.0</td>\n",
       "      <td>25.0</td>\n",
       "      <td>cds_dvds_musicals</td>\n",
       "    </tr>\n",
       "  </tbody>\n",
       "</table>\n",
       "<p>32327 rows × 10 columns</p>\n",
       "</div>"
      ],
      "text/plain": [
       "                             product_id      product_category_name  \\\n",
       "0      1e9e8ef04dbcff4541ed26657ea517e5                 perfumaria   \n",
       "1      6a2fb4dd53d2cdb88e0432f1284a004c                 perfumaria   \n",
       "2      0d009643171aee696f4733340bc2fdd0                 perfumaria   \n",
       "3      b1eae565a61935e0011ee7682fef9dc9                 perfumaria   \n",
       "4      8da90b37f0fb171b4877c124f965b1f6                 perfumaria   \n",
       "...                                 ...                        ...   \n",
       "32322  13b25797ad1e6d6c7cd3cbeb35f8ee7a  moveis_colchao_e_estofado   \n",
       "32323  dc36a7859b743d8610a2bbbaea26ece9  moveis_colchao_e_estofado   \n",
       "32324  107fde0930956120d1e13dd1062fbb46  moveis_colchao_e_estofado   \n",
       "32325  726b4e18f00255e2e63491bcba3f60b8  moveis_colchao_e_estofado   \n",
       "32326  1dceebcc5f23c02ea23e16d5bedca000          cds_dvds_musicais   \n",
       "\n",
       "       product_name_lenght  product_description_lenght  product_photos_qty  \\\n",
       "0                     40.0                       287.0                 1.0   \n",
       "1                     39.0                       346.0                 2.0   \n",
       "2                     52.0                       150.0                 1.0   \n",
       "3                     49.0                       460.0                 2.0   \n",
       "4                     56.0                       733.0                 3.0   \n",
       "...                    ...                         ...                 ...   \n",
       "32322                 44.0                       348.0                 1.0   \n",
       "32323                 29.0                      2073.0                 2.0   \n",
       "32324                 51.0                       418.0                 1.0   \n",
       "32325                 41.0                       866.0                 1.0   \n",
       "32326                 47.0                       117.0                 2.0   \n",
       "\n",
       "       product_weight_g  product_length_cm  product_height_cm  \\\n",
       "0                 225.0               16.0               10.0   \n",
       "1                 400.0               27.0                5.0   \n",
       "2                 422.0               21.0               16.0   \n",
       "3                 267.0               17.0               13.0   \n",
       "4                 377.0               18.0               13.0   \n",
       "...                 ...                ...                ...   \n",
       "32322           18250.0               25.0               25.0   \n",
       "32323            2500.0               41.0               21.0   \n",
       "32324           30000.0               60.0               73.0   \n",
       "32325            1700.0               70.0               10.0   \n",
       "32326             550.0               35.0               15.0   \n",
       "\n",
       "       product_width_cm      product_category_name_english  \n",
       "0                  14.0                          perfumery  \n",
       "1                  20.0                          perfumery  \n",
       "2                  18.0                          perfumery  \n",
       "3                  17.0                          perfumery  \n",
       "4                  15.0                          perfumery  \n",
       "...                 ...                                ...  \n",
       "32322              25.0  furniture_mattress_and_upholstery  \n",
       "32323              21.0  furniture_mattress_and_upholstery  \n",
       "32324              60.0  furniture_mattress_and_upholstery  \n",
       "32325             100.0  furniture_mattress_and_upholstery  \n",
       "32326              25.0                  cds_dvds_musicals  \n",
       "\n",
       "[32327 rows x 10 columns]"
      ]
     },
     "execution_count": 23,
     "metadata": {
     },
     "output_type": "execute_result"
    }
   ],
   "source": [
    "products_english = pd.merge(products_clean,prod_cat, on  = \"product_category_name\")\n",
    "products_english\n",
    "#products_english[products_english['product_category_name_english']== \"cool_stuff\"]"
   ]
  },
  {
   "cell_type": "code",
   "execution_count": 181,
   "metadata": {
    "collapsed": false
   },
   "outputs": [
   ],
   "source": [
    "order_items_w_cat = pd.merge(order_items_clean, products_english[['product_id','product_category_name_english']], on = \"product_id\")"
   ]
  },
  {
   "cell_type": "code",
   "execution_count": 182,
   "metadata": {
    "collapsed": false
   },
   "outputs": [
    {
     "data": {
      "text/html": [
       "<div>\n",
       "<style scoped>\n",
       "    .dataframe tbody tr th:only-of-type {\n",
       "        vertical-align: middle;\n",
       "    }\n",
       "\n",
       "    .dataframe tbody tr th {\n",
       "        vertical-align: top;\n",
       "    }\n",
       "\n",
       "    .dataframe thead th {\n",
       "        text-align: right;\n",
       "    }\n",
       "</style>\n",
       "<table border=\"1\" class=\"dataframe\">\n",
       "  <thead>\n",
       "    <tr style=\"text-align: right;\">\n",
       "      <th></th>\n",
       "      <th>order_id</th>\n",
       "      <th>order_item_id</th>\n",
       "      <th>product_id</th>\n",
       "      <th>seller_id</th>\n",
       "      <th>shipping_limit_date</th>\n",
       "      <th>price</th>\n",
       "      <th>freight_value</th>\n",
       "      <th>product_category_name_english</th>\n",
       "    </tr>\n",
       "  </thead>\n",
       "  <tbody>\n",
       "    <tr>\n",
       "      <th>0</th>\n",
       "      <td>00010242fe8c5a6d1ba2dd792cb16214</td>\n",
       "      <td>1</td>\n",
       "      <td>4244733e06e7ecb4970a6e2683c13e61</td>\n",
       "      <td>48436dade18ac8b2bce089ec2a041202</td>\n",
       "      <td>2017-09-19 09:45:35</td>\n",
       "      <td>58.9</td>\n",
       "      <td>13.29</td>\n",
       "      <td>cool_stuff</td>\n",
       "    </tr>\n",
       "    <tr>\n",
       "      <th>1</th>\n",
       "      <td>130898c0987d1801452a8ed92a670612</td>\n",
       "      <td>1</td>\n",
       "      <td>4244733e06e7ecb4970a6e2683c13e61</td>\n",
       "      <td>48436dade18ac8b2bce089ec2a041202</td>\n",
       "      <td>2017-07-05 02:44:11</td>\n",
       "      <td>55.9</td>\n",
       "      <td>17.96</td>\n",
       "      <td>cool_stuff</td>\n",
       "    </tr>\n",
       "    <tr>\n",
       "      <th>2</th>\n",
       "      <td>532ed5e14e24ae1f0d735b91524b98b9</td>\n",
       "      <td>1</td>\n",
       "      <td>4244733e06e7ecb4970a6e2683c13e61</td>\n",
       "      <td>48436dade18ac8b2bce089ec2a041202</td>\n",
       "      <td>2018-05-23 10:56:25</td>\n",
       "      <td>64.9</td>\n",
       "      <td>18.33</td>\n",
       "      <td>cool_stuff</td>\n",
       "    </tr>\n",
       "    <tr>\n",
       "      <th>3</th>\n",
       "      <td>6f8c31653edb8c83e1a739408b5ff750</td>\n",
       "      <td>1</td>\n",
       "      <td>4244733e06e7ecb4970a6e2683c13e61</td>\n",
       "      <td>48436dade18ac8b2bce089ec2a041202</td>\n",
       "      <td>2017-08-07 18:55:08</td>\n",
       "      <td>58.9</td>\n",
       "      <td>16.17</td>\n",
       "      <td>cool_stuff</td>\n",
       "    </tr>\n",
       "    <tr>\n",
       "      <th>4</th>\n",
       "      <td>7d19f4ef4d04461989632411b7e588b9</td>\n",
       "      <td>1</td>\n",
       "      <td>4244733e06e7ecb4970a6e2683c13e61</td>\n",
       "      <td>48436dade18ac8b2bce089ec2a041202</td>\n",
       "      <td>2017-08-16 22:05:11</td>\n",
       "      <td>58.9</td>\n",
       "      <td>13.29</td>\n",
       "      <td>cool_stuff</td>\n",
       "    </tr>\n",
       "    <tr>\n",
       "      <th>...</th>\n",
       "      <td>...</td>\n",
       "      <td>...</td>\n",
       "      <td>...</td>\n",
       "      <td>...</td>\n",
       "      <td>...</td>\n",
       "      <td>...</td>\n",
       "      <td>...</td>\n",
       "      <td>...</td>\n",
       "    </tr>\n",
       "    <tr>\n",
       "      <th>111017</th>\n",
       "      <td>ffebd80e3291e811c308365936897efd</td>\n",
       "      <td>1</td>\n",
       "      <td>4cc4d02efc8f249c13355147fb44e34d</td>\n",
       "      <td>d1c7fa84e48cfa21a0e595167c1c500e</td>\n",
       "      <td>2018-07-18 20:23:55</td>\n",
       "      <td>129.9</td>\n",
       "      <td>51.20</td>\n",
       "      <td>garden_tools</td>\n",
       "    </tr>\n",
       "    <tr>\n",
       "      <th>111018</th>\n",
       "      <td>ffee31fb4b5e35c9123608015637c495</td>\n",
       "      <td>1</td>\n",
       "      <td>b10ecf8e33aaaea419a9fa860ea80fb5</td>\n",
       "      <td>0241d4d5d36f10f80c644447315af0bd</td>\n",
       "      <td>2018-08-21 10:10:11</td>\n",
       "      <td>99.0</td>\n",
       "      <td>13.52</td>\n",
       "      <td>furniture_decor</td>\n",
       "    </tr>\n",
       "    <tr>\n",
       "      <th>111019</th>\n",
       "      <td>fff7c4452f050315db1b3f24d9df5fcd</td>\n",
       "      <td>1</td>\n",
       "      <td>dd469c03ad67e201bc2179ef077dcd48</td>\n",
       "      <td>7e93a43ef30c4f03f38b393420bc753a</td>\n",
       "      <td>2017-06-07 17:05:23</td>\n",
       "      <td>736.0</td>\n",
       "      <td>20.91</td>\n",
       "      <td>watches_gifts</td>\n",
       "    </tr>\n",
       "    <tr>\n",
       "      <th>111020</th>\n",
       "      <td>fffa82886406ccf10c7b4e35c4ff2788</td>\n",
       "      <td>1</td>\n",
       "      <td>bbe7651fef80287a816ead73f065fc4b</td>\n",
       "      <td>8f2ce03f928b567e3d56181ae20ae952</td>\n",
       "      <td>2017-12-22 17:31:42</td>\n",
       "      <td>229.9</td>\n",
       "      <td>44.02</td>\n",
       "      <td>sports_leisure</td>\n",
       "    </tr>\n",
       "    <tr>\n",
       "      <th>111021</th>\n",
       "      <td>fffe41c64501cc87c801fd61db3f6244</td>\n",
       "      <td>1</td>\n",
       "      <td>350688d9dc1e75ff97be326363655e01</td>\n",
       "      <td>f7ccf836d21b2fb1de37564105216cc1</td>\n",
       "      <td>2018-06-12 17:10:13</td>\n",
       "      <td>43.0</td>\n",
       "      <td>12.79</td>\n",
       "      <td>bed_bath_table</td>\n",
       "    </tr>\n",
       "  </tbody>\n",
       "</table>\n",
       "<p>111022 rows × 8 columns</p>\n",
       "</div>"
      ],
      "text/plain": [
       "                                order_id  order_item_id  \\\n",
       "0       00010242fe8c5a6d1ba2dd792cb16214              1   \n",
       "1       130898c0987d1801452a8ed92a670612              1   \n",
       "2       532ed5e14e24ae1f0d735b91524b98b9              1   \n",
       "3       6f8c31653edb8c83e1a739408b5ff750              1   \n",
       "4       7d19f4ef4d04461989632411b7e588b9              1   \n",
       "...                                  ...            ...   \n",
       "111017  ffebd80e3291e811c308365936897efd              1   \n",
       "111018  ffee31fb4b5e35c9123608015637c495              1   \n",
       "111019  fff7c4452f050315db1b3f24d9df5fcd              1   \n",
       "111020  fffa82886406ccf10c7b4e35c4ff2788              1   \n",
       "111021  fffe41c64501cc87c801fd61db3f6244              1   \n",
       "\n",
       "                              product_id                         seller_id  \\\n",
       "0       4244733e06e7ecb4970a6e2683c13e61  48436dade18ac8b2bce089ec2a041202   \n",
       "1       4244733e06e7ecb4970a6e2683c13e61  48436dade18ac8b2bce089ec2a041202   \n",
       "2       4244733e06e7ecb4970a6e2683c13e61  48436dade18ac8b2bce089ec2a041202   \n",
       "3       4244733e06e7ecb4970a6e2683c13e61  48436dade18ac8b2bce089ec2a041202   \n",
       "4       4244733e06e7ecb4970a6e2683c13e61  48436dade18ac8b2bce089ec2a041202   \n",
       "...                                  ...                               ...   \n",
       "111017  4cc4d02efc8f249c13355147fb44e34d  d1c7fa84e48cfa21a0e595167c1c500e   \n",
       "111018  b10ecf8e33aaaea419a9fa860ea80fb5  0241d4d5d36f10f80c644447315af0bd   \n",
       "111019  dd469c03ad67e201bc2179ef077dcd48  7e93a43ef30c4f03f38b393420bc753a   \n",
       "111020  bbe7651fef80287a816ead73f065fc4b  8f2ce03f928b567e3d56181ae20ae952   \n",
       "111021  350688d9dc1e75ff97be326363655e01  f7ccf836d21b2fb1de37564105216cc1   \n",
       "\n",
       "        shipping_limit_date  price  freight_value  \\\n",
       "0       2017-09-19 09:45:35   58.9          13.29   \n",
       "1       2017-07-05 02:44:11   55.9          17.96   \n",
       "2       2018-05-23 10:56:25   64.9          18.33   \n",
       "3       2017-08-07 18:55:08   58.9          16.17   \n",
       "4       2017-08-16 22:05:11   58.9          13.29   \n",
       "...                     ...    ...            ...   \n",
       "111017  2018-07-18 20:23:55  129.9          51.20   \n",
       "111018  2018-08-21 10:10:11   99.0          13.52   \n",
       "111019  2017-06-07 17:05:23  736.0          20.91   \n",
       "111020  2017-12-22 17:31:42  229.9          44.02   \n",
       "111021  2018-06-12 17:10:13   43.0          12.79   \n",
       "\n",
       "       product_category_name_english  \n",
       "0                         cool_stuff  \n",
       "1                         cool_stuff  \n",
       "2                         cool_stuff  \n",
       "3                         cool_stuff  \n",
       "4                         cool_stuff  \n",
       "...                              ...  \n",
       "111017                  garden_tools  \n",
       "111018               furniture_decor  \n",
       "111019                 watches_gifts  \n",
       "111020                sports_leisure  \n",
       "111021                bed_bath_table  \n",
       "\n",
       "[111022 rows x 8 columns]"
      ]
     },
     "execution_count": 182,
     "metadata": {
     },
     "output_type": "execute_result"
    }
   ],
   "source": [
    "order_items_w_cat"
   ]
  },
  {
   "cell_type": "code",
   "execution_count": 184,
   "metadata": {
    "collapsed": false
   },
   "outputs": [
   ],
   "source": [
    "product_cat_reviews = pd.merge(unique_reviews, order_items_w_cat[['order_id','product_id','product_category_name_english']], on = 'order_id')"
   ]
  },
  {
   "cell_type": "code",
   "execution_count": 189,
   "metadata": {
    "collapsed": false
   },
   "outputs": [
    {
     "name": "stdout",
     "output_type": "stream",
     "text": [
      "aca2eb7d00ea1a7b8ebd4e68314663af    524\n",
      "422879e10f46682990de24d770e7f83d    486\n",
      "99a4788cb24856965c36a24e339b6058    482\n",
      "389d119b48cf3043d311335e499d9c6b    391\n",
      "368c6c730842d78016ad823897a372db    388\n",
      "                                   ... \n",
      "a12ece3f747b6aae747ca17176611aa2      1\n",
      "0ad10ec3dc489499e5d7cd19b5181ffe      1\n",
      "3b85e44a54ca23950c469c7fb1cc0e0a      1\n",
      "b4be8f8fe79a6219017a8de82c24a4ef      1\n",
      "4fb209073dc2ab6a6d3c259a7c285501      1\n",
      "Name: product_id, Length: 32170, dtype: int64\n",
      "bed_bath_table               11137\n",
      "health_beauty                 9645\n",
      "sports_leisure                8640\n",
      "furniture_decor               8331\n",
      "computers_accessories         7849\n",
      "                             ...  \n",
      "arts_and_craftmanship           24\n",
      "cds_dvds_musicals               14\n",
      "la_cuisine                      13\n",
      "fashion_childrens_clothes        8\n",
      "security_and_services            2\n",
      "Name: product_category_name_english, Length: 71, dtype: int64\n"
     ]
    }
   ],
   "source": [
    "print(product_cat_reviews['product_id'].value_counts())\n",
    "print(product_cat_reviews['product_category_name_english'].value_counts())"
   ]
  },
  {
   "cell_type": "code",
   "execution_count": 25,
   "metadata": {
    "collapsed": false
   },
   "outputs": [
    {
     "data": {
      "text/html": [
       "<div>\n",
       "<style scoped>\n",
       "    .dataframe tbody tr th:only-of-type {\n",
       "        vertical-align: middle;\n",
       "    }\n",
       "\n",
       "    .dataframe tbody tr th {\n",
       "        vertical-align: top;\n",
       "    }\n",
       "\n",
       "    .dataframe thead th {\n",
       "        text-align: right;\n",
       "    }\n",
       "</style>\n",
       "<table border=\"1\" class=\"dataframe\">\n",
       "  <thead>\n",
       "    <tr style=\"text-align: right;\">\n",
       "      <th></th>\n",
       "      <th>order_id</th>\n",
       "      <th>order_item_id</th>\n",
       "      <th>product_id</th>\n",
       "      <th>seller_id</th>\n",
       "      <th>shipping_limit_date</th>\n",
       "      <th>price</th>\n",
       "      <th>customer_id</th>\n",
       "      <th>customer_unique_id</th>\n",
       "      <th>customer_state</th>\n",
       "      <th>product_category_name_english</th>\n",
       "      <th>seller_state</th>\n",
       "      <th>delivery_time</th>\n",
       "      <th>estimated_delivery_time</th>\n",
       "      <th>Delivery_time_difference</th>\n",
       "    </tr>\n",
       "  </thead>\n",
       "  <tbody>\n",
       "    <tr>\n",
       "      <th>0</th>\n",
       "      <td>00010242fe8c5a6d1ba2dd792cb16214</td>\n",
       "      <td>1</td>\n",
       "      <td>4244733e06e7ecb4970a6e2683c13e61</td>\n",
       "      <td>48436dade18ac8b2bce089ec2a041202</td>\n",
       "      <td>2017-09-19 09:45:35</td>\n",
       "      <td>58.9</td>\n",
       "      <td>3ce436f183e68e07877b285a838db11a</td>\n",
       "      <td>871766c5855e863f6eccc05f988b23cb</td>\n",
       "      <td>RJ</td>\n",
       "      <td>cool_stuff</td>\n",
       "      <td>SP</td>\n",
       "      <td>7 days 13:58:13</td>\n",
       "      <td>15 days 14:14:25</td>\n",
       "      <td>8 days 00:16:12</td>\n",
       "    </tr>\n",
       "    <tr>\n",
       "      <th>1</th>\n",
       "      <td>130898c0987d1801452a8ed92a670612</td>\n",
       "      <td>1</td>\n",
       "      <td>4244733e06e7ecb4970a6e2683c13e61</td>\n",
       "      <td>48436dade18ac8b2bce089ec2a041202</td>\n",
       "      <td>2017-07-05 02:44:11</td>\n",
       "      <td>55.9</td>\n",
       "      <td>e6eecc5a77de221464d1c4eaff0a9b64</td>\n",
       "      <td>0fb8e3eab2d3e79d92bb3fffbb97f188</td>\n",
       "      <td>GO</td>\n",
       "      <td>cool_stuff</td>\n",
       "      <td>SP</td>\n",
       "      <td>14 days 17:55:18</td>\n",
       "      <td>26 days 21:15:49</td>\n",
       "      <td>12 days 03:20:31</td>\n",
       "    </tr>\n",
       "    <tr>\n",
       "      <th>2</th>\n",
       "      <td>532ed5e14e24ae1f0d735b91524b98b9</td>\n",
       "      <td>1</td>\n",
       "      <td>4244733e06e7ecb4970a6e2683c13e61</td>\n",
       "      <td>48436dade18ac8b2bce089ec2a041202</td>\n",
       "      <td>2018-05-23 10:56:25</td>\n",
       "      <td>64.9</td>\n",
       "      <td>4ef55bf80f711b372afebcb7c715344a</td>\n",
       "      <td>3419052c8c6b45daf79c1e426f9e9bcb</td>\n",
       "      <td>MG</td>\n",
       "      <td>cool_stuff</td>\n",
       "      <td>SP</td>\n",
       "      <td>17 days 06:02:43</td>\n",
       "      <td>19 days 11:28:17</td>\n",
       "      <td>2 days 05:25:34</td>\n",
       "    </tr>\n",
       "    <tr>\n",
       "      <th>3</th>\n",
       "      <td>6f8c31653edb8c83e1a739408b5ff750</td>\n",
       "      <td>1</td>\n",
       "      <td>4244733e06e7ecb4970a6e2683c13e61</td>\n",
       "      <td>48436dade18ac8b2bce089ec2a041202</td>\n",
       "      <td>2017-08-07 18:55:08</td>\n",
       "      <td>58.9</td>\n",
       "      <td>30407a72ad8b3f4df4d15369126b20c9</td>\n",
       "      <td>e7c828d22c0682c1565252deefbe334d</td>\n",
       "      <td>PR</td>\n",
       "      <td>cool_stuff</td>\n",
       "      <td>SP</td>\n",
       "      <td>8 days 02:31:25</td>\n",
       "      <td>23 days 05:04:52</td>\n",
       "      <td>15 days 02:33:27</td>\n",
       "    </tr>\n",
       "    <tr>\n",
       "      <th>4</th>\n",
       "      <td>7d19f4ef4d04461989632411b7e588b9</td>\n",
       "      <td>1</td>\n",
       "      <td>4244733e06e7ecb4970a6e2683c13e61</td>\n",
       "      <td>48436dade18ac8b2bce089ec2a041202</td>\n",
       "      <td>2017-08-16 22:05:11</td>\n",
       "      <td>58.9</td>\n",
       "      <td>91a792fef70ecd8cc69d3c7feb3d12da</td>\n",
       "      <td>0bb98ba72dcc08e95f9d8cc434e9a2cc</td>\n",
       "      <td>MG</td>\n",
       "      <td>cool_stuff</td>\n",
       "      <td>SP</td>\n",
       "      <td>13 days 21:59:10</td>\n",
       "      <td>21 days 01:54:49</td>\n",
       "      <td>7 days 03:55:39</td>\n",
       "    </tr>\n",
       "    <tr>\n",
       "      <th>...</th>\n",
       "      <td>...</td>\n",
       "      <td>...</td>\n",
       "      <td>...</td>\n",
       "      <td>...</td>\n",
       "      <td>...</td>\n",
       "      <td>...</td>\n",
       "      <td>...</td>\n",
       "      <td>...</td>\n",
       "      <td>...</td>\n",
       "      <td>...</td>\n",
       "      <td>...</td>\n",
       "      <td>...</td>\n",
       "      <td>...</td>\n",
       "      <td>...</td>\n",
       "    </tr>\n",
       "    <tr>\n",
       "      <th>111017</th>\n",
       "      <td>fdaf98feac227eb978d8f33f36e0231d</td>\n",
       "      <td>1</td>\n",
       "      <td>f739e9151702508b18f796c53005e5e9</td>\n",
       "      <td>d1aa1ec0839dcab73a6161130eb1f94a</td>\n",
       "      <td>2017-04-27 05:10:28</td>\n",
       "      <td>119.9</td>\n",
       "      <td>81ae83ce1a10af9f93fa3512bd9713b1</td>\n",
       "      <td>3d50a44231c2a153219cef76ee3e445d</td>\n",
       "      <td>RJ</td>\n",
       "      <td>furniture_decor</td>\n",
       "      <td>PR</td>\n",
       "      <td>33 days 05:42:15</td>\n",
       "      <td>30 days 18:49:32</td>\n",
       "      <td>-3 days +13:07:17</td>\n",
       "    </tr>\n",
       "    <tr>\n",
       "      <th>111018</th>\n",
       "      <td>fe68b52db13993f58175fa589125d345</td>\n",
       "      <td>1</td>\n",
       "      <td>f4135cbdece8245560f7be179533797a</td>\n",
       "      <td>3fefda3299e6dfaea3466ef346a3571a</td>\n",
       "      <td>2017-08-17 02:55:27</td>\n",
       "      <td>209.0</td>\n",
       "      <td>94203a446c1b46b5ac95b0aaf7221804</td>\n",
       "      <td>52a953541861bbb4b79b39df24e00243</td>\n",
       "      <td>SP</td>\n",
       "      <td>electronics</td>\n",
       "      <td>PR</td>\n",
       "      <td>5 days 14:52:28</td>\n",
       "      <td>22 days 21:04:33</td>\n",
       "      <td>17 days 06:12:05</td>\n",
       "    </tr>\n",
       "    <tr>\n",
       "      <th>111019</th>\n",
       "      <td>fefacc66af859508bf1a7934eab1e97f</td>\n",
       "      <td>1</td>\n",
       "      <td>69c590f7ffc7bf8db97190b6cb6ed62e</td>\n",
       "      <td>80ceebb4ee9b31afb6c6a916a574a1e2</td>\n",
       "      <td>2018-08-02 04:05:13</td>\n",
       "      <td>6729.0</td>\n",
       "      <td>f48d464a0baaea338cb25f816991ab1f</td>\n",
       "      <td>459bef486812aa25204be022145caa62</td>\n",
       "      <td>ES</td>\n",
       "      <td>computers</td>\n",
       "      <td>PR</td>\n",
       "      <td>19 days 10:52:37</td>\n",
       "      <td>13 days 19:54:47</td>\n",
       "      <td>-6 days +09:02:10</td>\n",
       "    </tr>\n",
       "    <tr>\n",
       "      <th>111020</th>\n",
       "      <td>ff701a7c869ad21de22a6994237c8a00</td>\n",
       "      <td>1</td>\n",
       "      <td>5ff4076c0f01eeba4f728c9e3fa2653c</td>\n",
       "      <td>3e35a8bb43569389d3cebef0ce820f69</td>\n",
       "      <td>2018-04-18 20:10:33</td>\n",
       "      <td>27.9</td>\n",
       "      <td>8f6d16c31abb30b7b4650272cb0014a3</td>\n",
       "      <td>ddb2249e0316d365ceae561c0f011bce</td>\n",
       "      <td>SP</td>\n",
       "      <td>drinks</td>\n",
       "      <td>SP</td>\n",
       "      <td>7 days 21:38:06</td>\n",
       "      <td>17 days 03:49:27</td>\n",
       "      <td>9 days 06:11:21</td>\n",
       "    </tr>\n",
       "    <tr>\n",
       "      <th>111021</th>\n",
       "      <td>ff701a7c869ad21de22a6994237c8a00</td>\n",
       "      <td>2</td>\n",
       "      <td>5ff4076c0f01eeba4f728c9e3fa2653c</td>\n",
       "      <td>3e35a8bb43569389d3cebef0ce820f69</td>\n",
       "      <td>2018-04-18 20:10:33</td>\n",
       "      <td>27.9</td>\n",
       "      <td>8f6d16c31abb30b7b4650272cb0014a3</td>\n",
       "      <td>ddb2249e0316d365ceae561c0f011bce</td>\n",
       "      <td>SP</td>\n",
       "      <td>drinks</td>\n",
       "      <td>SP</td>\n",
       "      <td>7 days 21:38:06</td>\n",
       "      <td>17 days 03:49:27</td>\n",
       "      <td>9 days 06:11:21</td>\n",
       "    </tr>\n",
       "  </tbody>\n",
       "</table>\n",
       "<p>111022 rows × 14 columns</p>\n",
       "</div>"
      ],
      "text/plain": [
       "                                order_id  order_item_id  \\\n",
       "0       00010242fe8c5a6d1ba2dd792cb16214              1   \n",
       "1       130898c0987d1801452a8ed92a670612              1   \n",
       "2       532ed5e14e24ae1f0d735b91524b98b9              1   \n",
       "3       6f8c31653edb8c83e1a739408b5ff750              1   \n",
       "4       7d19f4ef4d04461989632411b7e588b9              1   \n",
       "...                                  ...            ...   \n",
       "111017  fdaf98feac227eb978d8f33f36e0231d              1   \n",
       "111018  fe68b52db13993f58175fa589125d345              1   \n",
       "111019  fefacc66af859508bf1a7934eab1e97f              1   \n",
       "111020  ff701a7c869ad21de22a6994237c8a00              1   \n",
       "111021  ff701a7c869ad21de22a6994237c8a00              2   \n",
       "\n",
       "                              product_id                         seller_id  \\\n",
       "0       4244733e06e7ecb4970a6e2683c13e61  48436dade18ac8b2bce089ec2a041202   \n",
       "1       4244733e06e7ecb4970a6e2683c13e61  48436dade18ac8b2bce089ec2a041202   \n",
       "2       4244733e06e7ecb4970a6e2683c13e61  48436dade18ac8b2bce089ec2a041202   \n",
       "3       4244733e06e7ecb4970a6e2683c13e61  48436dade18ac8b2bce089ec2a041202   \n",
       "4       4244733e06e7ecb4970a6e2683c13e61  48436dade18ac8b2bce089ec2a041202   \n",
       "...                                  ...                               ...   \n",
       "111017  f739e9151702508b18f796c53005e5e9  d1aa1ec0839dcab73a6161130eb1f94a   \n",
       "111018  f4135cbdece8245560f7be179533797a  3fefda3299e6dfaea3466ef346a3571a   \n",
       "111019  69c590f7ffc7bf8db97190b6cb6ed62e  80ceebb4ee9b31afb6c6a916a574a1e2   \n",
       "111020  5ff4076c0f01eeba4f728c9e3fa2653c  3e35a8bb43569389d3cebef0ce820f69   \n",
       "111021  5ff4076c0f01eeba4f728c9e3fa2653c  3e35a8bb43569389d3cebef0ce820f69   \n",
       "\n",
       "        shipping_limit_date   price                       customer_id  \\\n",
       "0       2017-09-19 09:45:35    58.9  3ce436f183e68e07877b285a838db11a   \n",
       "1       2017-07-05 02:44:11    55.9  e6eecc5a77de221464d1c4eaff0a9b64   \n",
       "2       2018-05-23 10:56:25    64.9  4ef55bf80f711b372afebcb7c715344a   \n",
       "3       2017-08-07 18:55:08    58.9  30407a72ad8b3f4df4d15369126b20c9   \n",
       "4       2017-08-16 22:05:11    58.9  91a792fef70ecd8cc69d3c7feb3d12da   \n",
       "...                     ...     ...                               ...   \n",
       "111017  2017-04-27 05:10:28   119.9  81ae83ce1a10af9f93fa3512bd9713b1   \n",
       "111018  2017-08-17 02:55:27   209.0  94203a446c1b46b5ac95b0aaf7221804   \n",
       "111019  2018-08-02 04:05:13  6729.0  f48d464a0baaea338cb25f816991ab1f   \n",
       "111020  2018-04-18 20:10:33    27.9  8f6d16c31abb30b7b4650272cb0014a3   \n",
       "111021  2018-04-18 20:10:33    27.9  8f6d16c31abb30b7b4650272cb0014a3   \n",
       "\n",
       "                      customer_unique_id customer_state  \\\n",
       "0       871766c5855e863f6eccc05f988b23cb             RJ   \n",
       "1       0fb8e3eab2d3e79d92bb3fffbb97f188             GO   \n",
       "2       3419052c8c6b45daf79c1e426f9e9bcb             MG   \n",
       "3       e7c828d22c0682c1565252deefbe334d             PR   \n",
       "4       0bb98ba72dcc08e95f9d8cc434e9a2cc             MG   \n",
       "...                                  ...            ...   \n",
       "111017  3d50a44231c2a153219cef76ee3e445d             RJ   \n",
       "111018  52a953541861bbb4b79b39df24e00243             SP   \n",
       "111019  459bef486812aa25204be022145caa62             ES   \n",
       "111020  ddb2249e0316d365ceae561c0f011bce             SP   \n",
       "111021  ddb2249e0316d365ceae561c0f011bce             SP   \n",
       "\n",
       "       product_category_name_english seller_state    delivery_time  \\\n",
       "0                         cool_stuff           SP  7 days 13:58:13   \n",
       "1                         cool_stuff           SP 14 days 17:55:18   \n",
       "2                         cool_stuff           SP 17 days 06:02:43   \n",
       "3                         cool_stuff           SP  8 days 02:31:25   \n",
       "4                         cool_stuff           SP 13 days 21:59:10   \n",
       "...                              ...          ...              ...   \n",
       "111017               furniture_decor           PR 33 days 05:42:15   \n",
       "111018                   electronics           PR  5 days 14:52:28   \n",
       "111019                     computers           PR 19 days 10:52:37   \n",
       "111020                        drinks           SP  7 days 21:38:06   \n",
       "111021                        drinks           SP  7 days 21:38:06   \n",
       "\n",
       "       estimated_delivery_time Delivery_time_difference  \n",
       "0             15 days 14:14:25          8 days 00:16:12  \n",
       "1             26 days 21:15:49         12 days 03:20:31  \n",
       "2             19 days 11:28:17          2 days 05:25:34  \n",
       "3             23 days 05:04:52         15 days 02:33:27  \n",
       "4             21 days 01:54:49          7 days 03:55:39  \n",
       "...                        ...                      ...  \n",
       "111017        30 days 18:49:32        -3 days +13:07:17  \n",
       "111018        22 days 21:04:33         17 days 06:12:05  \n",
       "111019        13 days 19:54:47        -6 days +09:02:10  \n",
       "111020        17 days 03:49:27          9 days 06:11:21  \n",
       "111021        17 days 03:49:27          9 days 06:11:21  \n",
       "\n",
       "[111022 rows x 14 columns]"
      ]
     },
     "execution_count": 25,
     "metadata": {
     },
     "output_type": "execute_result"
    }
   ],
   "source": [
    "order_items_slimmed\n"
   ]
  },
  {
   "cell_type": "code",
   "execution_count": 86,
   "metadata": {
    "collapsed": false
   },
   "outputs": [
   ],
   "source": [
    "def akinator_1(unique_id):\n",
    "    r = order_items_slimmed[order_items_slimmed['customer_unique_id'] == unique_id]\n",
    "    prod_cat_r = r['product_category_name_english'].iloc[0]\n",
    "    city = r['customer_city'].iloc[0]\n",
    "    order_items_sub = order_items_slimmed[(order_items_slimmed['product_category_name_english'] == prod_cat_r) & (order_items_slimmed['customer_city'] == city)]\n",
    "    if len(order_items_sub['seller_id'].unique()) < 10:\n",
    "        state = r['customer_state'].iloc[0]\n",
    "        order_items_sub = order_items_slimmed[(order_items_slimmed['product_category_name_english'] == prod_cat_r) & (order_items_slimmed['customer_state'] == state)]\n",
    "    sorted_order_items_sub = order_items_sub.sort_values(by = ['delivery_time'])\n",
    "    rec_list_prod_id = sorted_order_items_sub.iloc[0:3,:].sort_values(by = ['price'])['product_id']\n",
    "    rec_list_prod_id = rec_list_prod_id.tolist()\n",
    "    rec_list_price = sorted_order_items_sub.iloc[0:3,:].sort_values(by = ['price'])['price']\n",
    "    rec_list_price = rec_list_price.tolist()\n",
    "    zipped_rec = zip(rec_list_prod_id, rec_list_price)\n",
    "    zipped_rec_list = list(zipped_rec)\n",
    "    new = '\\n'\n",
    "    recs = print(\n",
    "        f\"Based on your previous order history and location, we reccomend:{new}\"\n",
    "        f\"Product ID: {zipped_rec_list[0][0]} with price: ${zipped_rec_list[0][1]}{new}\"\n",
    "        f\"Product ID: {zipped_rec_list[1][0]} with price: ${zipped_rec_list[1][1]}{new}\"\n",
    "        f\"Product ID: {zipped_rec_list[2][0]} with price: ${zipped_rec_list[2][1]}\"\n",
    "    )\n",
    "    return recs\n",
    "\n"
   ]
  },
  {
   "cell_type": "code",
   "execution_count": 84,
   "metadata": {
    "collapsed": false
   },
   "outputs": [
   ],
   "source": [
    "#def akinator_multi"
   ]
  },
  {
   "cell_type": "code",
   "execution_count": 0,
   "metadata": {
    "collapsed": false
   },
   "outputs": [
   ],
   "source": [
   ]
  },
  {
   "cell_type": "code",
   "execution_count": 85,
   "metadata": {
    "collapsed": false
   },
   "outputs": [
    {
     "name": "stdout",
     "output_type": "stream",
     "text": [
      "Based on your previous order history and location, we reccomend:\n",
      "Product ID: 74e48c5377480b7d048d7b294abc569b with price: $75.0.\n",
      "Product ID: 3354a4e684f5e7199f9407db70ccd92b with price: $89.99.\n",
      "Product ID: 165f86fe8b799a708a20ee4ba125c289 with price: $169.99.\n"
     ]
    }
   ],
   "source": [
    "ok = akinator_1(\"e7c828d22c0682c1565252deefbe334d\")\n",
    "\n",
    "ok"
   ]
  },
  {
   "cell_type": "code",
   "execution_count": 92,
   "metadata": {
    "collapsed": false,
    "scrolled": true
   },
   "outputs": [
    {
     "name": "stdout",
     "output_type": "stream",
     "text": [
      "c402f431464c72e27330a67f7b94d4fb    20\n",
      "Name: customer_unique_id, dtype: int64\n"
     ]
    },
    {
     "data": {
      "text/plain": [
       "20"
      ]
     },
     "execution_count": 92,
     "metadata": {
     },
     "output_type": "execute_result"
    }
   ],
   "source": [
    "user = \"c402f431464c72e27330a67f7b94d4fb\"\n",
    "loc = order_items_slimmed['customer_unique_id'].value_counts()\n",
    "print(loc[loc.index == user])\n",
    "\n",
    "len(order_items_slimmed[order_items_slimmed['customer_unique_id']== user])"
   ]
  },
  {
   "cell_type": "code",
   "execution_count": 119,
   "metadata": {
    "collapsed": false
   },
   "outputs": [
   ],
   "source": [
    "def akinator_multi(unique_id):\n",
    "    r = order_items_slimmed[order_items_slimmed['customer_unique_id'] == unique_id]\n",
    "    prod_cat_r = r['product_category_name_english']\n",
    "    unique_cat = []\n",
    "    for n in prod_cat_r:\n",
    "        if n in unique_cat:\n",
    "            continue\n",
    "        else:\n",
    "            unique_cat.append(n)\n",
    "    city = r['customer_city'].iloc[0]\n",
    "    order_items_sub = order_items_slimmed[(order_items_slimmed['product_category_name_english'].isin(unique_cat)) & (order_items_slimmed['customer_city'] == city)]\n",
    "    if len(order_items_sub['seller_id'].unique()) < 10:\n",
    "        state = r['customer_state'].iloc[0]\n",
    "        order_items_sub = order_items_slimmed[(order_items_slimmed['product_category_name_english'].isin(unique_cat)) & (order_items_slimmed['customer_state'] == state)]\n",
    "    rec_list_prod_id = sorted_order_items_sub.iloc[0:3,:].sort_values(by = ['price'])['product_id']\n",
    "    rec_list_prod_id = rec_list_prod_id.tolist()\n",
    "    rec_list_price = sorted_order_items_sub.iloc[0:3,:].sort_values(by = ['price'])['price']\n",
    "    rec_list_price = rec_list_price.tolist()\n",
    "    zipped_rec = zip(rec_list_prod_id, rec_list_price)\n",
    "    zipped_rec_list = list(zipped_rec)\n",
    "    recs = []\n",
    "    for q in unique_cat:\n",
    "        cat_table = order_items_sub[order_items_sub['product_category_name_english']==q].sort_values(by = ['delivery_time'])\n",
    "        rec_list_prod_id = cat_table.iloc[0:3].sort_values(by = ['price'])['product_id']\n",
    "        rec_list_price= cat_table.iloc[0:3].sort_values(by = ['price'])['price']\n",
    "        rec_list_prod_id= list(rec_list_prod_id)\n",
    "        rec_list_price= list(rec_list_price)\n",
    "        zipped_rec = zip(rec_list_prod_id, rec_list_price)\n",
    "        zipped_rec_list = list(zipped_rec)\n",
    "        new = '\\n'\n",
    "        print(\n",
    "        f\"Based on your previous order history and location, we reccomend:\\n\"\n",
    "        f\"For {q}:{new}Product ID: {zipped_rec_list[0][0]} with price: ${zipped_rec_list[0][1]}{new}\"\n",
    "        f\"Product ID: {zipped_rec_list[1][0]} with price: ${zipped_rec_list[1][1]}{new}\"\n",
    "        f\"Product ID: {zipped_rec_list[2][0]} with price: ${zipped_rec_list[2][1]}\"\n",
    "    )\n",
    "\n",
    " "
   ]
  },
  {
   "cell_type": "code",
   "execution_count": 120,
   "metadata": {
    "collapsed": false
   },
   "outputs": [
    {
     "name": "stdout",
     "output_type": "stream",
     "text": [
      "Based on your previous order history and location, we reccomend:\n",
      "For telephony:\n",
      "Product ID: 010a3a47c14f1295796c08419f32cef6 with price: $9.99\n",
      "Product ID: 97017430754804328eb9597b7f85da03 with price: $27.99\n",
      "Product ID: 430d215740da7fdda91cc938f8fd92f6 with price: $104.0\n"
     ]
    }
   ],
   "source": [
    "akinator_multi(\"c8460e4251689ba205045f3ea17884a1\")"
   ]
  },
  {
   "cell_type": "code",
   "execution_count": 121,
   "metadata": {
    "collapsed": false
   },
   "outputs": [
   ],
   "source": [
    "def akinator(unique_id):\n",
    "    if len(order_items_slimmed[order_items_slimmed['customer_unique_id']== unique_id]) > 1:\n",
    "        print(\"used multi\")\n",
    "        return akinator_multi(unique_id)\n",
    "    else:\n",
    "        return akinator_1(unique_id)"
   ]
  },
  {
   "cell_type": "code",
   "execution_count": 124,
   "metadata": {
    "collapsed": false,
    "scrolled": true
   },
   "outputs": [
    {
     "name": "stdout",
     "output_type": "stream",
     "text": [
      "Based on your previous order history and location, we reccomend:\n",
      "Product ID: 057df564fda79ad8fa5e1928dfbe3e8c with price: $11.99\n",
      "Product ID: 057df564fda79ad8fa5e1928dfbe3e8c with price: $11.99\n",
      "Product ID: 057df564fda79ad8fa5e1928dfbe3e8c with price: $11.99\n"
     ]
    }
   ],
   "source": [
    "akinator(\"0fb8e3eab2d3e79d92bb3fffbb97f188\")"
   ]
  },
  {
   "cell_type": "code",
   "execution_count": 0,
   "metadata": {
    "collapsed": false
   },
   "outputs": [
   ],
   "source": [
   ]
  }
 ],
 "metadata": {
  "kernelspec": {
   "argv": [
    "/ext/anaconda2021.11/bin/python3",
    "-E",
    "-m",
    "ipykernel",
    "--matplotlib=inline",
    "-c",
    "%config InlineBackend.figure_formats = set(['retina'])\nimport matplotlib; matplotlib.rcParams['figure.figsize'] = (12, 7)",
    "-f",
    "{connection_file}"
   ],
   "display_name": "Python 3 (Anaconda 2021)",
   "env": {
    "ADDR2LINE": "/ext/anaconda2021.11/bin/x86_64-conda_cos6-linux-gnu-addr2line",
    "ANACONDA2021": "/ext/anaconda2021.11",
    "ANACONDA3": "$EXT/anaconda3",
    "ANACONDA5": "$EXT/anaconda5",
    "AR": "/ext/anaconda2021.11/bin/x86_64-conda_cos6-linux-gnu-ar",
    "AS": "/ext/anaconda2021.11/bin/x86_64-conda_cos6-linux-gnu-as",
    "CC": "/ext/anaconda2021.11/bin/x86_64-conda_cos6-linux-gnu-cc",
    "CFLAGS": "-march=nocona -mtune=haswell -ftree-vectorize -fPIC -fstack-protector-strong -fno-plt -O2 -ffunction-sections -pipe -isystem /ext/anaconda2021.11/include",
    "CMAKE_PREFIX_PATH": "/ext/anaconda2021.11:/ext/anaconda2021.11/x86_64-conda_cos6-linux-gnu/sysroot/usr",
    "CONDA_BACKUP_HOST": "x86_64-conda_cos6-linux-gnu",
    "CONDA_BUILD_SYSROOT": "/ext/anaconda2021.11/x86_64-conda_cos6-linux-gnu/sysroot",
    "CONDA_DEFAULT_ENV": "base",
    "CONDA_EXE": "/ext/anaconda2021.11/bin/conda",
    "CONDA_MKL_INTERFACE_LAYER_BACKUP": "",
    "CONDA_PREFIX": "/ext/anaconda2021.11",
    "CONDA_PROMPT_MODIFIER": "(base) ",
    "CONDA_PYTHON_EXE": "/ext/anaconda2021.11/bin/python",
    "CONDA_SHLVL": "1",
    "CPP": "/ext/anaconda2021.11/bin/x86_64-conda_cos6-linux-gnu-cpp",
    "CPPFLAGS": "-DNDEBUG -D_FORTIFY_SOURCE=2 -O2 -isystem /ext/anaconda2021.11/include",
    "CXX": "/ext/anaconda2021.11/bin/x86_64-conda_cos6-linux-gnu-c++",
    "CXXFILT": "/ext/anaconda2021.11/bin/x86_64-conda_cos6-linux-gnu-c++filt",
    "CXXFLAGS": "-fvisibility-inlines-hidden -std=c++17 -fmessage-length=0 -march=nocona -mtune=haswell -ftree-vectorize -fPIC -fstack-protector-strong -fno-plt -O2 -ffunction-sections -pipe -isystem /ext/anaconda2021.11/include",
    "DEBUG_CFLAGS": "-march=nocona -mtune=haswell -ftree-vectorize -fPIC -fstack-protector-all -fno-plt -Og -g -Wall -Wextra -fvar-tracking-assignments -ffunction-sections -pipe -isystem /ext/anaconda2021.11/include",
    "DEBUG_CPPFLAGS": "-D_DEBUG -D_FORTIFY_SOURCE=2 -Og -isystem /ext/anaconda2021.11/include",
    "DEBUG_CXXFLAGS": "-fvisibility-inlines-hidden -std=c++17 -fmessage-length=0 -march=nocona -mtune=haswell -ftree-vectorize -fPIC -fstack-protector-all -fno-plt -Og -g -Wall -Wextra -fvar-tracking-assignments -ffunction-sections -pipe -isystem /ext/anaconda2021.11/include",
    "DEBUG_FFLAGS": "-fopenmp -march=nocona -mtune=haswell -ftree-vectorize -fPIC -fstack-protector-strong -fno-plt -O2 -ffunction-sections -pipe -isystem /ext/anaconda2021.11/include -fopenmp -march=nocona -mtune=haswell -ftree-vectorize -fPIC -fstack-protector-all -fno-plt -Og -g -Wall -Wextra -fcheck=all -fbacktrace -fimplicit-none -fvar-tracking-assignments -ffunction-sections -pipe",
    "DEBUG_FORTRANFLAGS": "-fopenmp -march=nocona -mtune=haswell -ftree-vectorize -fPIC -fstack-protector-strong -fno-plt -O2 -ffunction-sections -pipe -isystem /ext/anaconda2021.11/include -fopenmp -march=nocona -mtune=haswell -ftree-vectorize -fPIC -fstack-protector-all -fno-plt -Og -g -Wall -Wextra -fcheck=all -fbacktrace -fimplicit-none -fvar-tracking-assignments -ffunction-sections -pipe",
    "ELFEDIT": "/ext/anaconda2021.11/bin/x86_64-conda_cos6-linux-gnu-elfedit",
    "F77": "/ext/anaconda2021.11/bin/x86_64-conda_cos6-linux-gnu-gfortran",
    "F90": "/ext/anaconda2021.11/bin/x86_64-conda_cos6-linux-gnu-gfortran",
    "F95": "/ext/anaconda2021.11/bin/x86_64-conda_cos6-linux-gnu-f95",
    "FC": "/ext/anaconda2021.11/bin/x86_64-conda_cos6-linux-gnu-gfortran",
    "FFLAGS": "-fopenmp -march=nocona -mtune=haswell -ftree-vectorize -fPIC -fstack-protector-strong -fno-plt -O2 -ffunction-sections -pipe -isystem /ext/anaconda2021.11/include",
    "FORTRANFLAGS": "-fopenmp -march=nocona -mtune=haswell -ftree-vectorize -fPIC -fstack-protector-strong -fno-plt -O2 -ffunction-sections -pipe -isystem /ext/anaconda2021.11/include",
    "GCC": "/ext/anaconda2021.11/bin/x86_64-conda_cos6-linux-gnu-gcc",
    "GCC_AR": "/ext/anaconda2021.11/bin/x86_64-conda_cos6-linux-gnu-gcc-ar",
    "GCC_NM": "/ext/anaconda2021.11/bin/x86_64-conda_cos6-linux-gnu-gcc-nm",
    "GCC_RANLIB": "/ext/anaconda2021.11/bin/x86_64-conda_cos6-linux-gnu-gcc-ranlib",
    "GDAL_DATA": "/ext/anaconda2021.11/share/gdal",
    "GFORTRAN": "/ext/anaconda2021.11/bin/x86_64-conda_cos6-linux-gnu-gfortran",
    "GPROF": "/ext/anaconda2021.11/bin/x86_64-conda_cos6-linux-gnu-gprof",
    "GXX": "/ext/anaconda2021.11/bin/x86_64-conda_cos6-linux-gnu-g++",
    "JAVA_HOME": "/ext/anaconda2021.11",
    "JAVA_HOME_CONDA_BACKUP": "",
    "JAVA_LD_LIBRARY_PATH": "/ext/anaconda2021.11/lib/server",
    "LD": "/ext/anaconda2021.11/bin/x86_64-conda_cos6-linux-gnu-ld",
    "LDFLAGS": "-Wl,-O2 -Wl,--sort-common -Wl,--as-needed -Wl,-z,relro -Wl,-z,now -Wl,--disable-new-dtags -Wl,--gc-sections -Wl,-rpath,/ext/anaconda2021.11/lib -Wl,-rpath-link,/ext/anaconda2021.11/lib -L/ext/anaconda2021.11/lib",
    "LD_GOLD": "/ext/anaconda2021.11/bin/x86_64-conda_cos6-linux-gnu-ld.gold",
    "LD_LIBRARY_PATH": "/ext/anaconda2021.11/lib",
    "MKL_INTERFACE_LAYER": "LP64,GNU",
    "MKL_THREADING_LAYER": "GNU",
    "NM": "/ext/anaconda2021.11/bin/x86_64-conda_cos6-linux-gnu-nm",
    "OBJCOPY": "/ext/anaconda2021.11/bin/x86_64-conda_cos6-linux-gnu-objcopy",
    "OBJDUMP": "/ext/anaconda2021.11/bin/x86_64-conda_cos6-linux-gnu-objdump",
    "OLDPWD": "/ext/anaconda2021.11",
    "PATH": "/ext/anaconda2021.11/bin:/ext/anaconda2021.11/bin:/ext/anaconda2021.11/condabin:/cocalc/bin:/cocalc/src/smc-project/bin:/home/salvus/bin:/home/salvus/.local/bin:/usr/lib/xpra:/ext/bin:/opt/ghc/bin:/usr/local/sbin:/usr/local/bin:/usr/sbin:/usr/bin:/sbin:/bin:/snap/bin:/usr/lib/postgresql/10/bin:/ext/data/homer/bin:/ext/data/weblogo",
    "PROJ_LIB": "/ext/anaconda2021.11/share/proj",
    "RANLIB": "/ext/anaconda2021.11/bin/x86_64-conda_cos6-linux-gnu-ranlib",
    "READELF": "/ext/anaconda2021.11/bin/x86_64-conda_cos6-linux-gnu-readelf",
    "RSTUDIO_WHICH_R": "/ext/anaconda2021.11/bin/R",
    "SIZE": "/ext/anaconda2021.11/bin/x86_64-conda_cos6-linux-gnu-size",
    "STRINGS": "/ext/anaconda2021.11/bin/x86_64-conda_cos6-linux-gnu-strings",
    "STRIP": "/ext/anaconda2021.11/bin/x86_64-conda_cos6-linux-gnu-strip",
    "_CE_CONDA": "",
    "_CE_M": "",
    "_CONDA_PYTHON_SYSCONFIGDATA_NAME": "_sysconfigdata_x86_64_conda_cos6_linux_gnu"
   },
   "language": "python",
   "metadata": {
    "cocalc": {
     "description": "Anaconda 2021.11 Python 3 environment",
     "priority": 10,
     "url": "https://www.anaconda.com/distribution/"
    }
   },
   "name": "anaconda2021",
   "resource_dir": "/ext/jupyter/kernels/anaconda2021"
  },
  "language_info": {
   "codemirror_mode": {
    "name": "ipython",
    "version": 3
   },
   "file_extension": ".py",
   "mimetype": "text/x-python",
   "name": "python",
   "nbconvert_exporter": "python",
   "pygments_lexer": "ipython3",
   "version": "3.9.7"
  }
 },
 "nbformat": 4,
 "nbformat_minor": 4
}